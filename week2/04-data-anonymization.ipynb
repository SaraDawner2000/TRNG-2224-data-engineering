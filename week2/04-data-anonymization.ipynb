{
 "cells": [
  {
   "cell_type": "markdown",
   "id": "07b642d2",
   "metadata": {},
   "source": [
    "# Data Anonymization techniques\n",
    "\n",
    "- Masking: Hiding part of sensitive data (e.g., email, SSN, phone).\n",
    "- Hashing: Replacing data with irreversible hashed values (ideal for IDs).\n",
    "- Tokenization/Pseudonymization: Replacing sensitive values with random tokens that can be reversed later using a lookup table.\n",
    "- Redaction/Removal: Completely removing sensitive columns or rows.\n",
    "- Generalization:  Reducing precision to hide exact values.\n",
    "- Noise Addition: Altering values slightly to hide exact data (esp. for analytics).\n",
    "- NER - Named entity recognition\n",
    "\n",
    "[microsoft presidio](https://microsoft.github.io/presidio/)"
   ]
  },
  {
   "cell_type": "code",
   "execution_count": 1,
   "id": "01d8718c",
   "metadata": {},
   "outputs": [
    {
     "name": "stderr",
     "output_type": "stream",
     "text": [
      "Picked up JAVA_TOOL_OPTIONS: -XX:+UseContainerSupport -XX:ActiveProcessorCount=1\n",
      "Picked up JAVA_TOOL_OPTIONS: -XX:+UseContainerSupport -XX:ActiveProcessorCount=1\n",
      "WARNING: Using incubator modules: jdk.incubator.vector\n",
      "Using Spark's default log4j profile: org/apache/spark/log4j2-defaults.properties\n",
      "25/07/03 19:00:21 WARN Utils: Your hostname, krishnagopi-trng2224dat-g3q9nc1wf47, resolves to a loopback address: 127.0.0.1; using 10.0.5.2 instead (on interface eth0)\n",
      "25/07/03 19:00:21 WARN Utils: Set SPARK_LOCAL_IP if you need to bind to another address\n",
      "Using Spark's default log4j profile: org/apache/spark/log4j2-defaults.properties\n",
      "Setting default log level to \"WARN\".\n",
      "To adjust logging level use sc.setLogLevel(newLevel). For SparkR, use setLogLevel(newLevel).\n",
      "25/07/03 19:00:22 WARN NativeCodeLoader: Unable to load native-hadoop library for your platform... using builtin-java classes where applicable\n",
      "25/07/03 19:00:23 WARN Utils: Service 'SparkUI' could not bind on port 4040. Attempting port 4041.\n"
     ]
    }
   ],
   "source": [
    "# setup\n",
    "\n",
    "from pyspark.sql import SparkSession\n",
    "from pyspark.sql.functions import *\n",
    "\n",
    "spark = SparkSession.builder.appName(\"UsersAnynomization\").getOrCreate()\n",
    "\n"
   ]
  },
  {
   "cell_type": "code",
   "execution_count": 2,
   "id": "32fbcee2",
   "metadata": {},
   "outputs": [],
   "source": [
    "# load the user data\n",
    "\n",
    "users_df = spark.read.csv(\"/workspace/TRNG-2224-data-engineering/week2/datasets/user_data.csv\", header=True, inferSchema=True)\n"
   ]
  },
  {
   "cell_type": "code",
   "execution_count": 3,
   "id": "f0bdcf80",
   "metadata": {},
   "outputs": [
    {
     "name": "stdout",
     "output_type": "stream",
     "text": [
      "+---------------+-------------------+-----------+--------------------+----------+----------------+---------+---+--------------------+\n",
      "|           name|              phone|        ssn|             address|       dob|     credit_card|   salary|age|        email_masked|\n",
      "+---------------+-------------------+-----------+--------------------+----------+----------------+---------+---+--------------------+\n",
      "|   Allison Hill|       890.838.6379|285-01-2616|2351 Noah Knolls ...|1997-04-12|3593103413164756|106731.22| 19|    *****@miller.com|\n",
      "| Henry Santiago|       503.056.4139|898-92-5156|7242 Julie Plain ...|2005-12-07|    502022691666|118986.06| 33| *****@gray-mayo.net|\n",
      "|     Julie King|(270)482-8148x93252|553-68-0010|15430 Natalie Com...|1990-05-30|3538346578713317| 56785.29| 65|*****@mack-peters...|\n",
      "|     Kevin Hall|       834-738-2997|249-61-6670|656 Owens Stream,...|1977-08-04|2243387262473170| 42299.42| 65|     *****@jones.com|\n",
      "|Savannah Garcia| (026)064-7468x7234|223-08-9490|500 Shaw Walk, No...|1994-12-29|2246193990916994|137061.55| 23|   *****@russell.com|\n",
      "|  Taylor Harris|  751-079-9118x3842|358-09-4003|8498 Elizabeth Pl...|1962-05-10|2702449353487404| 100859.1| 20|   *****@hotmail.com|\n",
      "|      Jeff Hill|       280-598-2620|316-47-0654|PSC 3315, Box 869...|1966-07-20|6011256342160738| 33575.67| 31|     *****@ramos.com|\n",
      "|  Thomas Bailey|  (868)501-4294x019|445-45-5140|9340 Smith Valley...|1975-11-12|4484656482366297| 57919.31| 56|*****@ramirez-jon...|\n",
      "|  Jennifer Bass| 777-387-2148x95134|231-26-2415|9176 Jennifer Lig...|2005-08-09|2332870831727889| 33184.32| 30|   *****@hotmail.com|\n",
      "+---------------+-------------------+-----------+--------------------+----------+----------------+---------+---+--------------------+\n",
      "only showing top 9 rows\n"
     ]
    }
   ],
   "source": [
    "# masking email \n",
    "\n",
    "df_anonymous = users_df.withColumn(\"email_masked\", regexp_replace(\"email\", r\"(^[^@]+)\", \"*****\")).drop(\"email\")\n",
    "\n",
    "df_anonymous.show(9)\n"
   ]
  },
  {
   "cell_type": "code",
   "execution_count": 4,
   "id": "e619232f",
   "metadata": {},
   "outputs": [
    {
     "name": "stdout",
     "output_type": "stream",
     "text": [
      "+---------------+-------------------+--------------------+----------+---------+---+--------------------+--------------------+--------------------+\n",
      "|           name|              phone|             address|       dob|   salary|age|        email_masked|          ssn_hashed|  credit_card_hashed|\n",
      "+---------------+-------------------+--------------------+----------+---------+---+--------------------+--------------------+--------------------+\n",
      "|   Allison Hill|       890.838.6379|2351 Noah Knolls ...|1997-04-12|106731.22| 19|    *****@miller.com|008086ac7ca8b9a6e...|0c2d6bde8ca8b897c...|\n",
      "| Henry Santiago|       503.056.4139|7242 Julie Plain ...|2005-12-07|118986.06| 33| *****@gray-mayo.net|2c3bcc4e0548a22d0...|d90061ff1ffcae495...|\n",
      "|     Julie King|(270)482-8148x93252|15430 Natalie Com...|1990-05-30| 56785.29| 65|*****@mack-peters...|10f969724f1d084a2...|950ba19626f680c22...|\n",
      "|     Kevin Hall|       834-738-2997|656 Owens Stream,...|1977-08-04| 42299.42| 65|     *****@jones.com|5319fce4d03ef76c7...|8ed7ce95ac75be6ed...|\n",
      "|Savannah Garcia| (026)064-7468x7234|500 Shaw Walk, No...|1994-12-29|137061.55| 23|   *****@russell.com|ff52ccf9c574fe880...|b606a4ab531e5cdb3...|\n",
      "|  Taylor Harris|  751-079-9118x3842|8498 Elizabeth Pl...|1962-05-10| 100859.1| 20|   *****@hotmail.com|09a1e91662bea9daa...|aad9858c7a7f5721f...|\n",
      "|      Jeff Hill|       280-598-2620|PSC 3315, Box 869...|1966-07-20| 33575.67| 31|     *****@ramos.com|0c84e06a10681d35e...|15c64d0e00152bc9a...|\n",
      "|  Thomas Bailey|  (868)501-4294x019|9340 Smith Valley...|1975-11-12| 57919.31| 56|*****@ramirez-jon...|26872f6cdac7cfa0a...|ac9aba0a7a89def0b...|\n",
      "|  Jennifer Bass| 777-387-2148x95134|9176 Jennifer Lig...|2005-08-09| 33184.32| 30|   *****@hotmail.com|6bb4861a8960a1dae...|e4e3a40be5bbc9941...|\n",
      "+---------------+-------------------+--------------------+----------+---------+---+--------------------+--------------------+--------------------+\n",
      "only showing top 9 rows\n"
     ]
    }
   ],
   "source": [
    "# hashing SSN credit card\n",
    "\n",
    "df_anonymous = df_anonymous.withColumn(\"ssn_hashed\", sha2(col(\"ssn\"), 256)) \\\n",
    "    .withColumn(\"credit_card_hashed\", sha2(col(\"credit_card\").cast(\"string\"), 256)) \\\n",
    "        .drop(\"ssn\", \"credit_card\")\n",
    "\n",
    "df_anonymous.show(9)\n",
    "\n",
    "\n"
   ]
  },
  {
   "cell_type": "code",
   "execution_count": 5,
   "id": "ebb68922",
   "metadata": {},
   "outputs": [],
   "source": [
    "# generaliation\n",
    "\n",
    "df_anonymous = df_anonymous.withColumn(\"age_range\", when(col(\"age\") <18, \"<18\")\n",
    "                .when(col(\"age\") <30 , \"18-29\")\n",
    "                .when(col(\"age\") <50 , \"30-49\")\n",
    "                .otherwise(\"50+\")).drop(\"age\", \"dob\")\n",
    "\n",
    "\n"
   ]
  },
  {
   "cell_type": "code",
   "execution_count": 6,
   "id": "78a9c6d4",
   "metadata": {},
   "outputs": [
    {
     "name": "stdout",
     "output_type": "stream",
     "text": [
      "+---------------+-------------------+--------------------+--------------------+--------------------+--------------------+---------+------------------+\n",
      "|           name|              phone|             address|        email_masked|          ssn_hashed|  credit_card_hashed|age_range|      salary_noise|\n",
      "+---------------+-------------------+--------------------+--------------------+--------------------+--------------------+---------+------------------+\n",
      "|   Allison Hill|       890.838.6379|2351 Noah Knolls ...|    *****@miller.com|008086ac7ca8b9a6e...|0c2d6bde8ca8b897c...|    18-29|168393.67545680012|\n",
      "| Henry Santiago|       503.056.4139|7242 Julie Plain ...| *****@gray-mayo.net|2c3bcc4e0548a22d0...|d90061ff1ffcae495...|    30-49| 163552.3417348249|\n",
      "|     Julie King|(270)482-8148x93252|15430 Natalie Com...|*****@mack-peters...|10f969724f1d084a2...|950ba19626f680c22...|      50+| 80278.35866307226|\n",
      "|     Kevin Hall|       834-738-2997|656 Owens Stream,...|     *****@jones.com|5319fce4d03ef76c7...|8ed7ce95ac75be6ed...|      50+|117010.92348861654|\n",
      "|Savannah Garcia| (026)064-7468x7234|500 Shaw Walk, No...|   *****@russell.com|ff52ccf9c574fe880...|b606a4ab531e5cdb3...|    18-29|156790.16617491405|\n",
      "|  Taylor Harris|  751-079-9118x3842|8498 Elizabeth Pl...|   *****@hotmail.com|09a1e91662bea9daa...|aad9858c7a7f5721f...|    18-29| 140950.5263376423|\n",
      "|      Jeff Hill|       280-598-2620|PSC 3315, Box 869...|     *****@ramos.com|0c84e06a10681d35e...|15c64d0e00152bc9a...|    30-49| 49582.98154436661|\n",
      "|  Thomas Bailey|  (868)501-4294x019|9340 Smith Valley...|*****@ramirez-jon...|26872f6cdac7cfa0a...|ac9aba0a7a89def0b...|      50+|155288.85482651336|\n",
      "|  Jennifer Bass| 777-387-2148x95134|9176 Jennifer Lig...|   *****@hotmail.com|6bb4861a8960a1dae...|e4e3a40be5bbc9941...|    30-49| 46699.50399370531|\n",
      "+---------------+-------------------+--------------------+--------------------+--------------------+--------------------+---------+------------------+\n",
      "only showing top 9 rows\n"
     ]
    }
   ],
   "source": [
    "# noise addition to salary\n",
    "\n",
    "df_anonymous = df_anonymous.withColumn(\"salary_noise\", (col(\"salary\") + (rand() *100000 - 500)).cast(\"double\")).drop(\"salary\")\n",
    "\n",
    "df_anonymous.show(9)\n",
    "\n"
   ]
  },
  {
   "cell_type": "code",
   "execution_count": 7,
   "id": "9b585f3d",
   "metadata": {},
   "outputs": [
    {
     "name": "stderr",
     "output_type": "stream",
     "text": [
      "                                                                                \r"
     ]
    }
   ],
   "source": [
    "# save the changes\n",
    "\n",
    "df_anonymous.write.saveAsTable(\"users_cleaned\")\n"
   ]
  },
  {
   "cell_type": "code",
   "execution_count": 8,
   "id": "c3e4fa84",
   "metadata": {},
   "outputs": [
    {
     "name": "stdout",
     "output_type": "stream",
     "text": [
      "Defaulting to user installation because normal site-packages is not writeable\n",
      "Requirement already satisfied: presidio-analyzer in /workspace/.pyenv_mirror/user/current/lib/python3.10/site-packages (2.2.358)\n",
      "Requirement already satisfied: presidio_structured in /workspace/.pyenv_mirror/user/current/lib/python3.10/site-packages (0.0.5a0)\n",
      "Requirement already satisfied: presidio-anonymizer in /workspace/.pyenv_mirror/user/current/lib/python3.10/site-packages (2.2.358)\n",
      "Requirement already satisfied: faker in /workspace/.pyenv_mirror/user/current/lib/python3.10/site-packages (37.4.0)\n",
      "Requirement already satisfied: pandas in /workspace/.pyenv_mirror/user/current/lib/python3.10/site-packages (2.3.0)\n",
      "Requirement already satisfied: tldextract in /workspace/.pyenv_mirror/user/current/lib/python3.10/site-packages (from presidio-analyzer) (5.3.0)\n",
      "Requirement already satisfied: regex in /workspace/.pyenv_mirror/user/current/lib/python3.10/site-packages (from presidio-analyzer) (2024.11.6)\n",
      "Requirement already satisfied: phonenumbers<9.0.0,>=8.12 in /workspace/.pyenv_mirror/user/current/lib/python3.10/site-packages (from presidio-analyzer) (8.13.55)\n",
      "Requirement already satisfied: pyyaml in /usr/lib/python3/dist-packages (from presidio-analyzer) (5.4.1)\n",
      "Requirement already satisfied: spacy!=3.7.0,<4.0.0,>=3.4.4 in /workspace/.pyenv_mirror/user/current/lib/python3.10/site-packages (from presidio-analyzer) (3.8.7)\n",
      "Requirement already satisfied: cryptography<44.1 in /usr/lib/python3/dist-packages (from presidio-anonymizer) (3.4.8)\n",
      "Requirement already satisfied: tzdata in /workspace/.pyenv_mirror/user/current/lib/python3.10/site-packages (from faker) (2025.2)\n",
      "Requirement already satisfied: python-dateutil>=2.8.2 in /workspace/.pyenv_mirror/user/current/lib/python3.10/site-packages (from pandas) (2.9.0.post0)\n",
      "Requirement already satisfied: pytz>=2020.1 in /workspace/.pyenv_mirror/user/current/lib/python3.10/site-packages (from pandas) (2025.2)\n",
      "Requirement already satisfied: numpy>=1.22.4 in /workspace/.pyenv_mirror/user/current/lib/python3.10/site-packages (from pandas) (2.2.6)\n",
      "Requirement already satisfied: six>=1.5 in /usr/lib/python3/dist-packages (from python-dateutil>=2.8.2->pandas) (1.16.0)\n",
      "Requirement already satisfied: srsly<3.0.0,>=2.4.3 in /workspace/.pyenv_mirror/user/current/lib/python3.10/site-packages (from spacy!=3.7.0,<4.0.0,>=3.4.4->presidio-analyzer) (2.5.1)\n",
      "Requirement already satisfied: setuptools in /usr/lib/python3/dist-packages (from spacy!=3.7.0,<4.0.0,>=3.4.4->presidio-analyzer) (59.6.0)\n",
      "Requirement already satisfied: tqdm<5.0.0,>=4.38.0 in /workspace/.pyenv_mirror/user/current/lib/python3.10/site-packages (from spacy!=3.7.0,<4.0.0,>=3.4.4->presidio-analyzer) (4.67.1)\n",
      "Requirement already satisfied: weasel<0.5.0,>=0.1.0 in /workspace/.pyenv_mirror/user/current/lib/python3.10/site-packages (from spacy!=3.7.0,<4.0.0,>=3.4.4->presidio-analyzer) (0.4.1)\n",
      "Requirement already satisfied: catalogue<2.1.0,>=2.0.6 in /workspace/.pyenv_mirror/user/current/lib/python3.10/site-packages (from spacy!=3.7.0,<4.0.0,>=3.4.4->presidio-analyzer) (2.0.10)\n",
      "Requirement already satisfied: wasabi<1.2.0,>=0.9.1 in /workspace/.pyenv_mirror/user/current/lib/python3.10/site-packages (from spacy!=3.7.0,<4.0.0,>=3.4.4->presidio-analyzer) (1.1.3)\n",
      "Requirement already satisfied: packaging>=20.0 in /workspace/.pyenv_mirror/user/current/lib/python3.10/site-packages (from spacy!=3.7.0,<4.0.0,>=3.4.4->presidio-analyzer) (25.0)\n",
      "Requirement already satisfied: spacy-loggers<2.0.0,>=1.0.0 in /workspace/.pyenv_mirror/user/current/lib/python3.10/site-packages (from spacy!=3.7.0,<4.0.0,>=3.4.4->presidio-analyzer) (1.0.5)\n",
      "Requirement already satisfied: cymem<2.1.0,>=2.0.2 in /workspace/.pyenv_mirror/user/current/lib/python3.10/site-packages (from spacy!=3.7.0,<4.0.0,>=3.4.4->presidio-analyzer) (2.0.11)\n",
      "Requirement already satisfied: spacy-legacy<3.1.0,>=3.0.11 in /workspace/.pyenv_mirror/user/current/lib/python3.10/site-packages (from spacy!=3.7.0,<4.0.0,>=3.4.4->presidio-analyzer) (3.0.12)\n",
      "Requirement already satisfied: typer<1.0.0,>=0.3.0 in /workspace/.pyenv_mirror/user/current/lib/python3.10/site-packages (from spacy!=3.7.0,<4.0.0,>=3.4.4->presidio-analyzer) (0.16.0)\n",
      "Requirement already satisfied: jinja2 in /workspace/.pyenv_mirror/user/current/lib/python3.10/site-packages (from spacy!=3.7.0,<4.0.0,>=3.4.4->presidio-analyzer) (3.1.6)\n",
      "Requirement already satisfied: murmurhash<1.1.0,>=0.28.0 in /workspace/.pyenv_mirror/user/current/lib/python3.10/site-packages (from spacy!=3.7.0,<4.0.0,>=3.4.4->presidio-analyzer) (1.0.13)\n",
      "Requirement already satisfied: pydantic!=1.8,!=1.8.1,<3.0.0,>=1.7.4 in /workspace/.pyenv_mirror/user/current/lib/python3.10/site-packages (from spacy!=3.7.0,<4.0.0,>=3.4.4->presidio-analyzer) (2.11.7)\n",
      "Requirement already satisfied: thinc<8.4.0,>=8.3.4 in /workspace/.pyenv_mirror/user/current/lib/python3.10/site-packages (from spacy!=3.7.0,<4.0.0,>=3.4.4->presidio-analyzer) (8.3.6)\n",
      "Requirement already satisfied: langcodes<4.0.0,>=3.2.0 in /workspace/.pyenv_mirror/user/current/lib/python3.10/site-packages (from spacy!=3.7.0,<4.0.0,>=3.4.4->presidio-analyzer) (3.5.0)\n",
      "Requirement already satisfied: preshed<3.1.0,>=3.0.2 in /workspace/.pyenv_mirror/user/current/lib/python3.10/site-packages (from spacy!=3.7.0,<4.0.0,>=3.4.4->presidio-analyzer) (3.0.10)\n",
      "Requirement already satisfied: requests<3.0.0,>=2.13.0 in /workspace/.pyenv_mirror/user/current/lib/python3.10/site-packages (from spacy!=3.7.0,<4.0.0,>=3.4.4->presidio-analyzer) (2.32.4)\n",
      "Requirement already satisfied: requests-file>=1.4 in /workspace/.pyenv_mirror/user/current/lib/python3.10/site-packages (from tldextract->presidio-analyzer) (2.1.0)\n",
      "Requirement already satisfied: idna in /workspace/.pyenv_mirror/user/current/lib/python3.10/site-packages (from tldextract->presidio-analyzer) (3.10)\n",
      "Requirement already satisfied: filelock>=3.0.8 in /workspace/.pyenv_mirror/user/current/lib/python3.10/site-packages (from tldextract->presidio-analyzer) (3.18.0)\n",
      "Requirement already satisfied: language-data>=1.2 in /workspace/.pyenv_mirror/user/current/lib/python3.10/site-packages (from langcodes<4.0.0,>=3.2.0->spacy!=3.7.0,<4.0.0,>=3.4.4->presidio-analyzer) (1.3.0)\n",
      "Requirement already satisfied: typing-inspection>=0.4.0 in /workspace/.pyenv_mirror/user/current/lib/python3.10/site-packages (from pydantic!=1.8,!=1.8.1,<3.0.0,>=1.7.4->spacy!=3.7.0,<4.0.0,>=3.4.4->presidio-analyzer) (0.4.1)\n",
      "Requirement already satisfied: typing-extensions>=4.12.2 in /workspace/.pyenv_mirror/user/current/lib/python3.10/site-packages (from pydantic!=1.8,!=1.8.1,<3.0.0,>=1.7.4->spacy!=3.7.0,<4.0.0,>=3.4.4->presidio-analyzer) (4.14.0)\n",
      "Requirement already satisfied: pydantic-core==2.33.2 in /workspace/.pyenv_mirror/user/current/lib/python3.10/site-packages (from pydantic!=1.8,!=1.8.1,<3.0.0,>=1.7.4->spacy!=3.7.0,<4.0.0,>=3.4.4->presidio-analyzer) (2.33.2)\n",
      "Requirement already satisfied: annotated-types>=0.6.0 in /workspace/.pyenv_mirror/user/current/lib/python3.10/site-packages (from pydantic!=1.8,!=1.8.1,<3.0.0,>=1.7.4->spacy!=3.7.0,<4.0.0,>=3.4.4->presidio-analyzer) (0.7.0)\n",
      "Requirement already satisfied: certifi>=2017.4.17 in /workspace/.pyenv_mirror/user/current/lib/python3.10/site-packages (from requests<3.0.0,>=2.13.0->spacy!=3.7.0,<4.0.0,>=3.4.4->presidio-analyzer) (2025.6.15)\n",
      "Requirement already satisfied: urllib3<3,>=1.21.1 in /workspace/.pyenv_mirror/user/current/lib/python3.10/site-packages (from requests<3.0.0,>=2.13.0->spacy!=3.7.0,<4.0.0,>=3.4.4->presidio-analyzer) (2.5.0)\n",
      "Requirement already satisfied: charset_normalizer<4,>=2 in /workspace/.pyenv_mirror/user/current/lib/python3.10/site-packages (from requests<3.0.0,>=2.13.0->spacy!=3.7.0,<4.0.0,>=3.4.4->presidio-analyzer) (3.4.2)\n",
      "Requirement already satisfied: blis<1.4.0,>=1.3.0 in /workspace/.pyenv_mirror/user/current/lib/python3.10/site-packages (from thinc<8.4.0,>=8.3.4->spacy!=3.7.0,<4.0.0,>=3.4.4->presidio-analyzer) (1.3.0)\n",
      "Requirement already satisfied: confection<1.0.0,>=0.0.1 in /workspace/.pyenv_mirror/user/current/lib/python3.10/site-packages (from thinc<8.4.0,>=8.3.4->spacy!=3.7.0,<4.0.0,>=3.4.4->presidio-analyzer) (0.1.5)\n",
      "Requirement already satisfied: rich>=10.11.0 in /workspace/.pyenv_mirror/user/current/lib/python3.10/site-packages (from typer<1.0.0,>=0.3.0->spacy!=3.7.0,<4.0.0,>=3.4.4->presidio-analyzer) (14.0.0)\n",
      "Requirement already satisfied: click>=8.0.0 in /workspace/.pyenv_mirror/user/current/lib/python3.10/site-packages (from typer<1.0.0,>=0.3.0->spacy!=3.7.0,<4.0.0,>=3.4.4->presidio-analyzer) (8.2.1)\n",
      "Requirement already satisfied: shellingham>=1.3.0 in /workspace/.pyenv_mirror/user/current/lib/python3.10/site-packages (from typer<1.0.0,>=0.3.0->spacy!=3.7.0,<4.0.0,>=3.4.4->presidio-analyzer) (1.5.4)\n",
      "Requirement already satisfied: smart-open<8.0.0,>=5.2.1 in /workspace/.pyenv_mirror/user/current/lib/python3.10/site-packages (from weasel<0.5.0,>=0.1.0->spacy!=3.7.0,<4.0.0,>=3.4.4->presidio-analyzer) (7.3.0.post1)\n",
      "Requirement already satisfied: cloudpathlib<1.0.0,>=0.7.0 in /workspace/.pyenv_mirror/user/current/lib/python3.10/site-packages (from weasel<0.5.0,>=0.1.0->spacy!=3.7.0,<4.0.0,>=3.4.4->presidio-analyzer) (0.21.1)\n",
      "Requirement already satisfied: MarkupSafe>=2.0 in /workspace/.pyenv_mirror/user/current/lib/python3.10/site-packages (from jinja2->spacy!=3.7.0,<4.0.0,>=3.4.4->presidio-analyzer) (3.0.2)\n",
      "Requirement already satisfied: marisa-trie>=1.1.0 in /workspace/.pyenv_mirror/user/current/lib/python3.10/site-packages (from language-data>=1.2->langcodes<4.0.0,>=3.2.0->spacy!=3.7.0,<4.0.0,>=3.4.4->presidio-analyzer) (1.2.1)\n",
      "Requirement already satisfied: markdown-it-py>=2.2.0 in /workspace/.pyenv_mirror/user/current/lib/python3.10/site-packages (from rich>=10.11.0->typer<1.0.0,>=0.3.0->spacy!=3.7.0,<4.0.0,>=3.4.4->presidio-analyzer) (3.0.0)\n",
      "Requirement already satisfied: pygments<3.0.0,>=2.13.0 in /workspace/.pyenv_mirror/user/current/lib/python3.10/site-packages (from rich>=10.11.0->typer<1.0.0,>=0.3.0->spacy!=3.7.0,<4.0.0,>=3.4.4->presidio-analyzer) (2.19.2)\n",
      "Requirement already satisfied: wrapt in /workspace/.pyenv_mirror/user/current/lib/python3.10/site-packages (from smart-open<8.0.0,>=5.2.1->weasel<0.5.0,>=0.1.0->spacy!=3.7.0,<4.0.0,>=3.4.4->presidio-analyzer) (1.17.2)\n",
      "Requirement already satisfied: mdurl~=0.1 in /workspace/.pyenv_mirror/user/current/lib/python3.10/site-packages (from markdown-it-py>=2.2.0->rich>=10.11.0->typer<1.0.0,>=0.3.0->spacy!=3.7.0,<4.0.0,>=3.4.4->presidio-analyzer) (0.1.2)\n",
      "/home/gitpod/.pyenv/versions/3.12.11/bin/python: No module named spacy\n"
     ]
    }
   ],
   "source": [
    "! pip install presidio-analyzer presidio_structured presidio-anonymizer faker pandas && python -m spacy download en_core_web_lg\n"
   ]
  },
  {
   "cell_type": "code",
   "execution_count": 9,
   "id": "60d2472e",
   "metadata": {},
   "outputs": [],
   "source": [
    "# NER\n",
    "\n",
    "import pandas as pd\n",
    "from faker import Faker\n",
    "from presidio_structured import StructuredEngine, PandasAnalysisBuilder\n",
    "from presidio_anonymizer.entities import OperatorConfig\n",
    "from datetime import datetime\n",
    "\n",
    "\n",
    "pandas_users_df = users_df.toPandas()\n"
   ]
  },
  {
   "cell_type": "code",
   "execution_count": 10,
   "id": "00df6208",
   "metadata": {},
   "outputs": [],
   "source": [
    "\n",
    "pandas_users_df = pandas_users_df.astype(\"str\")"
   ]
  },
  {
   "cell_type": "code",
   "execution_count": 12,
   "id": "a5c40ba7",
   "metadata": {},
   "outputs": [
    {
     "name": "stderr",
     "output_type": "stream",
     "text": [
      "WARNING:presidio-analyzer:Recognizer not added to registry because language is not supported by registry - CreditCardRecognizer supported languages: es, registry supported languages: en\n",
      "WARNING:presidio-analyzer:Recognizer not added to registry because language is not supported by registry - CreditCardRecognizer supported languages: it, registry supported languages: en\n",
      "WARNING:presidio-analyzer:Recognizer not added to registry because language is not supported by registry - CreditCardRecognizer supported languages: pl, registry supported languages: en\n",
      "WARNING:presidio-analyzer:Recognizer not added to registry because language is not supported by registry - EsNifRecognizer supported languages: es, registry supported languages: en\n",
      "WARNING:presidio-analyzer:Recognizer not added to registry because language is not supported by registry - EsNieRecognizer supported languages: es, registry supported languages: en\n",
      "WARNING:presidio-analyzer:Recognizer not added to registry because language is not supported by registry - ItDriverLicenseRecognizer supported languages: it, registry supported languages: en\n",
      "WARNING:presidio-analyzer:Recognizer not added to registry because language is not supported by registry - ItFiscalCodeRecognizer supported languages: it, registry supported languages: en\n",
      "WARNING:presidio-analyzer:Recognizer not added to registry because language is not supported by registry - ItVatCodeRecognizer supported languages: it, registry supported languages: en\n",
      "WARNING:presidio-analyzer:Recognizer not added to registry because language is not supported by registry - ItIdentityCardRecognizer supported languages: it, registry supported languages: en\n",
      "WARNING:presidio-analyzer:Recognizer not added to registry because language is not supported by registry - ItPassportRecognizer supported languages: it, registry supported languages: en\n",
      "WARNING:presidio-analyzer:Recognizer not added to registry because language is not supported by registry - PlPeselRecognizer supported languages: pl, registry supported languages: en\n"
     ]
    }
   ],
   "source": [
    "pandas_engine = StructuredEngine()\n",
    "tabular_analysis = PandasAnalysisBuilder().generate_analysis(pandas_users_df)"
   ]
  },
  {
   "cell_type": "code",
   "execution_count": 14,
   "id": "af526489",
   "metadata": {},
   "outputs": [],
   "source": [
    "fake = Faker()\n",
    "\n",
    "operators = {\n",
    "    \"PERSON\": OperatorConfig(\"replace\", {\"new_value\" : \"REDACTED\"}),\n",
    "    \"EMAIL_ADDRESS\": OperatorConfig(\"custom\", {\"lambda\" : lambda x:fake.safe_email()}),\n",
    "    \"US_SSN\": OperatorConfig(\"custom\", {\"lambda\": lambda x:fake.ssn()}),\n",
    "    \"DATE_TIME\": OperatorConfig(\"custom\",{\"lambda\": lambda x: fake.date_between_dates(date_start=datetime(1940,1,1), date_end=datetime(2010,1,1))}),\n",
    "    \"US_BANK_NUMBER\": OperatorConfig(\"replace\", {\"new_value\" :\"REDACTED\"})\n",
    "}"
   ]
  },
  {
   "cell_type": "code",
   "execution_count": 15,
   "id": "716f1c8e",
   "metadata": {},
   "outputs": [],
   "source": [
    "anonymized_pd_df = pandas_engine.anonymize(pandas_users_df, tabular_analysis, operators=operators)\n",
    "\n"
   ]
  },
  {
   "cell_type": "code",
   "execution_count": 17,
   "id": "1ecc885e",
   "metadata": {},
   "outputs": [
    {
     "name": "stdout",
     "output_type": "stream",
     "text": [
      "+--------+--------------------+------+-----------+-------+----------+-----------+------+\n",
      "|    name|               email| phone|        ssn|address|       dob|credit_card|salary|\n",
      "+--------+--------------------+------+-----------+-------+----------+-----------+------+\n",
      "|REDACTED|vincentjennifer@e...|<None>|627-82-2874| <None>|1970-07-11|   REDACTED|<None>|\n",
      "|REDACTED| hmonroe@example.net|<None>|178-13-5068| <None>|2004-11-21|   REDACTED|<None>|\n",
      "|REDACTED|nicolereeves@exam...|<None>|787-18-9687| <None>|1949-08-10|   REDACTED|<None>|\n",
      "|REDACTED|pjohnston@example...|<None>|617-04-1243| <None>|2007-07-04|   REDACTED|<None>|\n",
      "|REDACTED| ntucker@example.net|<None>|209-10-1273| <None>|1959-04-30|   REDACTED|<None>|\n",
      "|REDACTED|kimberlymoreno@ex...|<None>|459-49-4490| <None>|2002-11-23|   REDACTED|<None>|\n",
      "|REDACTED|bradley52@example...|<None>|842-09-0562| <None>|1989-11-10|   REDACTED|<None>|\n",
      "|REDACTED| david57@example.com|<None>|756-88-0021| <None>|1969-10-23|   REDACTED|<None>|\n",
      "|REDACTED|jefferywatson@exa...|<None>|813-31-5655| <None>|2007-04-20|   REDACTED|<None>|\n",
      "|REDACTED|bcastillo@example...|<None>|725-58-5774| <None>|1969-01-11|   REDACTED|<None>|\n",
      "|REDACTED|smithblake@exampl...|<None>|703-24-9619| <None>|1986-05-15|   REDACTED|<None>|\n",
      "|REDACTED|chelsey78@example...|<None>|346-13-7423| <None>|1956-05-25|   REDACTED|<None>|\n",
      "|REDACTED| kbryant@example.net|<None>|614-73-9229| <None>|1957-07-01|   REDACTED|<None>|\n",
      "|REDACTED|stanley75@example...|<None>|381-85-4957| <None>|1942-02-26|   REDACTED|<None>|\n",
      "|REDACTED|  ymunoz@example.net|<None>|356-66-4944| <None>|1979-03-06|   REDACTED|<None>|\n",
      "|REDACTED|xwilliams@example...|<None>|843-21-7713| <None>|1984-03-08|   REDACTED|<None>|\n",
      "|REDACTED|wardcarrie@exampl...|<None>|027-29-6520| <None>|1993-03-03|   REDACTED|<None>|\n",
      "|REDACTED|   amy91@example.org|<None>|599-20-1952| <None>|1950-04-16|   REDACTED|<None>|\n",
      "|REDACTED|melissaalexander@...|<None>|219-46-4929| <None>|1981-12-30|   REDACTED|<None>|\n",
      "|REDACTED|upreston@example.com|<None>|076-05-8833| <None>|1943-08-01|   REDACTED|<None>|\n",
      "+--------+--------------------+------+-----------+-------+----------+-----------+------+\n",
      "only showing top 20 rows\n"
     ]
    }
   ],
   "source": [
    "anonymized_users_df = spark.createDataFrame(anonymized_pd_df)\n",
    "\n",
    "anonymized_users_df.drop(\"age\").show()"
   ]
  }
 ],
 "metadata": {
  "kernelspec": {
   "display_name": "Python 3",
   "language": "python",
   "name": "python3"
  },
  "language_info": {
   "codemirror_mode": {
    "name": "ipython",
    "version": 3
   },
   "file_extension": ".py",
   "mimetype": "text/x-python",
   "name": "python",
   "nbconvert_exporter": "python",
   "pygments_lexer": "ipython3",
   "version": "3.10.12"
  }
 },
 "nbformat": 4,
 "nbformat_minor": 5
}
