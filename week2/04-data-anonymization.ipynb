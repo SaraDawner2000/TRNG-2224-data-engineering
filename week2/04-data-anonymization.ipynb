{
 "cells": [
  {
   "cell_type": "markdown",
   "id": "07b642d2",
   "metadata": {},
   "source": [
    "# Data Anonymization techniques\n",
    "\n",
    "- Masking: Hiding part of sensitive data (e.g., email, SSN, phone).\n",
    "- Hashing: Replacing data with irreversible hashed values (ideal for IDs).\n",
    "- Tokenization/Pseudonymization: Replacing sensitive values with random tokens that can be reversed later using a lookup table.\n",
    "- Redaction/Removal: Completely removing sensitive columns or rows.\n",
    "- Generalization:  Reducing precision to hide exact values.\n",
    "- Noise Addition: Altering values slightly to hide exact data (esp. for analytics).\n",
    "- NER - Named entity recognition\n",
    "\n",
    "[microsoft presidio](https://microsoft.github.io/presidio/)"
   ]
  },
  {
   "cell_type": "code",
   "execution_count": null,
   "id": "01d8718c",
   "metadata": {},
   "outputs": [],
   "source": [
    "# setup\n"
   ]
  },
  {
   "cell_type": "code",
   "execution_count": null,
   "id": "32fbcee2",
   "metadata": {},
   "outputs": [],
   "source": [
    "# load the user data\n"
   ]
  },
  {
   "cell_type": "code",
   "execution_count": null,
   "id": "f0bdcf80",
   "metadata": {},
   "outputs": [],
   "source": [
    "# masking email \n"
   ]
  },
  {
   "cell_type": "code",
   "execution_count": null,
   "id": "e619232f",
   "metadata": {},
   "outputs": [],
   "source": [
    "# hashing SSN credit card\n",
    "\n",
    "\n"
   ]
  },
  {
   "cell_type": "code",
   "execution_count": null,
   "id": "ebb68922",
   "metadata": {},
   "outputs": [],
   "source": [
    "# generaliation\n",
    "\n"
   ]
  },
  {
   "cell_type": "code",
   "execution_count": null,
   "id": "78a9c6d4",
   "metadata": {},
   "outputs": [],
   "source": [
    "# noise addition to salary\n",
    "\n",
    "\n"
   ]
  },
  {
   "cell_type": "code",
   "execution_count": null,
   "id": "9b585f3d",
   "metadata": {},
   "outputs": [],
   "source": [
    "# save the changes\n"
   ]
  },
  {
   "cell_type": "code",
   "execution_count": null,
   "id": "c3e4fa84",
   "metadata": {},
   "outputs": [],
   "source": [
    "! pip install presidio-analyzer presidio_structured presidio-anonymizer faker pandas && python -m spacy download en_core_web_lg\n"
   ]
  },
  {
   "cell_type": "code",
   "execution_count": null,
   "id": "60d2472e",
   "metadata": {},
   "outputs": [],
   "source": [
    "# NER"
   ]
  }
 ],
 "metadata": {
  "kernelspec": {
   "display_name": "Python 3",
   "language": "python",
   "name": "python3"
  },
  "language_info": {
   "codemirror_mode": {
    "name": "ipython",
    "version": 3
   },
   "file_extension": ".py",
   "mimetype": "text/x-python",
   "name": "python",
   "nbconvert_exporter": "python",
   "pygments_lexer": "ipython3",
   "version": "3.10.12"
  }
 },
 "nbformat": 4,
 "nbformat_minor": 5
}
