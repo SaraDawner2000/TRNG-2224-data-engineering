{
 "cells": [
  {
   "cell_type": "markdown",
   "id": "accad24f",
   "metadata": {},
   "source": [
    "# Spark DataFrames API\n",
    "\n",
    "\n",
    "### Dataframe\n",
    "\n",
    "- DataFrames are ditributed collections of records, all with pre-defined structure(schema - structure and data types of all columns)\n",
    "-  DataFrames are built on Spark's core concepts but with structure, optimization and SQL-like operations for data manipulation.\n",
    "- DataFrames track their schema and provide native support for many common SQL functions and relational operators\n",
    "- DataFrames are evaluated as DAGs, using lazy evaluation and providing lineage and fault tolerance.\n",
    "- DataFrames are immutable\n",
    "\n",
    "### SparkContext vs SparkSession\n",
    "\n",
    "- SparkSession is Spark application entry point. \n",
    "- Introduced in spark 2.0 as a unified entry point for all contexts (formerly instantiated individually as SparkContext, SQLContext, HiveContext, StreamingContext)\n",
    "\n",
    "<i>Note: In databricks it is automatically created for you as spark</i>\n",
    "\n",
    "### DataFrame API Optimizations\n",
    "\n",
    "- **Adaptive Query Execution:** Dynamic plan adjustments during runtime based on actual data characteristics and execution patterns.\n",
    "- **In-Memory Columnar Storage(Tungsten):** In-Memory coloumnar format for all the DataFrames enabling efficient analytical query performance and reduced memory footprint.\n",
    "- **Built-in Statistics** - Automatic statistics collection when saving to optimized formats (Parqurt, Delta in databricks) enables smarter query planning and execution.\n",
    "- **Catalyst Optimizer:** Query optimization engine that coverts DataFrame operations into an optimized execution plan\n",
    "\n",
    "\n",
    "<i>**Note** Databricks comes with a native vectorized query engine that accelerates query execution using photon engine</i>\n",
    "\n",
    "**DataFrame Query Planning:** \n",
    "\n",
    "- When a DataFrame is evaluated, the driver creates an optimized execution plan through a series of transformations \n",
    "- Converts the logical plan into phycal execution that minimizes resource usage and execution time. (Unresolved LP -> analysed LP -> optimized LP -> Physical Plan)\n",
    "\n"
   ]
  },
  {
   "cell_type": "code",
   "execution_count": 1,
   "id": "d4e9e173",
   "metadata": {},
   "outputs": [
    {
     "name": "stderr",
     "output_type": "stream",
     "text": [
      "Picked up JAVA_TOOL_OPTIONS: -XX:+UseContainerSupport -XX:ActiveProcessorCount=1\n",
      "Picked up JAVA_TOOL_OPTIONS: -XX:+UseContainerSupport -XX:ActiveProcessorCount=1\n",
      "WARNING: Using incubator modules: jdk.incubator.vector\n",
      "Using Spark's default log4j profile: org/apache/spark/log4j2-defaults.properties\n",
      "25/06/30 18:13:56 WARN Utils: Your hostname, krishnagopi-trng2224dat-g3q9nc1wf47, resolves to a loopback address: 127.0.0.1; using 10.0.5.2 instead (on interface eth0)\n",
      "25/06/30 18:13:56 WARN Utils: Set SPARK_LOCAL_IP if you need to bind to another address\n",
      "Using Spark's default log4j profile: org/apache/spark/log4j2-defaults.properties\n",
      "Setting default log level to \"WARN\".\n",
      "To adjust logging level use sc.setLogLevel(newLevel). For SparkR, use setLogLevel(newLevel).\n",
      "25/06/30 18:13:56 WARN NativeCodeLoader: Unable to load native-hadoop library for your platform... using builtin-java classes where applicable\n"
     ]
    }
   ],
   "source": [
    "# Spark Session\n",
    "\n",
    "from pyspark.sql import SparkSession\n",
    "\n",
    "spark = SparkSession.builder.appName(\"CutomerDFExample\").getOrCreate()\n",
    "\n",
    "\n"
   ]
  },
  {
   "cell_type": "code",
   "execution_count": 3,
   "id": "60216694",
   "metadata": {},
   "outputs": [
    {
     "name": "stdout",
     "output_type": "stream",
     "text": [
      "+--------------------+---------------+--------------------+---+------+--------------------+-----------+-------------------+---------+-----------+\n",
      "|         customer_id|           name|               email|age|gender|             country|signup_date|         last_login|is_active|total_spent|\n",
      "+--------------------+---------------+--------------------+---+------+--------------------+-----------+-------------------+---------+-----------+\n",
      "|20780d38-901f-450...| Michael Malone|    dhart@haynes.com| 58|  Male|    Saint Barthelemy| 2021-04-29|2024-10-20 15:56:26|     true|     3733.6|\n",
      "|a2c56b05-acdc-4a7...|     Edwin Wall| bradley08@yahoo.com| 33|  Male|United Arab Emirates| 2025-01-02|2025-06-19 22:44:59|     true|    3708.71|\n",
      "|2fe8ff2e-19ea-493...|  Rachel Strong|heather15@schmidt...| 61| Other|              Israel| 2023-02-13|2025-04-12 21:14:26|     true|    2993.41|\n",
      "|5fd9f4a6-2134-41b...|Eddie Rodriguez|mitchell49@hotmai...| 20|  Male|             Nigeria| 2024-07-06|2025-03-06 17:09:20|     true|    1171.33|\n",
      "+--------------------+---------------+--------------------+---+------+--------------------+-----------+-------------------+---------+-----------+\n",
      "only showing top 4 rows\n"
     ]
    }
   ],
   "source": [
    "# Creating DataFrames - DataFrameReader\n",
    "# supports multiple formats such as JSON, CSV, Parquet, ORC, Text or Binary files, existing RDD, and an external db\n",
    "\n",
    "\n",
    "df_customers = spark.read.csv(\"file:///workspace/TRNG-2224-data-engineering/week2/datasets/customer_data.csv\", header= True, inferSchema=True)\n",
    "\n",
    "df_customers.show(4)\n",
    "\n",
    "\n"
   ]
  },
  {
   "cell_type": "markdown",
   "id": "47c52631",
   "metadata": {},
   "source": [
    "### DataFrame Data Types\n",
    "\n",
    "#### Primitive\n",
    "\n",
    "**`pyspark.sql.types.DataType`**\n",
    "\n",
    "- `ByteType`\n",
    "- `ShortType`\n",
    "- `IntegerType`\n",
    "- `LongType`\n",
    "- `FloatType`\n",
    "- `DoubleType`\n",
    "- `BooleanType`\n",
    "- `StringType`\n",
    "- `BinaryType`\n",
    "- `TimestampType`\n",
    "- `DateType`\n",
    "\n",
    "#### complex data types\n",
    "\n",
    "- `ArrayType`\n",
    "- `MapType`\n",
    "- `StructType`\n",
    "\n"
   ]
  },
  {
   "cell_type": "code",
   "execution_count": 6,
   "id": "4cd435e2",
   "metadata": {},
   "outputs": [
    {
     "data": {
      "text/plain": [
       "StructType([StructField('customer_id', StringType(), True), StructField('name', StringType(), True), StructField('email', StringType(), True), StructField('age', IntegerType(), True), StructField('gender', StringType(), True), StructField('country', StringType(), True), StructField('signup_date', DateType(), True), StructField('last_login', TimestampType(), True), StructField('is_active', BooleanType(), True), StructField('total_spent', DoubleType(), True)])"
      ]
     },
     "execution_count": 6,
     "metadata": {},
     "output_type": "execute_result"
    }
   ],
   "source": [
    "# DataFrame Schema\n",
    "\n",
    "df_customers.schema"
   ]
  },
  {
   "cell_type": "code",
   "execution_count": 7,
   "id": "d79dc794",
   "metadata": {},
   "outputs": [
    {
     "name": "stdout",
     "output_type": "stream",
     "text": [
      "root\n",
      " |-- customer_id: string (nullable = true)\n",
      " |-- name: string (nullable = true)\n",
      " |-- email: string (nullable = true)\n",
      " |-- age: integer (nullable = true)\n",
      " |-- gender: string (nullable = true)\n",
      " |-- country: string (nullable = true)\n",
      " |-- signup_date: date (nullable = true)\n",
      " |-- last_login: timestamp (nullable = true)\n",
      " |-- is_active: boolean (nullable = true)\n",
      " |-- total_spent: double (nullable = true)\n",
      "\n"
     ]
    }
   ],
   "source": [
    "# custom schema definition\n",
    "\n",
    "from pyspark.sql.types import StructType, StructField, StringType, DoubleType, IntegerType, BooleanType, TimestampType, DateType\n",
    "\n",
    "custom_schema = StructType([\n",
    "    StructField(\"customer_id\", StringType(), True ),\n",
    "    StructField(\"name\", StringType(), True),\n",
    "    StructField(\"email\", StringType(), True),\n",
    "    StructField(\"age\", IntegerType(), True),\n",
    "    StructField(\"gender\", StringType(), True),\n",
    "    StructField(\"country\", StringType(), True),\n",
    "    StructField(\"signup_date\", DateType(), True),\n",
    "    StructField(\"last_login\", TimestampType(), True),\n",
    "    StructField(\"is_active\", BooleanType(), True),\n",
    "    StructField(\"total_spent\", DoubleType(), True)\n",
    "])\n",
    "\n",
    "df_customers = spark.read.csv(\"file:///workspace/TRNG-2224-data-engineering/week2/datasets/customer_data.csv\", header= True, schema=custom_schema)\n",
    "\n",
    "df_customers.printSchema()\n",
    "\n",
    "\n"
   ]
  },
  {
   "cell_type": "code",
   "execution_count": 10,
   "id": "2d95d7b7",
   "metadata": {},
   "outputs": [
    {
     "name": "stdout",
     "output_type": "stream",
     "text": [
      "root\n",
      " |-- customer_id: string (nullable = true)\n",
      " |-- name: string (nullable = true)\n",
      " |-- email: string (nullable = true)\n",
      " |-- age: integer (nullable = true)\n",
      " |-- gender: string (nullable = true)\n",
      " |-- country: string (nullable = true)\n",
      " |-- signup_date: date (nullable = true)\n",
      " |-- last_login: timestamp (nullable = true)\n",
      " |-- is_active: boolean (nullable = true)\n",
      " |-- total_spent: double (nullable = true)\n",
      "\n"
     ]
    }
   ],
   "source": [
    "# DDL Schema\n",
    "\n",
    "ddl_schema = \"\"\"\n",
    "    customer_id STRING,\n",
    "    name STRING,\n",
    "    email STRING,\n",
    "    age INT,\n",
    "    gender STRING,\n",
    "    country STRING,\n",
    "    signup_date DATE,\n",
    "    last_login TIMESTAMP,\n",
    "    is_active BOOLEAN,\n",
    "    total_spent DOUBLE\n",
    "\"\"\"\n",
    "\n",
    "df_customers = spark.read.csv(\"file:///workspace/TRNG-2224-data-engineering/week2/datasets/customer_data.csv\", header= True, schema=ddl_schema)\n",
    "\n",
    "df_customers.printSchema()"
   ]
  },
  {
   "cell_type": "markdown",
   "id": "8b1dc9d9",
   "metadata": {},
   "source": [
    "### Common DataFrame API methods\n",
    "\n",
    "#### Transformations\n",
    "\n",
    "##### Narrow Transformations\n",
    "\n",
    "- narrow transformations process data within each partition independetly, without needing to combine data from other partitions.\n",
    "- faster and more efficient because they avoid data shuffling between partitions. \n",
    "\n",
    "1. `select()` : selecting specific rows\n",
    "2. `filter()`: Applying a filter condition to rows. \n",
    "3. `map()`: Applying a function to each row. \n",
    "4. `union()`: Combining two DataFrames with identical schemas. \n",
    "5. `withColumn()`: Adding a new column based on existing ones. \n",
    "6. `drop()`: Removing a column. \n",
    "\n",
    "##### Wide Transformations\n",
    "\n",
    "- Wide transformations require data to be redistributed across partitions, often involving shuffling data based on keys.\n",
    "\n",
    "1. `groupBy()`: Grouping data based on a column, which often requires shuffling to aggregate data from different partitions. \n",
    "2. `join()`: Joining two DataFrames, which requires shuffling data to combine rows based on a join key. \n",
    "3. `distinct()`: Removing duplicate rows, which might require shuffling to compare rows across partitions. \n",
    "\n",
    "#### Actions\n",
    "\n",
    "1. `count()`: returns number of rows in a Dataframe\n",
    "2. `show()`: display DataFrame content\n",
    "3. `take(n)`: return first n rows from a DataFrame\n",
    "4. `first()`: return first row from a DataFrame\n",
    "5. `write()`: save DataFrame to storage"
   ]
  },
  {
   "cell_type": "code",
   "execution_count": 13,
   "id": "8f95a59e",
   "metadata": {},
   "outputs": [
    {
     "name": "stdout",
     "output_type": "stream",
     "text": [
      "+-----------------+------------------+\n",
      "|          country|           revenue|\n",
      "+-----------------+------------------+\n",
      "|            Macao|            3022.4|\n",
      "|            Yemen|           1407.35|\n",
      "|         Kiribati|           1833.03|\n",
      "|           Guyana|           1149.76|\n",
      "|           Jersey|           1398.78|\n",
      "|   Norfolk Island|           2929.03|\n",
      "|         Djibouti|           4291.06|\n",
      "|            Tonga|           2167.22|\n",
      "|           Malawi|           4418.94|\n",
      "|          Germany|2965.7599999999998|\n",
      "|           Jordan|           2175.54|\n",
      "|            Sudan|            800.07|\n",
      "|           Greece|           2734.41|\n",
      "|             Togo|           3097.22|\n",
      "|          Ecuador|           3340.19|\n",
      "|            Qatar|           5966.42|\n",
      "|          Lesotho|            1977.1|\n",
      "|       Madagascar|           3372.53|\n",
      "|Brunei Darussalam|           4201.99|\n",
      "|             Peru|           2080.31|\n",
      "+-----------------+------------------+\n",
      "only showing top 20 rows\n"
     ]
    }
   ],
   "source": [
    "# Map, Shuffle and Reduce\n",
    "\n",
    "from pyspark.sql.functions import sum\n",
    "\n",
    "\n",
    "df_customers.filter(df_customers.age > 30) \\\n",
    "                    .select(\"country\", \"total_spent\")\\\n",
    "                    .groupBy(\"country\") \\\n",
    "                    .agg(sum(\"total_spent\").alias(\"revenue\")).show()\n"
   ]
  },
  {
   "cell_type": "code",
   "execution_count": 16,
   "id": "4d9b211c",
   "metadata": {},
   "outputs": [
    {
     "name": "stdout",
     "output_type": "stream",
     "text": [
      "+---------------+--------------------+--------------------+\n",
      "|           name|               email|             country|\n",
      "+---------------+--------------------+--------------------+\n",
      "| Michael Malone|    dhart@haynes.com|    Saint Barthelemy|\n",
      "|     Edwin Wall| bradley08@yahoo.com|United Arab Emirates|\n",
      "|  Rachel Strong|heather15@schmidt...|              Israel|\n",
      "|Eddie Rodriguez|mitchell49@hotmai...|             Nigeria|\n",
      "+---------------+--------------------+--------------------+\n",
      "only showing top 4 rows\n"
     ]
    }
   ],
   "source": [
    "# Select Specific Columns\n",
    "\n",
    "df_customers.select(\"name\", \"email\", \"country\").show(4)"
   ]
  },
  {
   "cell_type": "code",
   "execution_count": 19,
   "id": "a93e0a9a",
   "metadata": {},
   "outputs": [
    {
     "name": "stdout",
     "output_type": "stream",
     "text": [
      "+--------------------+-------------------+--------------------+---+------+--------------------+-----------+-------------------+---------+-----------+\n",
      "|         customer_id|               name|               email|age|gender|             country|signup_date|         last_login|is_active|total_spent|\n",
      "+--------------------+-------------------+--------------------+---+------+--------------------+-----------+-------------------+---------+-----------+\n",
      "|20780d38-901f-450...|     Michael Malone|    dhart@haynes.com| 58|  Male|    Saint Barthelemy| 2021-04-29|2024-10-20 15:56:26|     true|     3733.6|\n",
      "|a2c56b05-acdc-4a7...|         Edwin Wall| bradley08@yahoo.com| 33|  Male|United Arab Emirates| 2025-01-02|2025-06-19 22:44:59|     true|    3708.71|\n",
      "|2fe8ff2e-19ea-493...|      Rachel Strong|heather15@schmidt...| 61| Other|              Israel| 2023-02-13|2025-04-12 21:14:26|     true|    2993.41|\n",
      "|b290eed5-e70c-48d...|       Kayla Powell|johnnash@hotmail.com| 50| Other|        Burkina Faso| 2021-02-23|2025-01-13 19:44:54|     true|     2850.1|\n",
      "|3a86653f-6238-47a...|    Nicolas Kennedy|catherineblack@wa...| 55|Female|   Brunei Darussalam| 2020-07-14|2025-01-01 09:16:51|     true|    3818.16|\n",
      "|635e0da3-f233-44b...|          Amber Ray|   alan33@taylor.net| 56|Female|               Aruba| 2024-02-28|2024-12-26 15:55:41|     true|    3675.69|\n",
      "|0553e350-b76a-4e6...|   Christopher Hall|arthurolson@yahoo...| 63|  Male|             Ecuador| 2022-08-15|2024-10-10 13:16:35|     true|    3340.19|\n",
      "|ce723df7-7023-41a...|         Tara Brady|qmcdonald@hotmail...| 67|Female|            Djibouti| 2021-06-10|2025-05-04 19:21:29|     true|    4291.06|\n",
      "|bf645baf-2bde-4a1...|     Cheryl Griffin|parksjames@graves...| 60|Female|             Croatia| 2023-06-20|2025-06-18 08:09:35|     true|    3084.74|\n",
      "|4cf1af58-ab8a-464...|          Alex Moon|rodriguezmichael@...| 42|Female|Central African R...| 2024-06-01|2024-12-10 06:13:24|     true|    3454.61|\n",
      "|a242ee65-a9a3-42d...|    Rebecca Mcmahon|smithzachary@hotm...| 67|  Male|            Honduras| 2024-06-25|2024-09-03 10:53:21|     true|    4126.83|\n",
      "|02af714d-88d6-475...|     Jimmy Franklin|  qbeasley@gmail.com| 53|  Male|               Aruba| 2025-02-25|2024-08-14 21:48:09|     true|    3440.38|\n",
      "|c00024a4-b3ae-4d0...|   Richard Stephens|   james47@gmail.com| 66|  Male|         Puerto Rico| 2022-09-23|2025-01-23 15:37:31|     true|    4365.54|\n",
      "|d950098c-cd38-480...|        Karen Brown|   rgordon@glass.com| 37| Other|              Serbia| 2022-05-16|2024-08-09 20:35:27|     true|     848.91|\n",
      "|bea6fbf6-c6ca-460...|       Amy Thompson|jenkinspaul@yahoo...| 66|  Male|           Gibraltar| 2022-08-29|2024-11-23 04:08:32|     true|    3034.83|\n",
      "|8ec68e5a-02f7-434...|Mrs. Karen Jones MD|   cindy50@yahoo.com| 49|  Male|           Gibraltar| 2025-06-09|2025-06-16 23:42:37|     true|    4652.58|\n",
      "|4ffab53d-a05b-4e3...|         Alan Jones|  taylor51@blair.com| 69|Female|   Brunei Darussalam| 2020-07-23|2024-08-13 10:37:15|     true|     383.83|\n",
      "|c6bb99c7-fb56-42d...|        Ryan Turner|  andrew49@gmail.com| 54|  Male|               Congo| 2025-05-07|2025-04-19 18:36:08|     true|    3686.35|\n",
      "|4c490337-6133-49d...|  Christopher Huang|xhendricks@morris...| 70|  Male|       Cote d'Ivoire| 2023-09-07|2024-12-07 13:15:50|     true|     729.12|\n",
      "|a36a99c7-5573-4c6...|    Heather Stewart|martin06@hotmail.com| 48| Other|              Jersey| 2020-07-22|2025-06-26 23:37:30|     true|    1398.78|\n",
      "+--------------------+-------------------+--------------------+---+------+--------------------+-----------+-------------------+---------+-----------+\n",
      "only showing top 20 rows\n"
     ]
    }
   ],
   "source": [
    "# Filter Active Customers Over 30\n",
    "\n",
    "df_customers.filter((df_customers.age>30) & (df_customers.is_active == True)).show()"
   ]
  },
  {
   "cell_type": "code",
   "execution_count": 20,
   "id": "46152d95",
   "metadata": {},
   "outputs": [
    {
     "name": "stdout",
     "output_type": "stream",
     "text": [
      "+-----------------+------------------+\n",
      "|          country|  avg(total_spent)|\n",
      "+-----------------+------------------+\n",
      "|            Macao|            3022.4|\n",
      "|            Yemen|           1407.35|\n",
      "|         Kiribati|           1833.03|\n",
      "|           Guyana|           1149.76|\n",
      "|           Jersey|           1398.78|\n",
      "|   Norfolk Island|           2929.03|\n",
      "|         Djibouti|           4291.06|\n",
      "|            Tonga|           2167.22|\n",
      "|           Malawi|           4418.94|\n",
      "|          Germany|1482.8799999999999|\n",
      "|           Jordan|           2175.54|\n",
      "|     Saint Helena|           4639.94|\n",
      "|            Sudan|            800.07|\n",
      "|           Greece|           2734.41|\n",
      "|             Togo|           3097.22|\n",
      "|Equatorial Guinea|           4459.59|\n",
      "|          Ecuador|           3340.19|\n",
      "|            Qatar|           2983.21|\n",
      "|          Lesotho|            988.55|\n",
      "|       Madagascar|           3372.53|\n",
      "+-----------------+------------------+\n",
      "only showing top 20 rows\n"
     ]
    }
   ],
   "source": [
    "# Group by Country and Get Average Spend\n",
    "\n",
    "df_customers.groupBy(\"country\").avg(\"total_spent\").show()"
   ]
  },
  {
   "cell_type": "code",
   "execution_count": 21,
   "id": "ce47462d",
   "metadata": {},
   "outputs": [
    {
     "name": "stdout",
     "output_type": "stream",
     "text": [
      "+----------------+--------------------+-----------+--------------+\n",
      "|            name|               email|total_spent|spend_category|\n",
      "+----------------+--------------------+-----------+--------------+\n",
      "|  Michael Malone|    dhart@haynes.com|     3733.6|          High|\n",
      "|      Edwin Wall| bradley08@yahoo.com|    3708.71|          High|\n",
      "|   Rachel Strong|heather15@schmidt...|    2993.41|        Medium|\n",
      "| Eddie Rodriguez|mitchell49@hotmai...|    1171.33|        Medium|\n",
      "|    Kayla Powell|johnnash@hotmail.com|     2850.1|        Medium|\n",
      "| Kathleen Nelson|     qpena@gmail.com|    1180.16|        Medium|\n",
      "| Nicolas Kennedy|catherineblack@wa...|    3818.16|          High|\n",
      "| Jacqueline Reid|smithjoshua@baker...|    1767.23|        Medium|\n",
      "|  Matthew Mendez|jeremymontoya@har...|     600.83|           Low|\n",
      "|      Jay Little|brogers@wright-wo...|    4252.72|          High|\n",
      "|       Amber Ray|   alan33@taylor.net|    3675.69|          High|\n",
      "| Elizabeth Ellis|jjohnson@smith-th...|     486.12|           Low|\n",
      "|      Mary Brown|bernardsarah@gmai...|    2929.03|        Medium|\n",
      "|Christopher Hall|arthurolson@yahoo...|    3340.19|          High|\n",
      "|      Tara Brady|qmcdonald@hotmail...|    4291.06|          High|\n",
      "|   William Moore|griffindakota@hot...|    2321.71|        Medium|\n",
      "|   Laura Mathews|dylanrivera@hicks...|    1840.83|        Medium|\n",
      "|  Cheryl Griffin|parksjames@graves...|    3084.74|          High|\n",
      "|   Annette Moore|ewood@ford-santan...|     900.67|           Low|\n",
      "|       Alex Moon|rodriguezmichael@...|    3454.61|          High|\n",
      "+----------------+--------------------+-----------+--------------+\n",
      "only showing top 20 rows\n"
     ]
    }
   ],
   "source": [
    "# Add a New Column for Spend Category\n",
    "\n",
    "from pyspark.sql.functions import when\n",
    "\n",
    "df_customer_with_catgory = df_customers.withColumn(\n",
    "    \"spend_category\",\n",
    "    when(df_customers.total_spent >3000, \"High\")\n",
    "    .when(df_customers.total_spent> 1000, \"Medium\")\n",
    "    .otherwise(\"Low\")\n",
    ")\n",
    "\n",
    "df_customer_with_catgory.select(\"name\", \"email\",\"total_spent\" ,\"spend_category\").show()"
   ]
  },
  {
   "cell_type": "code",
   "execution_count": 22,
   "id": "8f327d67",
   "metadata": {},
   "outputs": [
    {
     "name": "stderr",
     "output_type": "stream",
     "text": [
      "                                                                                \r"
     ]
    }
   ],
   "source": [
    "# DataFrameWriter - flexible output formats and partitioning. supports various save modes (overwrite, append)\n",
    "\n",
    "df_customer_with_catgory.write.mode(\"overwrite\").parquet(\"cutomer_oputput.parquet\")"
   ]
  },
  {
   "cell_type": "markdown",
   "id": "6065cda6",
   "metadata": {},
   "source": [
    "#### Handiling missing values\n",
    "\n",
    "**common functions**\n",
    "\n",
    "- `isNull()`/`isNotNull()` - checks if values are null\n",
    "- `count(col)` - counts non null values in a specific column\n",
    "- `df.fillna()`/`df.na.fill()` - replace nulls with values\n",
    "- `df.dropna()`/`df.na.drop()` - remove rows with nulls\n",
    "\n",
    "#### referencing columns\n",
    "\n",
    "- direct - `df.select(\"col_name\")` - basic column selection\n",
    "\n",
    "- by attribute - `df.select(df.attribute)` - column names that are valid python idenfiers, can be referenced across DataFrames(e.g., join)\n",
    "\n",
    "- column expression - `df.select(df[\"col_name\"])` - any column names, can be referenced across DataFrames\n",
    "\n",
    "- column object - `df.select(col(\"name\"))` - required when building complex expressions or using column specific operations like `cast()`, `alias()`, `asc()`or `desc()`\n",
    "\n",
    "\n",
    "#### common column object methods\n",
    "\n",
    "- `alias()` - rename column\n",
    "- `cast()` - chnage data type\n",
    "- `isNull()` or `isNotNull()` - check for nulls\n",
    "- `contains()` - string matching\n",
    "- `asc()`/`desc()` - sort direction - `df.sort(col(\"c1\").asc())`\n",
    "\n",
    "\n",
    "[pyspark.sql.Column](https://spark.apache.org/docs/latest/api/python/reference/pyspark.sql/api/pyspark.sql.Column.html)\n",
    "\n",
    "#### common built-in functions\n",
    "\n",
    "- `concat(col1, col2)` - concatenate strings\n",
    "- `date_format(col, fmt)` - fromat date strings\n",
    "- `round(col, scale)` - round number to scale\n",
    "- `regexp_replace(col, pattern, replace)` - replace using regex\n",
    "- `coalesce(col1, col2)` - first non null value\n",
    "\n",
    "\n",
    "[pyspark built in functions](https://spark.apache.org/docs/latest/api/python/reference/pyspark.sql/functions.html)\n",
    "\n",
    "#### user defined functions\n",
    "\n",
    "- allows to use python functions on dataframe columns\n",
    "- helpful to create custom reusable functions\n",
    "- can impact performance as they can not be optimized by the Catalyst optimizer and has serialiation overhead.\n",
    "\n",
    "```py\n",
    "@udf(\"data_type\")\n",
    "def function_name(name):\n",
    "    return value\n",
    "\n",
    "df.select(function_name(\"name\"))\n",
    "```\n",
    "\n",
    "<i><b>note:</b> pandas udfs are efficient becuase they operate on batches of raows instead of single rows, they leverage Apache Arrow for more efficient python-JVM serialization </i>\n",
    "\n",
    "### Aggregate functions\n",
    "\n",
    "can be applied in `agg()` method after `groupBy()` operation or directly within `select()`\n",
    "\n",
    "- `sum()`\n",
    "- `avg()`\n",
    "- `min()`\n",
    "- `max()`\n",
    "- `count()`\n",
    "- `first()`\n",
    "- `last()`\n",
    "\n",
    "### Spark SQL\n",
    "\n",
    "- Spark SQL is a module in spark that allows you to run SQL queries on structured and semi-structured data.\n",
    "- It provides a SQL-like interface on top of Spark's powerful DataFrame API, enabling both SQL and programmatic access to data, all with the same optimized execution engine.\n",
    "\n",
    "- `createOrReplaceTempView()` : created a temp in-memory view that you can query with SQL.\n",
    "- `createGlobalTempView()` : Creates a global temporary view accessible across sessions (under global_temp database)."
   ]
  },
  {
   "cell_type": "code",
   "execution_count": 1,
   "id": "9e85228d",
   "metadata": {},
   "outputs": [
    {
     "name": "stderr",
     "output_type": "stream",
     "text": [
      "Picked up JAVA_TOOL_OPTIONS: -XX:+UseContainerSupport -XX:ActiveProcessorCount=1\n",
      "Picked up JAVA_TOOL_OPTIONS: -XX:+UseContainerSupport -XX:ActiveProcessorCount=1\n",
      "WARNING: Using incubator modules: jdk.incubator.vector\n",
      "Using Spark's default log4j profile: org/apache/spark/log4j2-defaults.properties\n",
      "25/07/01 18:21:18 WARN Utils: Your hostname, krishnagopi-trng2224dat-g3q9nc1wf47, resolves to a loopback address: 127.0.0.1; using 10.0.5.2 instead (on interface eth0)\n",
      "25/07/01 18:21:18 WARN Utils: Set SPARK_LOCAL_IP if you need to bind to another address\n",
      "Using Spark's default log4j profile: org/apache/spark/log4j2-defaults.properties\n",
      "Setting default log level to \"WARN\".\n",
      "To adjust logging level use sc.setLogLevel(newLevel). For SparkR, use setLogLevel(newLevel).\n",
      "25/07/01 18:21:19 WARN NativeCodeLoader: Unable to load native-hadoop library for your platform... using builtin-java classes where applicable\n"
     ]
    }
   ],
   "source": [
    "# Setup\n",
    "\n",
    "from pyspark.sql import SparkSession\n",
    "from pyspark.sql.types import *\n",
    "from pyspark.sql.functions import *\n",
    "\n",
    "spark = SparkSession.builder.appName(\"CustomerDataCleaning\").getOrCreate()\n",
    "\n"
   ]
  },
  {
   "cell_type": "code",
   "execution_count": 3,
   "id": "c1d5dde1",
   "metadata": {},
   "outputs": [
    {
     "name": "stdout",
     "output_type": "stream",
     "text": [
      "root\n",
      " |-- customer_id: string (nullable = true)\n",
      " |-- name: string (nullable = true)\n",
      " |-- email: string (nullable = true)\n",
      " |-- age: double (nullable = true)\n",
      " |-- gender: string (nullable = true)\n",
      " |-- country: string (nullable = true)\n",
      " |-- signup_date: date (nullable = true)\n",
      " |-- last_login: timestamp (nullable = true)\n",
      " |-- is_active: boolean (nullable = true)\n",
      " |-- total_spent: double (nullable = true)\n",
      " |-- preferences: string (nullable = true)\n",
      "\n"
     ]
    }
   ],
   "source": [
    "custom_schema = StructType([\n",
    "    StructField(\"customer_id\", StringType(), True ),\n",
    "    StructField(\"name\", StringType(), True),\n",
    "    StructField(\"email\", StringType(), True),\n",
    "    StructField(\"age\", DoubleType(), True),\n",
    "    StructField(\"gender\", StringType(), True),\n",
    "    StructField(\"country\", StringType(), True),\n",
    "    StructField(\"signup_date\", DateType(), True),\n",
    "    StructField(\"last_login\", TimestampType(), True),\n",
    "    StructField(\"is_active\", BooleanType(), True),\n",
    "    StructField(\"total_spent\", DoubleType(), True),\n",
    "    StructField(\"preferences\", StringType(), True)\n",
    "])\n",
    "\n",
    "df_customer = spark.read.csv(\"file:///workspace/TRNG-2224-data-engineering/week2/datasets/enriched_customer_data.csv\", header=True, escape='\"', schema=custom_schema )\n",
    "\n",
    "df_customer.printSchema()"
   ]
  },
  {
   "cell_type": "code",
   "execution_count": 4,
   "id": "6cef9c03",
   "metadata": {},
   "outputs": [
    {
     "name": "stdout",
     "output_type": "stream",
     "text": [
      "+------------------------------------+-----------------------------------------------------------------+\n",
      "|customer_id                         |preferences                                                      |\n",
      "+------------------------------------+-----------------------------------------------------------------+\n",
      "|0e99a07c-c7a5-43df-b5f3-79e2a9f18fc6|{\"newsletter\": true, \"notifications\": \"push\", \"language\": \"en\"}  |\n",
      "|3a69ac3e-6726-431c-82a7-5241ef568188|{\"newsletter\": true, \"notifications\": \"push\", \"language\": \"fr\"}  |\n",
      "|c63cab5f-dc06-4842-926a-118f85a2e7ae|{\"newsletter\": true, \"notifications\": \"email\", \"language\": \"de\"} |\n",
      "|50b165d0-6486-4d5b-bcb8-12147c6f8160|{\"newsletter\": true, \"notifications\": \"sms\", \"language\": \"es\"}   |\n",
      "|4657a2b1-abae-49ab-95d4-d21b878eb69e|{\"newsletter\": false, \"notifications\": \"email\", \"language\": \"es\"}|\n",
      "|0ffe272a-f261-4503-9aa2-33cac8959e0a|{\"newsletter\": true, \"notifications\": \"sms\", \"language\": \"en\"}   |\n",
      "|ca9191a8-f736-46c8-b727-cfaa320a1c89|{\"newsletter\": false, \"notifications\": \"email\", \"language\": \"es\"}|\n",
      "|808301e6-260a-47af-a2d3-5533a5b184b0|{\"newsletter\": true, \"notifications\": \"email\", \"language\": \"de\"} |\n",
      "|997d2ea4-5957-43df-bbc2-43d2929f75de|{\"newsletter\": true, \"notifications\": \"sms\", \"language\": \"de\"}   |\n",
      "|f1d943c5-9fba-4c95-a1d9-9f092ccbc7ea|{\"newsletter\": false, \"notifications\": \"email\", \"language\": \"es\"}|\n",
      "|438f6971-c3b4-4fe8-8f15-c59288437a8e|{\"newsletter\": true, \"notifications\": \"push\", \"language\": \"de\"}  |\n",
      "|75597c43-a8e0-4c0a-9ef6-cd2f8596011f|{\"newsletter\": false, \"notifications\": \"push\", \"language\": \"en\"} |\n",
      "|3457b0f6-1777-4499-92ff-57608b5937bc|{\"newsletter\": true, \"notifications\": \"push\", \"language\": \"es\"}  |\n",
      "|adbc75ff-9d33-446b-8661-34377b3fffc5|{\"newsletter\": true, \"notifications\": \"push\", \"language\": \"es\"}  |\n",
      "|a97da932-82a3-4ecf-aacf-07295785df54|{\"newsletter\": true, \"notifications\": \"email\", \"language\": \"es\"} |\n",
      "|a5767eda-bd1d-482a-a621-2eb8d78f6161|{\"newsletter\": false, \"notifications\": \"sms\", \"language\": \"fr\"}  |\n",
      "|7e9fe7a2-04ae-43b4-8a3e-b0baa9df2b19|{\"newsletter\": true, \"notifications\": \"email\", \"language\": \"de\"} |\n",
      "|cc7f129e-fb05-49dd-a918-09a5f08fd374|{\"newsletter\": true, \"notifications\": \"push\", \"language\": \"es\"}  |\n",
      "|9977d5e4-6b2d-418e-8174-8510ccae6940|{\"newsletter\": true, \"notifications\": \"email\", \"language\": \"es\"} |\n",
      "|5c69744e-d373-4a9f-8251-bba9682ad5ef|{\"newsletter\": true, \"notifications\": \"email\", \"language\": \"en\"} |\n",
      "+------------------------------------+-----------------------------------------------------------------+\n",
      "only showing top 20 rows\n"
     ]
    }
   ],
   "source": [
    "df_customer.select(\"customer_id\", \"preferences\").show(truncate=False)"
   ]
  },
  {
   "cell_type": "markdown",
   "id": "f566b22c",
   "metadata": {},
   "source": [
    "#### Data Cleaning"
   ]
  },
  {
   "cell_type": "code",
   "execution_count": null,
   "id": "7aceea55",
   "metadata": {},
   "outputs": [
    {
     "name": "stdout",
     "output_type": "stream",
     "text": [
      "+-----------+----+-----+---+------+-------+-----------+----------+---------+-----------+-----------+\n",
      "|customer_id|name|email|age|gender|country|signup_date|last_login|is_active|total_spent|preferences|\n",
      "+-----------+----+-----+---+------+-------+-----------+----------+---------+-----------+-----------+\n",
      "+-----------+----+-----+---+------+-------+-----------+----------+---------+-----------+-----------+\n",
      "\n"
     ]
    }
   ],
   "source": [
    "# drop rows where email is null\n",
    "\n",
    "df_clean = df_customer.na.drop(subset=\"email\")\n",
    "# df_clean.filter(col(\"email\").isNull() == True).show()"
   ]
  },
  {
   "cell_type": "code",
   "execution_count": 11,
   "id": "2658e38d",
   "metadata": {},
   "outputs": [
    {
     "name": "stdout",
     "output_type": "stream",
     "text": [
      "+--------------------+--------------+--------------------+----+-------+--------------------+-----------+-------------------+---------+-----------+--------------------+\n",
      "|         customer_id|          name|               email| age| gender|             country|signup_date|         last_login|is_active|total_spent|         preferences|\n",
      "+--------------------+--------------+--------------------+----+-------+--------------------+-----------+-------------------+---------+-----------+--------------------+\n",
      "|0e99a07c-c7a5-43d...|   Thomas Lamb|robinjackson@wrig...|NULL| Female|              France| 2023-03-01|2025-05-29 22:36:25|     true|     1438.4|{\"newsletter\": tr...|\n",
      "|3a69ac3e-6726-431...|Kimberly Blake|susan51@johnson-g...|20.0|   Male|       Guinea-Bissau| 2020-12-14|2025-03-21 23:52:55|     true|    2364.98|{\"newsletter\": tr...|\n",
      "|c63cab5f-dc06-484...|William Taylor|leahwilliams@gmai...|NULL| Female|               Kenya| 2023-11-16|2024-09-05 04:59:24|    false|    5913.19|{\"newsletter\": tr...|\n",
      "|50b165d0-6486-4d5...| Amanda Wright|   brian56@gmail.com|27.0|  Other|              Mexico| 2021-09-03|2025-02-06 07:51:31|     true|     972.82|{\"newsletter\": tr...|\n",
      "|4657a2b1-abae-49a...|  Molly Watson|danieldiaz@hendri...|69.0|Unknown|              Taiwan| 2022-11-05|2025-06-14 04:15:42|     true|     9732.5|{\"newsletter\": fa...|\n",
      "|0ffe272a-f261-450...|    Kelly Boyd|    lisa87@gmail.com|NULL| Female|Bouvet Island (Bo...| 2023-07-14|2025-03-05 14:30:02|     true|     505.95|{\"newsletter\": tr...|\n",
      "|ca9191a8-f736-46c...|   Jeremy Rios|    jperry@gmail.com|NULL|  Other|Saint Pierre and ...| 2023-09-02|2024-10-01 20:41:01|    false|    6375.06|{\"newsletter\": fa...|\n",
      "|808301e6-260a-47a...|   Jason Hicks|megansaunders@lee...|NULL|   Male|          Guadeloupe| 2022-01-27|2025-04-01 11:16:10|     true|    5364.69|{\"newsletter\": tr...|\n",
      "|997d2ea4-5957-43d...| Rickey Snyder|allenrachel@hotma...|58.0|  Other|           Sri Lanka| 2024-10-20|2025-02-10 23:58:09|     true|    2329.03|{\"newsletter\": tr...|\n",
      "|f1d943c5-9fba-4c9...|Stefanie Moore|   james40@gmail.com|NULL| Female|               Congo| 2024-06-18|2025-01-14 12:13:09|    false|    3986.54|{\"newsletter\": fa...|\n",
      "|438f6971-c3b4-4fe...|  David Wilson|coxkristen@torres...|NULL|Unknown|    Papua New Guinea| 2020-07-24|2025-04-12 03:00:13|    false|    3651.86|{\"newsletter\": tr...|\n",
      "|3457b0f6-1777-449...|Kristin Barker|   mark17@smith.info|NULL|  Other|Saint Vincent and...| 2022-03-04|2024-09-28 20:31:11|     true|    6818.82|{\"newsletter\": tr...|\n",
      "|adbc75ff-9d33-446...|  Anthony Hart|vanceamanda@yahoo...|39.0|  Other|           Guatemala| 2023-09-16|2025-03-04 14:43:28|    false|    1623.67|{\"newsletter\": tr...|\n",
      "|a97da932-82a3-4ec...| Carrie Hughes|youngjacob@yahoo.com|66.0|   Male|           Mauritius| 2025-06-24|2024-08-02 21:59:11|    false|    8424.61|{\"newsletter\": tr...|\n",
      "|a5767eda-bd1d-482...|Shelley Morrow|goodmanlaura@hotm...|52.0|  Other|                Guam| 2023-12-26|2024-12-25 13:57:45|    false|     243.79|{\"newsletter\": fa...|\n",
      "|cc7f129e-fb05-49d...|Andrew Stanley| tranroy@hotmail.com|NULL|Unknown|             Tokelau| 2021-08-24|2025-01-13 13:17:33|     true|    9292.69|{\"newsletter\": tr...|\n",
      "|9977d5e4-6b2d-418...|Tyler Crawford|rosalesgeorge@mar...|NULL|Unknown|      United Kingdom| 2022-07-20|2024-08-21 03:30:28|    false|    1253.99|{\"newsletter\": tr...|\n",
      "|9b330788-2219-400...|   Ryan Gibson|     sgay@barnes.com|39.0| Female|Saint Vincent and...| 2023-01-15|2024-09-12 18:29:24|    false|    6706.33|{\"newsletter\": tr...|\n",
      "|c0d08fef-2f97-410...|  Jacob Dodson|christine76@gmail...|NULL| Female|          Bangladesh| 2024-09-27|2025-06-25 09:07:54|    false|     8084.6|{\"newsletter\": tr...|\n",
      "|1c462dc3-44aa-413...|   Lisa Pierce|zacharysilva@jord...|NULL|Unknown|    French Polynesia| 2021-02-09|2025-04-26 10:00:34|    false|    8645.18|{\"newsletter\": tr...|\n",
      "+--------------------+--------------+--------------------+----+-------+--------------------+-----------+-------------------+---------+-----------+--------------------+\n",
      "only showing top 20 rows\n"
     ]
    }
   ],
   "source": [
    "\n",
    "df_clean = df_clean.na.fill({\"gender\": \"Unknown\"})\n",
    "df_clean.show()"
   ]
  },
  {
   "cell_type": "code",
   "execution_count": 13,
   "id": "f6996090",
   "metadata": {},
   "outputs": [
    {
     "name": "stdout",
     "output_type": "stream",
     "text": [
      "+--------------------+--------------+--------------------+----+-------+--------------------+-----------+-------------------+---------+-----------+--------------------+\n",
      "|         customer_id|          name|               email| age| gender|             country|signup_date|         last_login|is_active|total_spent|         preferences|\n",
      "+--------------------+--------------+--------------------+----+-------+--------------------+-----------+-------------------+---------+-----------+--------------------+\n",
      "|0e99a07c-c7a5-43d...|   Thomas Lamb|robinjackson@wrig...|50.0| Female|              France| 2023-03-01|2025-05-29 22:36:25|     true|     1438.4|{\"newsletter\": tr...|\n",
      "|3a69ac3e-6726-431...|Kimberly Blake|susan51@johnson-g...|20.0|   Male|       Guinea-Bissau| 2020-12-14|2025-03-21 23:52:55|     true|    2364.98|{\"newsletter\": tr...|\n",
      "|c63cab5f-dc06-484...|William Taylor|leahwilliams@gmai...|50.0| Female|               Kenya| 2023-11-16|2024-09-05 04:59:24|    false|    5913.19|{\"newsletter\": tr...|\n",
      "|50b165d0-6486-4d5...| Amanda Wright|   brian56@gmail.com|27.0|  Other|              Mexico| 2021-09-03|2025-02-06 07:51:31|     true|     972.82|{\"newsletter\": tr...|\n",
      "|4657a2b1-abae-49a...|  Molly Watson|danieldiaz@hendri...|69.0|Unknown|              Taiwan| 2022-11-05|2025-06-14 04:15:42|     true|     9732.5|{\"newsletter\": fa...|\n",
      "|0ffe272a-f261-450...|    Kelly Boyd|    lisa87@gmail.com|50.0| Female|Bouvet Island (Bo...| 2023-07-14|2025-03-05 14:30:02|     true|     505.95|{\"newsletter\": tr...|\n",
      "|ca9191a8-f736-46c...|   Jeremy Rios|    jperry@gmail.com|50.0|  Other|Saint Pierre and ...| 2023-09-02|2024-10-01 20:41:01|    false|    6375.06|{\"newsletter\": fa...|\n",
      "|808301e6-260a-47a...|   Jason Hicks|megansaunders@lee...|50.0|   Male|          Guadeloupe| 2022-01-27|2025-04-01 11:16:10|     true|    5364.69|{\"newsletter\": tr...|\n",
      "|997d2ea4-5957-43d...| Rickey Snyder|allenrachel@hotma...|58.0|  Other|           Sri Lanka| 2024-10-20|2025-02-10 23:58:09|     true|    2329.03|{\"newsletter\": tr...|\n",
      "|f1d943c5-9fba-4c9...|Stefanie Moore|   james40@gmail.com|50.0| Female|               Congo| 2024-06-18|2025-01-14 12:13:09|    false|    3986.54|{\"newsletter\": fa...|\n",
      "|438f6971-c3b4-4fe...|  David Wilson|coxkristen@torres...|50.0|Unknown|    Papua New Guinea| 2020-07-24|2025-04-12 03:00:13|    false|    3651.86|{\"newsletter\": tr...|\n",
      "|3457b0f6-1777-449...|Kristin Barker|   mark17@smith.info|50.0|  Other|Saint Vincent and...| 2022-03-04|2024-09-28 20:31:11|     true|    6818.82|{\"newsletter\": tr...|\n",
      "|adbc75ff-9d33-446...|  Anthony Hart|vanceamanda@yahoo...|39.0|  Other|           Guatemala| 2023-09-16|2025-03-04 14:43:28|    false|    1623.67|{\"newsletter\": tr...|\n",
      "|a97da932-82a3-4ec...| Carrie Hughes|youngjacob@yahoo.com|66.0|   Male|           Mauritius| 2025-06-24|2024-08-02 21:59:11|    false|    8424.61|{\"newsletter\": tr...|\n",
      "|a5767eda-bd1d-482...|Shelley Morrow|goodmanlaura@hotm...|52.0|  Other|                Guam| 2023-12-26|2024-12-25 13:57:45|    false|     243.79|{\"newsletter\": fa...|\n",
      "|cc7f129e-fb05-49d...|Andrew Stanley| tranroy@hotmail.com|50.0|Unknown|             Tokelau| 2021-08-24|2025-01-13 13:17:33|     true|    9292.69|{\"newsletter\": tr...|\n",
      "|9977d5e4-6b2d-418...|Tyler Crawford|rosalesgeorge@mar...|50.0|Unknown|      United Kingdom| 2022-07-20|2024-08-21 03:30:28|    false|    1253.99|{\"newsletter\": tr...|\n",
      "|9b330788-2219-400...|   Ryan Gibson|     sgay@barnes.com|39.0| Female|Saint Vincent and...| 2023-01-15|2024-09-12 18:29:24|    false|    6706.33|{\"newsletter\": tr...|\n",
      "|c0d08fef-2f97-410...|  Jacob Dodson|christine76@gmail...|50.0| Female|          Bangladesh| 2024-09-27|2025-06-25 09:07:54|    false|     8084.6|{\"newsletter\": tr...|\n",
      "|1c462dc3-44aa-413...|   Lisa Pierce|zacharysilva@jord...|50.0|Unknown|    French Polynesia| 2021-02-09|2025-04-26 10:00:34|    false|    8645.18|{\"newsletter\": tr...|\n",
      "+--------------------+--------------+--------------------+----+-------+--------------------+-----------+-------------------+---------+-----------+--------------------+\n",
      "only showing top 20 rows\n"
     ]
    }
   ],
   "source": [
    "# filling missing age with median age\n",
    "\n",
    "median_age = df_clean.approxQuantile(\"age\", [0.5], 0.01)[0]\n",
    "\n",
    "df_clean = df_clean.na.fill({\"age\": median_age})\n",
    "\n",
    "df_clean.show()\n",
    "\n"
   ]
  },
  {
   "cell_type": "code",
   "execution_count": 15,
   "id": "c0680560",
   "metadata": {},
   "outputs": [
    {
     "name": "stdout",
     "output_type": "stream",
     "text": [
      "+--------------------+--------------+--------------------+----+-------+--------------------+-----------+-------------------+---------+-----------+--------------------+\n",
      "|         customer_id|          name|               email| age| gender|             country|signup_date|         last_login|is_active|total_spent|         preferences|\n",
      "+--------------------+--------------+--------------------+----+-------+--------------------+-----------+-------------------+---------+-----------+--------------------+\n",
      "|0e99a07c-c7a5-43d...|   Thomas Lamb|robinjackson@wrig...|50.0| Female|              France| 2023-03-01|2025-05-29 22:36:25|     true|     1438.4|{\"newsletter\": tr...|\n",
      "|3a69ac3e-6726-431...|Kimberly Blake|susan51@johnson-g...|20.0|   Male|       Guinea-Bissau| 2020-12-14|2025-03-21 23:52:55|     true|    2364.98|{\"newsletter\": tr...|\n",
      "|c63cab5f-dc06-484...|William Taylor|leahwilliams@gmai...|50.0| Female|               Kenya| 2023-11-16|2024-09-05 04:59:24|    false|    5913.19|{\"newsletter\": tr...|\n",
      "|50b165d0-6486-4d5...| Amanda Wright|   brian56@gmail.com|27.0|  Other|              Mexico| 2021-09-03|2025-02-06 07:51:31|     true|     972.82|{\"newsletter\": tr...|\n",
      "|4657a2b1-abae-49a...|  Molly Watson|danieldiaz@hendri...|69.0|Unknown|              Taiwan| 2022-11-05|2025-06-14 04:15:42|     true|     9732.5|{\"newsletter\": fa...|\n",
      "|0ffe272a-f261-450...|    Kelly Boyd|    lisa87@gmail.com|50.0| Female|Bouvet Island (Bo...| 2023-07-14|2025-03-05 14:30:02|     true|     505.95|{\"newsletter\": tr...|\n",
      "|ca9191a8-f736-46c...|   Jeremy Rios|    jperry@gmail.com|50.0|  Other|Saint Pierre and ...| 2023-09-02|2024-10-01 20:41:01|    false|    6375.06|{\"newsletter\": fa...|\n",
      "|808301e6-260a-47a...|   Jason Hicks|megansaunders@lee...|50.0|   Male|          Guadeloupe| 2022-01-27|2025-04-01 11:16:10|     true|    5364.69|{\"newsletter\": tr...|\n",
      "|997d2ea4-5957-43d...| Rickey Snyder|allenrachel@hotma...|58.0|  Other|           Sri Lanka| 2024-10-20|2025-02-10 23:58:09|     true|    2329.03|{\"newsletter\": tr...|\n",
      "|f1d943c5-9fba-4c9...|Stefanie Moore|   james40@gmail.com|50.0| Female|               Congo| 2024-06-18|2025-01-14 12:13:09|    false|    3986.54|{\"newsletter\": fa...|\n",
      "|438f6971-c3b4-4fe...|  David Wilson|coxkristen@torres...|50.0|Unknown|    Papua New Guinea| 2020-07-24|2025-04-12 03:00:13|    false|    3651.86|{\"newsletter\": tr...|\n",
      "|3457b0f6-1777-449...|Kristin Barker|   mark17@smith.info|50.0|  Other|Saint Vincent and...| 2022-03-04|2024-09-28 20:31:11|     true|    6818.82|{\"newsletter\": tr...|\n",
      "|adbc75ff-9d33-446...|  Anthony Hart|vanceamanda@yahoo...|39.0|  Other|           Guatemala| 2023-09-16|2025-03-04 14:43:28|    false|    1623.67|{\"newsletter\": tr...|\n",
      "|a97da932-82a3-4ec...| Carrie Hughes|youngjacob@yahoo.com|66.0|   Male|           Mauritius| 2025-06-24|2024-08-02 21:59:11|    false|    8424.61|{\"newsletter\": tr...|\n",
      "|a5767eda-bd1d-482...|Shelley Morrow|goodmanlaura@hotm...|52.0|  Other|                Guam| 2023-12-26|2024-12-25 13:57:45|    false|     243.79|{\"newsletter\": fa...|\n",
      "|cc7f129e-fb05-49d...|Andrew Stanley| tranroy@hotmail.com|50.0|Unknown|             Tokelau| 2021-08-24|2025-01-13 13:17:33|     true|    9292.69|{\"newsletter\": tr...|\n",
      "|9977d5e4-6b2d-418...|Tyler Crawford|rosalesgeorge@mar...|50.0|Unknown|      United Kingdom| 2022-07-20|2024-08-21 03:30:28|    false|    1253.99|{\"newsletter\": tr...|\n",
      "|9b330788-2219-400...|   Ryan Gibson|     sgay@barnes.com|39.0| Female|Saint Vincent and...| 2023-01-15|2024-09-12 18:29:24|    false|    6706.33|{\"newsletter\": tr...|\n",
      "|c0d08fef-2f97-410...|  Jacob Dodson|christine76@gmail...|50.0| Female|          Bangladesh| 2024-09-27|2025-06-25 09:07:54|    false|     8084.6|{\"newsletter\": tr...|\n",
      "|1c462dc3-44aa-413...|   Lisa Pierce|zacharysilva@jord...|50.0|Unknown|    French Polynesia| 2021-02-09|2025-04-26 10:00:34|    false|    8645.18|{\"newsletter\": tr...|\n",
      "+--------------------+--------------+--------------------+----+-------+--------------------+-----------+-------------------+---------+-----------+--------------------+\n",
      "only showing top 20 rows\n"
     ]
    }
   ],
   "source": [
    "# fill out negative and zero total_spent\n",
    "\n",
    "df_clean = df_clean.filter((col(\"total_spent\").isNotNull()) & (col(\"total_spent\") >=0))\n",
    "df_clean.show()\n"
   ]
  },
  {
   "cell_type": "markdown",
   "id": "fe4b3db2",
   "metadata": {},
   "source": [
    "#### Enrichment"
   ]
  },
  {
   "cell_type": "code",
   "execution_count": 16,
   "id": "1f9fef8e",
   "metadata": {},
   "outputs": [
    {
     "name": "stdout",
     "output_type": "stream",
     "text": [
      "+--------------------+--------------+--------------------+----+-------+--------------------+-----------+-------------------+---------+-----------+--------------------+---------+\n",
      "|         customer_id|          name|               email| age| gender|             country|signup_date|         last_login|is_active|total_spent|         preferences|age_group|\n",
      "+--------------------+--------------+--------------------+----+-------+--------------------+-----------+-------------------+---------+-----------+--------------------+---------+\n",
      "|0e99a07c-c7a5-43d...|   Thomas Lamb|robinjackson@wrig...|50.0| Female|              France| 2023-03-01|2025-05-29 22:36:25|     true|     1438.4|{\"newsletter\": tr...|    Adult|\n",
      "|3a69ac3e-6726-431...|Kimberly Blake|susan51@johnson-g...|20.0|   Male|       Guinea-Bissau| 2020-12-14|2025-03-21 23:52:55|     true|    2364.98|{\"newsletter\": tr...|    Young|\n",
      "|c63cab5f-dc06-484...|William Taylor|leahwilliams@gmai...|50.0| Female|               Kenya| 2023-11-16|2024-09-05 04:59:24|    false|    5913.19|{\"newsletter\": tr...|    Adult|\n",
      "|50b165d0-6486-4d5...| Amanda Wright|   brian56@gmail.com|27.0|  Other|              Mexico| 2021-09-03|2025-02-06 07:51:31|     true|     972.82|{\"newsletter\": tr...|    Young|\n",
      "|4657a2b1-abae-49a...|  Molly Watson|danieldiaz@hendri...|69.0|Unknown|              Taiwan| 2022-11-05|2025-06-14 04:15:42|     true|     9732.5|{\"newsletter\": fa...|    Adult|\n",
      "|0ffe272a-f261-450...|    Kelly Boyd|    lisa87@gmail.com|50.0| Female|Bouvet Island (Bo...| 2023-07-14|2025-03-05 14:30:02|     true|     505.95|{\"newsletter\": tr...|    Adult|\n",
      "|ca9191a8-f736-46c...|   Jeremy Rios|    jperry@gmail.com|50.0|  Other|Saint Pierre and ...| 2023-09-02|2024-10-01 20:41:01|    false|    6375.06|{\"newsletter\": fa...|    Adult|\n",
      "|808301e6-260a-47a...|   Jason Hicks|megansaunders@lee...|50.0|   Male|          Guadeloupe| 2022-01-27|2025-04-01 11:16:10|     true|    5364.69|{\"newsletter\": tr...|    Adult|\n",
      "|997d2ea4-5957-43d...| Rickey Snyder|allenrachel@hotma...|58.0|  Other|           Sri Lanka| 2024-10-20|2025-02-10 23:58:09|     true|    2329.03|{\"newsletter\": tr...|    Adult|\n",
      "|f1d943c5-9fba-4c9...|Stefanie Moore|   james40@gmail.com|50.0| Female|               Congo| 2024-06-18|2025-01-14 12:13:09|    false|    3986.54|{\"newsletter\": fa...|    Adult|\n",
      "|438f6971-c3b4-4fe...|  David Wilson|coxkristen@torres...|50.0|Unknown|    Papua New Guinea| 2020-07-24|2025-04-12 03:00:13|    false|    3651.86|{\"newsletter\": tr...|    Adult|\n",
      "|3457b0f6-1777-449...|Kristin Barker|   mark17@smith.info|50.0|  Other|Saint Vincent and...| 2022-03-04|2024-09-28 20:31:11|     true|    6818.82|{\"newsletter\": tr...|    Adult|\n",
      "|adbc75ff-9d33-446...|  Anthony Hart|vanceamanda@yahoo...|39.0|  Other|           Guatemala| 2023-09-16|2025-03-04 14:43:28|    false|    1623.67|{\"newsletter\": tr...|    Adult|\n",
      "|a97da932-82a3-4ec...| Carrie Hughes|youngjacob@yahoo.com|66.0|   Male|           Mauritius| 2025-06-24|2024-08-02 21:59:11|    false|    8424.61|{\"newsletter\": tr...|    Adult|\n",
      "|a5767eda-bd1d-482...|Shelley Morrow|goodmanlaura@hotm...|52.0|  Other|                Guam| 2023-12-26|2024-12-25 13:57:45|    false|     243.79|{\"newsletter\": fa...|    Adult|\n",
      "|cc7f129e-fb05-49d...|Andrew Stanley| tranroy@hotmail.com|50.0|Unknown|             Tokelau| 2021-08-24|2025-01-13 13:17:33|     true|    9292.69|{\"newsletter\": tr...|    Adult|\n",
      "|9977d5e4-6b2d-418...|Tyler Crawford|rosalesgeorge@mar...|50.0|Unknown|      United Kingdom| 2022-07-20|2024-08-21 03:30:28|    false|    1253.99|{\"newsletter\": tr...|    Adult|\n",
      "|9b330788-2219-400...|   Ryan Gibson|     sgay@barnes.com|39.0| Female|Saint Vincent and...| 2023-01-15|2024-09-12 18:29:24|    false|    6706.33|{\"newsletter\": tr...|    Adult|\n",
      "|c0d08fef-2f97-410...|  Jacob Dodson|christine76@gmail...|50.0| Female|          Bangladesh| 2024-09-27|2025-06-25 09:07:54|    false|     8084.6|{\"newsletter\": tr...|    Adult|\n",
      "|1c462dc3-44aa-413...|   Lisa Pierce|zacharysilva@jord...|50.0|Unknown|    French Polynesia| 2021-02-09|2025-04-26 10:00:34|    false|    8645.18|{\"newsletter\": tr...|    Adult|\n",
      "+--------------------+--------------+--------------------+----+-------+--------------------+-----------+-------------------+---------+-----------+--------------------+---------+\n",
      "only showing top 20 rows\n"
     ]
    }
   ],
   "source": [
    "# add age group\n",
    "\n",
    "df_enriched = df_clean.withColumn(\"age_group\",\n",
    "    when(col(\"age\")< 30, \"Young\")\n",
    "    .when((col(\"age\") >=30) & (col(\"age\") <= 80), \"Adult\")\n",
    "    .otherwise(\"Senior\")\n",
    ")\n",
    "\n",
    "df_enriched.show()"
   ]
  },
  {
   "cell_type": "code",
   "execution_count": null,
   "id": "65f399df",
   "metadata": {},
   "outputs": [
    {
     "name": "stdout",
     "output_type": "stream",
     "text": [
      "+--------------------+---------------+------------------+-------------+\n",
      "|         customer_id|pref_newsletter|pref_notifications|pref_language|\n",
      "+--------------------+---------------+------------------+-------------+\n",
      "|0e99a07c-c7a5-43d...|           true|              push|           en|\n",
      "|3a69ac3e-6726-431...|           true|              push|           fr|\n",
      "|c63cab5f-dc06-484...|           true|             email|           de|\n",
      "|50b165d0-6486-4d5...|           true|               sms|           es|\n",
      "|4657a2b1-abae-49a...|          false|             email|           es|\n",
      "|0ffe272a-f261-450...|           true|               sms|           en|\n",
      "|ca9191a8-f736-46c...|          false|             email|           es|\n",
      "|808301e6-260a-47a...|           true|             email|           de|\n",
      "|997d2ea4-5957-43d...|           true|               sms|           de|\n",
      "+--------------------+---------------+------------------+-------------+\n",
      "only showing top 9 rows\n"
     ]
    }
   ],
   "source": [
    "# parse preferences JSOn cloumn into struct\n",
    "\n",
    "preferences_schema = StructType([\n",
    "    StructField(\"newsletter\", BooleanType(), True),\n",
    "    StructField(\"notifications\", StringType(), True),\n",
    "    StructField(\"language\", StringType(), True)\n",
    "])\n",
    "\n",
    "df_parsed = df_enriched.withColumn(\n",
    "    \"preferences_struct\",\n",
    "    from_json(col(\"preferences\"), preferences_schema)\n",
    ")\n",
    "\n",
    "# flatten struct fields into columns\n",
    "\n",
    "df_final = df_parsed \\\n",
    "    .withColumn(\"pref_newsletter\", col(\"preferences_struct.newsletter\")) \\\n",
    "    .withColumn(\"pref_notifications\", col(\"preferences_struct.notifications\")) \\\n",
    "    .withColumn(\"pref_language\", col(\"preferences_struct.language\")) \\\n",
    "        .drop(\"preferences\", \"preferences_struct\")\n",
    "\n",
    "df_final.select(\"customer_id\",\"pref_newsletter\", \"pref_notifications\", \"pref_language\" ).show(9)"
   ]
  },
  {
   "cell_type": "code",
   "execution_count": 28,
   "id": "c09c377f",
   "metadata": {},
   "outputs": [
    {
     "name": "stdout",
     "output_type": "stream",
     "text": [
      "+------------------------------------+--------------+-------------------------------+----+-------+--------------------------------+-----------+-------------------+---------+-----------+---------+---------------+------------------+-------------+-----------------+\n",
      "|customer_id                         |name          |email                          |age |gender |country                         |signup_date|last_login         |is_active|total_spent|age_group|pref_newsletter|pref_notifications|pref_language|name_parts       |\n",
      "+------------------------------------+--------------+-------------------------------+----+-------+--------------------------------+-----------+-------------------+---------+-----------+---------+---------------+------------------+-------------+-----------------+\n",
      "|0e99a07c-c7a5-43df-b5f3-79e2a9f18fc6|Thomas Lamb   |robinjackson@wright.com        |50.0|Female |France                          |2023-03-01 |2025-05-29 22:36:25|true     |1438.4     |Adult    |true           |push              |en           |{Thomas, Lamb}   |\n",
      "|3a69ac3e-6726-431c-82a7-5241ef568188|Kimberly Blake|susan51@johnson-garrett.com    |20.0|Male   |Guinea-Bissau                   |2020-12-14 |2025-03-21 23:52:55|true     |2364.98    |Young    |true           |push              |fr           |{Kimberly, Blake}|\n",
      "|c63cab5f-dc06-4842-926a-118f85a2e7ae|William Taylor|leahwilliams@gmail.com         |50.0|Female |Kenya                           |2023-11-16 |2024-09-05 04:59:24|false    |5913.19    |Adult    |true           |email             |de           |{William, Taylor}|\n",
      "|50b165d0-6486-4d5b-bcb8-12147c6f8160|Amanda Wright |brian56@gmail.com              |27.0|Other  |Mexico                          |2021-09-03 |2025-02-06 07:51:31|true     |972.82     |Young    |true           |sms               |es           |{Amanda, Wright} |\n",
      "|4657a2b1-abae-49ab-95d4-d21b878eb69e|Molly Watson  |danieldiaz@hendricks.net       |69.0|Unknown|Taiwan                          |2022-11-05 |2025-06-14 04:15:42|true     |9732.5     |Adult    |false          |email             |es           |{Molly, Watson}  |\n",
      "|0ffe272a-f261-4503-9aa2-33cac8959e0a|Kelly Boyd    |lisa87@gmail.com               |50.0|Female |Bouvet Island (Bouvetoya)       |2023-07-14 |2025-03-05 14:30:02|true     |505.95     |Adult    |true           |sms               |en           |{Kelly, Boyd}    |\n",
      "|ca9191a8-f736-46c8-b727-cfaa320a1c89|Jeremy Rios   |jperry@gmail.com               |50.0|Other  |Saint Pierre and Miquelon       |2023-09-02 |2024-10-01 20:41:01|false    |6375.06    |Adult    |false          |email             |es           |{Jeremy, Rios}   |\n",
      "|808301e6-260a-47af-a2d3-5533a5b184b0|Jason Hicks   |megansaunders@lee.com          |50.0|Male   |Guadeloupe                      |2022-01-27 |2025-04-01 11:16:10|true     |5364.69    |Adult    |true           |email             |de           |{Jason, Hicks}   |\n",
      "|997d2ea4-5957-43df-bbc2-43d2929f75de|Rickey Snyder |allenrachel@hotmail.com        |58.0|Other  |Sri Lanka                       |2024-10-20 |2025-02-10 23:58:09|true     |2329.03    |Adult    |true           |sms               |de           |{Rickey, Snyder} |\n",
      "|f1d943c5-9fba-4c95-a1d9-9f092ccbc7ea|Stefanie Moore|james40@gmail.com              |50.0|Female |Congo                           |2024-06-18 |2025-01-14 12:13:09|false    |3986.54    |Adult    |false          |email             |es           |{Stefanie, Moore}|\n",
      "|438f6971-c3b4-4fe8-8f15-c59288437a8e|David Wilson  |coxkristen@torres.com          |50.0|Unknown|Papua New Guinea                |2020-07-24 |2025-04-12 03:00:13|false    |3651.86    |Adult    |true           |push              |de           |{David, Wilson}  |\n",
      "|3457b0f6-1777-4499-92ff-57608b5937bc|Kristin Barker|mark17@smith.info              |50.0|Other  |Saint Vincent and the Grenadines|2022-03-04 |2024-09-28 20:31:11|true     |6818.82    |Adult    |true           |push              |es           |{Kristin, Barker}|\n",
      "|adbc75ff-9d33-446b-8661-34377b3fffc5|Anthony Hart  |vanceamanda@yahoo.com          |39.0|Other  |Guatemala                       |2023-09-16 |2025-03-04 14:43:28|false    |1623.67    |Adult    |true           |push              |es           |{Anthony, Hart}  |\n",
      "|a97da932-82a3-4ecf-aacf-07295785df54|Carrie Hughes |youngjacob@yahoo.com           |66.0|Male   |Mauritius                       |2025-06-24 |2024-08-02 21:59:11|false    |8424.61    |Adult    |true           |email             |es           |{Carrie, Hughes} |\n",
      "|a5767eda-bd1d-482a-a621-2eb8d78f6161|Shelley Morrow|goodmanlaura@hotmail.com       |52.0|Other  |Guam                            |2023-12-26 |2024-12-25 13:57:45|false    |243.79     |Adult    |false          |sms               |fr           |{Shelley, Morrow}|\n",
      "|cc7f129e-fb05-49dd-a918-09a5f08fd374|Andrew Stanley|tranroy@hotmail.com            |50.0|Unknown|Tokelau                         |2021-08-24 |2025-01-13 13:17:33|true     |9292.69    |Adult    |true           |push              |es           |{Andrew, Stanley}|\n",
      "|9977d5e4-6b2d-418e-8174-8510ccae6940|Tyler Crawford|rosalesgeorge@martin-adams.info|50.0|Unknown|United Kingdom                  |2022-07-20 |2024-08-21 03:30:28|false    |1253.99    |Adult    |true           |email             |es           |{Tyler, Crawford}|\n",
      "|9b330788-2219-400c-b7a2-6645234363dd|Ryan Gibson   |sgay@barnes.com                |39.0|Female |Saint Vincent and the Grenadines|2023-01-15 |2024-09-12 18:29:24|false    |6706.33    |Adult    |true           |push              |fr           |{Ryan, Gibson}   |\n",
      "|c0d08fef-2f97-4102-bebd-604fb286198c|Jacob Dodson  |christine76@gmail.com          |50.0|Female |Bangladesh                      |2024-09-27 |2025-06-25 09:07:54|false    |8084.6     |Adult    |true           |email             |en           |{Jacob, Dodson}  |\n",
      "|1c462dc3-44aa-413f-8d28-fd9e1a343c79|Lisa Pierce   |zacharysilva@jordan.net        |50.0|Unknown|French Polynesia                |2021-02-09 |2025-04-26 10:00:34|false    |8645.18    |Adult    |true           |push              |en           |{Lisa, Pierce}   |\n",
      "+------------------------------------+--------------+-------------------------------+----+-------+--------------------------------+-----------+-------------------+---------+-----------+---------+---------------+------------------+-------------+-----------------+\n",
      "only showing top 20 rows\n"
     ]
    }
   ],
   "source": [
    "# custom udf to split name to first_name and last_name\n",
    "\n",
    "return_type = StructType([\n",
    "    StructField(\"first_name\", StringType(), True),\n",
    "    StructField(\"last_name\", StringType(), True)\n",
    "]\n",
    ")\n",
    "\n",
    "@udf(returnType=return_type)\n",
    "def split_full_name(full_name: str) -> dict:\n",
    "    if full_name is None:\n",
    "        return None\n",
    "\n",
    "    parts = full_name.split(\" \",1)\n",
    "    first_name = parts[0]\n",
    "    last_name = None\n",
    "    if(len(parts)>1):\n",
    "        last_name= parts[1]\n",
    "\n",
    "    return {\"first_name\": first_name, \"last_name\": last_name}\n",
    "\n",
    "\n",
    "df_with_split_name = df_final.withColumn(\n",
    "    \"name_parts\", split_full_name(col(\"name\"))\n",
    "\n",
    ")\n",
    "\n",
    "df_with_split_name.show(truncate=False)\n",
    "\n",
    "\n",
    "\n"
   ]
  },
  {
   "cell_type": "code",
   "execution_count": 29,
   "id": "5848e0a8",
   "metadata": {},
   "outputs": [
    {
     "name": "stdout",
     "output_type": "stream",
     "text": [
      "root\n",
      " |-- customer_id: string (nullable = true)\n",
      " |-- name: string (nullable = true)\n",
      " |-- email: string (nullable = true)\n",
      " |-- age: double (nullable = false)\n",
      " |-- gender: string (nullable = false)\n",
      " |-- country: string (nullable = true)\n",
      " |-- signup_date: date (nullable = true)\n",
      " |-- last_login: timestamp (nullable = true)\n",
      " |-- is_active: boolean (nullable = true)\n",
      " |-- total_spent: double (nullable = true)\n",
      " |-- age_group: string (nullable = false)\n",
      " |-- pref_newsletter: boolean (nullable = true)\n",
      " |-- pref_notifications: string (nullable = true)\n",
      " |-- pref_language: string (nullable = true)\n",
      " |-- name_parts: struct (nullable = true)\n",
      " |    |-- first_name: string (nullable = true)\n",
      " |    |-- last_name: string (nullable = true)\n",
      "\n"
     ]
    }
   ],
   "source": [
    "df_with_split_name.printSchema()"
   ]
  },
  {
   "cell_type": "code",
   "execution_count": 30,
   "id": "772178b6",
   "metadata": {},
   "outputs": [
    {
     "name": "stdout",
     "output_type": "stream",
     "text": [
      "+--------------------+--------------------+----+-------+--------------------+-----------+-------------------+---------+-----------+---------+---------------+------------------+-------------+----------+---------+\n",
      "|         customer_id|               email| age| gender|             country|signup_date|         last_login|is_active|total_spent|age_group|pref_newsletter|pref_notifications|pref_language|first_name|last_name|\n",
      "+--------------------+--------------------+----+-------+--------------------+-----------+-------------------+---------+-----------+---------+---------------+------------------+-------------+----------+---------+\n",
      "|0e99a07c-c7a5-43d...|robinjackson@wrig...|50.0| Female|              France| 2023-03-01|2025-05-29 22:36:25|     true|     1438.4|    Adult|           true|              push|           en|    Thomas|     Lamb|\n",
      "|3a69ac3e-6726-431...|susan51@johnson-g...|20.0|   Male|       Guinea-Bissau| 2020-12-14|2025-03-21 23:52:55|     true|    2364.98|    Young|           true|              push|           fr|  Kimberly|    Blake|\n",
      "|c63cab5f-dc06-484...|leahwilliams@gmai...|50.0| Female|               Kenya| 2023-11-16|2024-09-05 04:59:24|    false|    5913.19|    Adult|           true|             email|           de|   William|   Taylor|\n",
      "|50b165d0-6486-4d5...|   brian56@gmail.com|27.0|  Other|              Mexico| 2021-09-03|2025-02-06 07:51:31|     true|     972.82|    Young|           true|               sms|           es|    Amanda|   Wright|\n",
      "|4657a2b1-abae-49a...|danieldiaz@hendri...|69.0|Unknown|              Taiwan| 2022-11-05|2025-06-14 04:15:42|     true|     9732.5|    Adult|          false|             email|           es|     Molly|   Watson|\n",
      "|0ffe272a-f261-450...|    lisa87@gmail.com|50.0| Female|Bouvet Island (Bo...| 2023-07-14|2025-03-05 14:30:02|     true|     505.95|    Adult|           true|               sms|           en|     Kelly|     Boyd|\n",
      "|ca9191a8-f736-46c...|    jperry@gmail.com|50.0|  Other|Saint Pierre and ...| 2023-09-02|2024-10-01 20:41:01|    false|    6375.06|    Adult|          false|             email|           es|    Jeremy|     Rios|\n",
      "|808301e6-260a-47a...|megansaunders@lee...|50.0|   Male|          Guadeloupe| 2022-01-27|2025-04-01 11:16:10|     true|    5364.69|    Adult|           true|             email|           de|     Jason|    Hicks|\n",
      "|997d2ea4-5957-43d...|allenrachel@hotma...|58.0|  Other|           Sri Lanka| 2024-10-20|2025-02-10 23:58:09|     true|    2329.03|    Adult|           true|               sms|           de|    Rickey|   Snyder|\n",
      "|f1d943c5-9fba-4c9...|   james40@gmail.com|50.0| Female|               Congo| 2024-06-18|2025-01-14 12:13:09|    false|    3986.54|    Adult|          false|             email|           es|  Stefanie|    Moore|\n",
      "|438f6971-c3b4-4fe...|coxkristen@torres...|50.0|Unknown|    Papua New Guinea| 2020-07-24|2025-04-12 03:00:13|    false|    3651.86|    Adult|           true|              push|           de|     David|   Wilson|\n",
      "|3457b0f6-1777-449...|   mark17@smith.info|50.0|  Other|Saint Vincent and...| 2022-03-04|2024-09-28 20:31:11|     true|    6818.82|    Adult|           true|              push|           es|   Kristin|   Barker|\n",
      "|adbc75ff-9d33-446...|vanceamanda@yahoo...|39.0|  Other|           Guatemala| 2023-09-16|2025-03-04 14:43:28|    false|    1623.67|    Adult|           true|              push|           es|   Anthony|     Hart|\n",
      "|a97da932-82a3-4ec...|youngjacob@yahoo.com|66.0|   Male|           Mauritius| 2025-06-24|2024-08-02 21:59:11|    false|    8424.61|    Adult|           true|             email|           es|    Carrie|   Hughes|\n",
      "|a5767eda-bd1d-482...|goodmanlaura@hotm...|52.0|  Other|                Guam| 2023-12-26|2024-12-25 13:57:45|    false|     243.79|    Adult|          false|               sms|           fr|   Shelley|   Morrow|\n",
      "|cc7f129e-fb05-49d...| tranroy@hotmail.com|50.0|Unknown|             Tokelau| 2021-08-24|2025-01-13 13:17:33|     true|    9292.69|    Adult|           true|              push|           es|    Andrew|  Stanley|\n",
      "|9977d5e4-6b2d-418...|rosalesgeorge@mar...|50.0|Unknown|      United Kingdom| 2022-07-20|2024-08-21 03:30:28|    false|    1253.99|    Adult|           true|             email|           es|     Tyler| Crawford|\n",
      "|9b330788-2219-400...|     sgay@barnes.com|39.0| Female|Saint Vincent and...| 2023-01-15|2024-09-12 18:29:24|    false|    6706.33|    Adult|           true|              push|           fr|      Ryan|   Gibson|\n",
      "|c0d08fef-2f97-410...|christine76@gmail...|50.0| Female|          Bangladesh| 2024-09-27|2025-06-25 09:07:54|    false|     8084.6|    Adult|           true|             email|           en|     Jacob|   Dodson|\n",
      "|1c462dc3-44aa-413...|zacharysilva@jord...|50.0|Unknown|    French Polynesia| 2021-02-09|2025-04-26 10:00:34|    false|    8645.18|    Adult|           true|              push|           en|      Lisa|   Pierce|\n",
      "+--------------------+--------------------+----+-------+--------------------+-----------+-------------------+---------+-----------+---------+---------------+------------------+-------------+----------+---------+\n",
      "only showing top 20 rows\n"
     ]
    }
   ],
   "source": [
    "df_with_split_name.withColumn(\"first_name\", col(\"name_parts.first_name\")) \\\n",
    "     .withColumn(\"last_name\", col(\"name_parts.last_name\")) \\\n",
    "     .drop(\"name_parts\", \"name\").show()"
   ]
  },
  {
   "cell_type": "code",
   "execution_count": 31,
   "id": "d69e2496",
   "metadata": {},
   "outputs": [
    {
     "name": "stdout",
     "output_type": "stream",
     "text": [
      "+--------------------+--------------+--------------------+----+-------+--------------------+-----------+-------------------+---------+-----------+---------+---------------+------------------+-------------+-----------------+\n",
      "|         customer_id|          name|               email| age| gender|             country|signup_date|         last_login|is_active|total_spent|age_group|pref_newsletter|pref_notifications|pref_language|       name_parts|\n",
      "+--------------------+--------------+--------------------+----+-------+--------------------+-----------+-------------------+---------+-----------+---------+---------------+------------------+-------------+-----------------+\n",
      "|0e99a07c-c7a5-43d...|   Thomas Lamb|robinjackson@wrig...|50.0| Female|              France| 2023-03-01|2025-05-29 22:36:25|     true|     1438.4|    Adult|           true|              push|           en|   {Thomas, Lamb}|\n",
      "|3a69ac3e-6726-431...|Kimberly Blake|susan51@johnson-g...|20.0|   Male|       Guinea-Bissau| 2020-12-14|2025-03-21 23:52:55|     true|    2364.98|    Young|           true|              push|           fr|{Kimberly, Blake}|\n",
      "|c63cab5f-dc06-484...|William Taylor|leahwilliams@gmai...|50.0| Female|               Kenya| 2023-11-16|2024-09-05 04:59:24|    false|    5913.19|    Adult|           true|             email|           de|{William, Taylor}|\n",
      "|50b165d0-6486-4d5...| Amanda Wright|   brian56@gmail.com|27.0|  Other|              Mexico| 2021-09-03|2025-02-06 07:51:31|     true|     972.82|    Young|           true|               sms|           es| {Amanda, Wright}|\n",
      "|4657a2b1-abae-49a...|  Molly Watson|danieldiaz@hendri...|69.0|Unknown|              Taiwan| 2022-11-05|2025-06-14 04:15:42|     true|     9732.5|    Adult|          false|             email|           es|  {Molly, Watson}|\n",
      "|0ffe272a-f261-450...|    Kelly Boyd|    lisa87@gmail.com|50.0| Female|Bouvet Island (Bo...| 2023-07-14|2025-03-05 14:30:02|     true|     505.95|    Adult|           true|               sms|           en|    {Kelly, Boyd}|\n",
      "|ca9191a8-f736-46c...|   Jeremy Rios|    jperry@gmail.com|50.0|  Other|Saint Pierre and ...| 2023-09-02|2024-10-01 20:41:01|    false|    6375.06|    Adult|          false|             email|           es|   {Jeremy, Rios}|\n",
      "|808301e6-260a-47a...|   Jason Hicks|megansaunders@lee...|50.0|   Male|          Guadeloupe| 2022-01-27|2025-04-01 11:16:10|     true|    5364.69|    Adult|           true|             email|           de|   {Jason, Hicks}|\n",
      "|997d2ea4-5957-43d...| Rickey Snyder|allenrachel@hotma...|58.0|  Other|           Sri Lanka| 2024-10-20|2025-02-10 23:58:09|     true|    2329.03|    Adult|           true|               sms|           de| {Rickey, Snyder}|\n",
      "+--------------------+--------------+--------------------+----+-------+--------------------+-----------+-------------------+---------+-----------+---------+---------------+------------------+-------------+-----------------+\n",
      "only showing top 9 rows\n"
     ]
    }
   ],
   "source": [
    "df_with_split_name.show(9)"
   ]
  },
  {
   "cell_type": "markdown",
   "id": "9a96fec4",
   "metadata": {},
   "source": [
    "#### Analysis"
   ]
  },
  {
   "cell_type": "code",
   "execution_count": 32,
   "id": "eb96f016",
   "metadata": {},
   "outputs": [
    {
     "name": "stdout",
     "output_type": "stream",
     "text": [
      "+--------------------+---------+------------------+-----------+\n",
      "|             country|customers|     total_revenue|avg_revanue|\n",
      "+--------------------+---------+------------------+-----------+\n",
      "|      United Kingdom|        3|          14057.16|    4685.72|\n",
      "|             Jamaica|        2|          14054.52|    7027.26|\n",
      "|Saint Vincent and...|        2|          13525.15|    6762.58|\n",
      "|           Lithuania|        2|           12224.8|     6112.4|\n",
      "|             Tunisia|        3|          11639.62|    3879.87|\n",
      "|              Guinea|        2|          11605.49|    5802.75|\n",
      "|          Bangladesh|        2|           11274.3|    5637.15|\n",
      "| Trinidad and Tobago|        2|          10533.08|    5266.54|\n",
      "|            Anguilla|        2|10513.830000000002|    5256.92|\n",
      "|              Zambia|        1|           9995.75|    9995.75|\n",
      "|            Mongolia|        1|           9763.25|    9763.25|\n",
      "|              Taiwan|        1|            9732.5|     9732.5|\n",
      "|        Sierra Leone|        1|           9473.25|    9473.25|\n",
      "|     Kyrgyz Republic|        1|           9430.28|    9430.28|\n",
      "|          Micronesia|        1|           9392.35|    9392.35|\n",
      "|             Tokelau|        1|           9292.69|    9292.69|\n",
      "|Turks and Caicos ...|        1|           8776.53|    8776.53|\n",
      "|             Hungary|        1|           8702.54|    8702.54|\n",
      "|    French Polynesia|        1|           8645.18|    8645.18|\n",
      "|           Mauritius|        1|           8424.61|    8424.61|\n",
      "+--------------------+---------+------------------+-----------+\n",
      "only showing top 20 rows\n"
     ]
    }
   ],
   "source": [
    "# total and average revenue by country\n",
    "\n",
    "df_with_split_name.groupBy(\"country\").agg(\n",
    "    count(\"*\").alias(\"customers\"),\n",
    "    sum(\"total_spent\").alias(\"total_revenue\"),\n",
    "    round(avg(\"total_spent\"), 2).alias(\"avg_revanue\")\n",
    ").orderBy(col(\"total_revenue\").desc()).show()"
   ]
  },
  {
   "cell_type": "code",
   "execution_count": 33,
   "id": "8a1c8f1a",
   "metadata": {},
   "outputs": [
    {
     "name": "stdout",
     "output_type": "stream",
     "text": [
      "+---------+-----+\n",
      "|age_group|count|\n",
      "+---------+-----+\n",
      "|    Adult|   81|\n",
      "|    Young|    8|\n",
      "+---------+-----+\n",
      "\n"
     ]
    }
   ],
   "source": [
    "# count of customers by age_group\n",
    "\n",
    "df_with_split_name.groupby(\"age_group\").count().show()"
   ]
  },
  {
   "cell_type": "code",
   "execution_count": 34,
   "id": "bb2e7133",
   "metadata": {},
   "outputs": [
    {
     "name": "stdout",
     "output_type": "stream",
     "text": [
      "+------------------+-----+\n",
      "|pref_notifications|count|\n",
      "+------------------+-----+\n",
      "|               sms|   35|\n",
      "|              push|   28|\n",
      "|             email|   26|\n",
      "+------------------+-----+\n",
      "\n"
     ]
    }
   ],
   "source": [
    "# most common notification type\n",
    "\n",
    "df_with_split_name.groupBy(\"pref_notifications\").count().orderBy(\"count\", ascending=False).show()"
   ]
  },
  {
   "cell_type": "code",
   "execution_count": 35,
   "id": "df703ec6",
   "metadata": {},
   "outputs": [
    {
     "name": "stderr",
     "output_type": "stream",
     "text": [
      "                                                                                \r"
     ]
    }
   ],
   "source": [
    "# save to parquet\n",
    "\n",
    "df_with_split_name.write.mode(\"overwrite\").parquet(\"final_customers.parquet\")"
   ]
  },
  {
   "cell_type": "markdown",
   "id": "206717d1",
   "metadata": {},
   "source": [
    "### Compare Spark SQL and DataFrame API"
   ]
  },
  {
   "cell_type": "code",
   "execution_count": 36,
   "id": "4b6e8074",
   "metadata": {},
   "outputs": [],
   "source": [
    "# register view\n",
    "\n",
    "df_with_split_name.createOrReplaceTempView(\"customers\")\n",
    "\n",
    "\n"
   ]
  },
  {
   "cell_type": "code",
   "execution_count": 41,
   "id": "56449585",
   "metadata": {},
   "outputs": [
    {
     "name": "stdout",
     "output_type": "stream",
     "text": [
      "== Parsed Logical Plan ==\n",
      "'Aggregate ['country], ['country, 'COUNT(1) AS total#960, 'ROUND('AVG('total_spent), 2) AS avg_spent#961]\n",
      "+- 'UnresolvedRelation [customers], [], false\n",
      "\n",
      "== Analyzed Logical Plan ==\n",
      "country: string, total: bigint, avg_spent: double\n",
      "Aggregate [country#16], [country#16, count(1) AS total#960L, round(avg(total_spent#20), 2) AS avg_spent#961]\n",
      "+- SubqueryAlias customers\n",
      "   +- View (`customers`, [customer_id#11, name#12, email#13, age#288, gender#228, country#16, signup_date#17, last_login#18, is_active#19, total_spent#20, age_group#424, pref_newsletter#474, pref_notifications#476, pref_language#478, name_parts#623])\n",
      "      +- Project [customer_id#11, name#12, email#13, age#288, gender#228, country#16, signup_date#17, last_login#18, is_active#19, total_spent#20, age_group#424, pref_newsletter#474, pref_notifications#476, pref_language#478, split_full_name(name#12)#622 AS name_parts#623]\n",
      "         +- Project [customer_id#11, name#12, email#13, age#288, gender#228, country#16, signup_date#17, last_login#18, is_active#19, total_spent#20, age_group#424, pref_newsletter#474, pref_notifications#476, pref_language#478]\n",
      "            +- Project [customer_id#11, name#12, email#13, age#288, gender#228, country#16, signup_date#17, last_login#18, is_active#19, total_spent#20, preferences#21, age_group#424, preferences_struct#473, pref_newsletter#474, pref_notifications#476, preferences_struct#473.language AS pref_language#478]\n",
      "               +- Project [customer_id#11, name#12, email#13, age#288, gender#228, country#16, signup_date#17, last_login#18, is_active#19, total_spent#20, preferences#21, age_group#424, preferences_struct#473, pref_newsletter#474, preferences_struct#473.notifications AS pref_notifications#476]\n",
      "                  +- Project [customer_id#11, name#12, email#13, age#288, gender#228, country#16, signup_date#17, last_login#18, is_active#19, total_spent#20, preferences#21, age_group#424, preferences_struct#473, preferences_struct#473.newsletter AS pref_newsletter#474]\n",
      "                     +- Project [customer_id#11, name#12, email#13, age#288, gender#228, country#16, signup_date#17, last_login#18, is_active#19, total_spent#20, preferences#21, age_group#424, from_json(StructField(newsletter,BooleanType,true), StructField(notifications,StringType,true), StructField(language,StringType,true), preferences#21, Some(Etc/UTC), false) AS preferences_struct#473]\n",
      "                        +- Project [customer_id#11, name#12, email#13, age#288, gender#228, country#16, signup_date#17, last_login#18, is_active#19, total_spent#20, preferences#21, CASE WHEN (age#288 < cast(30 as double)) THEN Young WHEN ((age#288 >= cast(30 as double)) AND (age#288 <= cast(80 as double))) THEN Adult ELSE Senior END AS age_group#424]\n",
      "                           +- Filter (isnotnull(total_spent#20) AND (total_spent#20 >= cast(0 as double)))\n",
      "                              +- Project [customer_id#11, name#12, email#13, coalesce(nanvl(age#14, cast(null as double)), cast(50.0 as double)) AS age#288, gender#228, country#16, signup_date#17, last_login#18, is_active#19, total_spent#20, preferences#21]\n",
      "                                 +- Project [customer_id#11, name#12, email#13, age#14, coalesce(gender#15, cast(Unknown as string)) AS gender#228, country#16, signup_date#17, last_login#18, is_active#19, total_spent#20, preferences#21]\n",
      "                                    +- Filter atleastnnonnulls(1, email#13)\n",
      "                                       +- Relation [customer_id#11,name#12,email#13,age#14,gender#15,country#16,signup_date#17,last_login#18,is_active#19,total_spent#20,preferences#21] csv\n",
      "\n",
      "== Optimized Logical Plan ==\n",
      "Aggregate [country#16], [country#16, count(1) AS total#960L, round(avg(total_spent#20), 2) AS avg_spent#961]\n",
      "+- Project [country#16, total_spent#20]\n",
      "   +- Filter (atleastnnonnulls(1, email#13) AND (isnotnull(total_spent#20) AND (total_spent#20 >= 0.0)))\n",
      "      +- Relation [customer_id#11,name#12,email#13,age#14,gender#15,country#16,signup_date#17,last_login#18,is_active#19,total_spent#20,preferences#21] csv\n",
      "\n",
      "== Physical Plan ==\n",
      "AdaptiveSparkPlan isFinalPlan=false\n",
      "+- HashAggregate(keys=[country#16], functions=[count(1), avg(total_spent#20)], output=[country#16, total#960L, avg_spent#961])\n",
      "   +- Exchange hashpartitioning(country#16, 200), ENSURE_REQUIREMENTS, [plan_id=759]\n",
      "      +- HashAggregate(keys=[country#16], functions=[partial_count(1), partial_avg(total_spent#20)], output=[country#16, count#967L, sum#968, count#969L])\n",
      "         +- Project [country#16, total_spent#20]\n",
      "            +- Filter ((atleastnnonnulls(1, email#13) AND isnotnull(total_spent#20)) AND (total_spent#20 >= 0.0))\n",
      "               +- FileScan csv [email#13,country#16,total_spent#20] Batched: false, DataFilters: [atleastnnonnulls(1, email#13), isnotnull(total_spent#20), (total_spent#20 >= 0.0)], Format: CSV, Location: InMemoryFileIndex(1 paths)[file:/workspace/TRNG-2224-data-engineering/week2/datasets/enriched_cus..., PartitionFilters: [], PushedFilters: [IsNotNull(total_spent), GreaterThanOrEqual(total_spent,0.0)], ReadSchema: struct<email:string,country:string,total_spent:double>\n",
      "\n"
     ]
    }
   ],
   "source": [
    "sql_plan = spark.sql(\"\"\"\n",
    "    SELECT country, COUNT(*) AS total, ROUND(AVG(total_spent), 2) AS avg_spent\n",
    "    FROM customers\n",
    "    GROUP BY country\n",
    "\"\"\").explain(True)\n",
    "\n",
    "sql_plan"
   ]
  },
  {
   "cell_type": "code",
   "execution_count": 42,
   "id": "8d1f8b93",
   "metadata": {},
   "outputs": [
    {
     "name": "stdout",
     "output_type": "stream",
     "text": [
      "== Parsed Logical Plan ==\n",
      "'Aggregate ['country], ['country, 'count(*) AS total#970, 'round('avg('total_spent), 2) AS avg_spent#971]\n",
      "+- Project [customer_id#11, name#12, email#13, age#288, gender#228, country#16, signup_date#17, last_login#18, is_active#19, total_spent#20, age_group#424, pref_newsletter#474, pref_notifications#476, pref_language#478, split_full_name(name#12)#622 AS name_parts#623]\n",
      "   +- Project [customer_id#11, name#12, email#13, age#288, gender#228, country#16, signup_date#17, last_login#18, is_active#19, total_spent#20, age_group#424, pref_newsletter#474, pref_notifications#476, pref_language#478]\n",
      "      +- Project [customer_id#11, name#12, email#13, age#288, gender#228, country#16, signup_date#17, last_login#18, is_active#19, total_spent#20, preferences#21, age_group#424, preferences_struct#473, pref_newsletter#474, pref_notifications#476, preferences_struct#473.language AS pref_language#478]\n",
      "         +- Project [customer_id#11, name#12, email#13, age#288, gender#228, country#16, signup_date#17, last_login#18, is_active#19, total_spent#20, preferences#21, age_group#424, preferences_struct#473, pref_newsletter#474, preferences_struct#473.notifications AS pref_notifications#476]\n",
      "            +- Project [customer_id#11, name#12, email#13, age#288, gender#228, country#16, signup_date#17, last_login#18, is_active#19, total_spent#20, preferences#21, age_group#424, preferences_struct#473, preferences_struct#473.newsletter AS pref_newsletter#474]\n",
      "               +- Project [customer_id#11, name#12, email#13, age#288, gender#228, country#16, signup_date#17, last_login#18, is_active#19, total_spent#20, preferences#21, age_group#424, from_json(StructField(newsletter,BooleanType,true), StructField(notifications,StringType,true), StructField(language,StringType,true), preferences#21, Some(Etc/UTC), false) AS preferences_struct#473]\n",
      "                  +- Project [customer_id#11, name#12, email#13, age#288, gender#228, country#16, signup_date#17, last_login#18, is_active#19, total_spent#20, preferences#21, CASE WHEN (age#288 < cast(30 as double)) THEN Young WHEN ((age#288 >= cast(30 as double)) AND (age#288 <= cast(80 as double))) THEN Adult ELSE Senior END AS age_group#424]\n",
      "                     +- Filter (isnotnull(total_spent#20) AND (total_spent#20 >= cast(0 as double)))\n",
      "                        +- Project [customer_id#11, name#12, email#13, coalesce(nanvl(age#14, cast(null as double)), cast(50.0 as double)) AS age#288, gender#228, country#16, signup_date#17, last_login#18, is_active#19, total_spent#20, preferences#21]\n",
      "                           +- Project [customer_id#11, name#12, email#13, age#14, coalesce(gender#15, cast(Unknown as string)) AS gender#228, country#16, signup_date#17, last_login#18, is_active#19, total_spent#20, preferences#21]\n",
      "                              +- Filter atleastnnonnulls(1, email#13)\n",
      "                                 +- Relation [customer_id#11,name#12,email#13,age#14,gender#15,country#16,signup_date#17,last_login#18,is_active#19,total_spent#20,preferences#21] csv\n",
      "\n",
      "== Analyzed Logical Plan ==\n",
      "country: string, total: bigint, avg_spent: double\n",
      "Aggregate [country#16], [country#16, count(1) AS total#970L, round(avg(total_spent#20), 2) AS avg_spent#971]\n",
      "+- Project [customer_id#11, name#12, email#13, age#288, gender#228, country#16, signup_date#17, last_login#18, is_active#19, total_spent#20, age_group#424, pref_newsletter#474, pref_notifications#476, pref_language#478, split_full_name(name#12)#622 AS name_parts#623]\n",
      "   +- Project [customer_id#11, name#12, email#13, age#288, gender#228, country#16, signup_date#17, last_login#18, is_active#19, total_spent#20, age_group#424, pref_newsletter#474, pref_notifications#476, pref_language#478]\n",
      "      +- Project [customer_id#11, name#12, email#13, age#288, gender#228, country#16, signup_date#17, last_login#18, is_active#19, total_spent#20, preferences#21, age_group#424, preferences_struct#473, pref_newsletter#474, pref_notifications#476, preferences_struct#473.language AS pref_language#478]\n",
      "         +- Project [customer_id#11, name#12, email#13, age#288, gender#228, country#16, signup_date#17, last_login#18, is_active#19, total_spent#20, preferences#21, age_group#424, preferences_struct#473, pref_newsletter#474, preferences_struct#473.notifications AS pref_notifications#476]\n",
      "            +- Project [customer_id#11, name#12, email#13, age#288, gender#228, country#16, signup_date#17, last_login#18, is_active#19, total_spent#20, preferences#21, age_group#424, preferences_struct#473, preferences_struct#473.newsletter AS pref_newsletter#474]\n",
      "               +- Project [customer_id#11, name#12, email#13, age#288, gender#228, country#16, signup_date#17, last_login#18, is_active#19, total_spent#20, preferences#21, age_group#424, from_json(StructField(newsletter,BooleanType,true), StructField(notifications,StringType,true), StructField(language,StringType,true), preferences#21, Some(Etc/UTC), false) AS preferences_struct#473]\n",
      "                  +- Project [customer_id#11, name#12, email#13, age#288, gender#228, country#16, signup_date#17, last_login#18, is_active#19, total_spent#20, preferences#21, CASE WHEN (age#288 < cast(30 as double)) THEN Young WHEN ((age#288 >= cast(30 as double)) AND (age#288 <= cast(80 as double))) THEN Adult ELSE Senior END AS age_group#424]\n",
      "                     +- Filter (isnotnull(total_spent#20) AND (total_spent#20 >= cast(0 as double)))\n",
      "                        +- Project [customer_id#11, name#12, email#13, coalesce(nanvl(age#14, cast(null as double)), cast(50.0 as double)) AS age#288, gender#228, country#16, signup_date#17, last_login#18, is_active#19, total_spent#20, preferences#21]\n",
      "                           +- Project [customer_id#11, name#12, email#13, age#14, coalesce(gender#15, cast(Unknown as string)) AS gender#228, country#16, signup_date#17, last_login#18, is_active#19, total_spent#20, preferences#21]\n",
      "                              +- Filter atleastnnonnulls(1, email#13)\n",
      "                                 +- Relation [customer_id#11,name#12,email#13,age#14,gender#15,country#16,signup_date#17,last_login#18,is_active#19,total_spent#20,preferences#21] csv\n",
      "\n",
      "== Optimized Logical Plan ==\n",
      "Aggregate [country#16], [country#16, count(1) AS total#970L, round(avg(total_spent#20), 2) AS avg_spent#971]\n",
      "+- Project [country#16, total_spent#20]\n",
      "   +- Filter (atleastnnonnulls(1, email#13) AND (isnotnull(total_spent#20) AND (total_spent#20 >= 0.0)))\n",
      "      +- Relation [customer_id#11,name#12,email#13,age#14,gender#15,country#16,signup_date#17,last_login#18,is_active#19,total_spent#20,preferences#21] csv\n",
      "\n",
      "== Physical Plan ==\n",
      "AdaptiveSparkPlan isFinalPlan=false\n",
      "+- HashAggregate(keys=[country#16], functions=[count(1), avg(total_spent#20)], output=[country#16, total#970L, avg_spent#971])\n",
      "   +- Exchange hashpartitioning(country#16, 200), ENSURE_REQUIREMENTS, [plan_id=776]\n",
      "      +- HashAggregate(keys=[country#16], functions=[partial_count(1), partial_avg(total_spent#20)], output=[country#16, count#992L, sum#993, count#994L])\n",
      "         +- Project [country#16, total_spent#20]\n",
      "            +- Filter ((atleastnnonnulls(1, email#13) AND isnotnull(total_spent#20)) AND (total_spent#20 >= 0.0))\n",
      "               +- FileScan csv [email#13,country#16,total_spent#20] Batched: false, DataFilters: [atleastnnonnulls(1, email#13), isnotnull(total_spent#20), (total_spent#20 >= 0.0)], Format: CSV, Location: InMemoryFileIndex(1 paths)[file:/workspace/TRNG-2224-data-engineering/week2/datasets/enriched_cus..., PartitionFilters: [], PushedFilters: [IsNotNull(total_spent), GreaterThanOrEqual(total_spent,0.0)], ReadSchema: struct<email:string,country:string,total_spent:double>\n",
      "\n"
     ]
    }
   ],
   "source": [
    "# DataFrame equivalent\n",
    "\n",
    "df_plan = df_with_split_name.groupBy(\"country\").agg(\n",
    "    count(\"*\").alias(\"total\"),\n",
    "    round(avg(\"total_spent\"), 2).alias(\"avg_spent\")\n",
    ").explain(True)\n",
    "\n",
    "df_plan"
   ]
  },
  {
   "cell_type": "code",
   "execution_count": 43,
   "id": "74bf3f51",
   "metadata": {},
   "outputs": [
    {
     "data": {
      "text/plain": [
       "True"
      ]
     },
     "execution_count": 43,
     "metadata": {},
     "output_type": "execute_result"
    }
   ],
   "source": [
    "sql_plan == df_plan"
   ]
  }
 ],
 "metadata": {
  "kernelspec": {
   "display_name": "Python 3",
   "language": "python",
   "name": "python3"
  },
  "language_info": {
   "codemirror_mode": {
    "name": "ipython",
    "version": 3
   },
   "file_extension": ".py",
   "mimetype": "text/x-python",
   "name": "python",
   "nbconvert_exporter": "python",
   "pygments_lexer": "ipython3",
   "version": "3.10.12"
  }
 },
 "nbformat": 4,
 "nbformat_minor": 5
}
