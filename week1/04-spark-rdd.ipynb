{
 "cells": [
  {
   "cell_type": "markdown",
   "id": "cfc5d93d",
   "metadata": {},
   "source": [
    "# RDD\n",
    "\n",
    "an RDD is the fundamental data structure of Apache Spark. It's a fault-tolerant, distributed collection of elements that can be operated on in parallel.\n",
    "\n",
    "**Key Characteristics:**\n",
    "\n",
    "- Immutable\n",
    "- Lazy evaluation\n",
    "- Fault tolerant (via lineage info)\n",
    "- Partitioned across cluster nodes\n",
    "- Can be cached in memory\n",
    "\n",
    "### SparkContext and SparkConf\n",
    "\n",
    "\n",
    "SparkContext is the entry point for Spark functionality.\n",
    "\n",
    "#### `SparkConf`\n",
    "\n",
    "- Configuration for Spark application\n",
    "\n",
    "**Common settings:**\n",
    "\n",
    "- setMaster(\"local[*]\") – Use local mode with all cores\n",
    "- setAppName(\"RDDExample\") – Application name\n",
    "\n",
    "### transformations\n",
    "\n",
    "Transformations create a new RDD from an existing one. They are lazy – not executed until an action is triggered.\n",
    "\n",
    "| Transformation  | Description                                          |\n",
    "| --------------- | ---------------------------------------------------- |\n",
    "| `map(func)`     | Returns a new RDD by applying `func` to each element |\n",
    "| `filter(func)`  | Filters elements for which `func` returns true       |\n",
    "| `flatMap(func)` | Like map but flattens the result                     |\n",
    "| `distinct()`    | Removes duplicates                                   |\n",
    "| `union(rdd)`    | Combines two RDDs                                    |\n",
    "| `groupByKey()`  | Groups values with same key                          |\n",
    "| `reduceByKey()` | Aggregates values with same key using a function     |\n",
    "| `sortBy(func)`  | Sorts RDD by computed key                            |\n",
    "\n",
    "\n",
    "### actions\n",
    "\n",
    "Actions trigger computation and return results or write data.\n",
    "\n",
    "| Action             | Description                            |\n",
    "| ------------------ | -------------------------------------- |\n",
    "| `collect()`        | Returns all elements to driver         |\n",
    "| `count()`          | Returns number of elements             |\n",
    "| `first()`          | Returns first element                  |\n",
    "| `take(n)`          | Returns first `n` elements             |\n",
    "| `reduce(func)`     | Reduces elements using binary operator |\n",
    "| `saveAsTextFile()` | Writes RDD to text files               |\n",
    "\n",
    "\n",
    "\n",
    "reference - [spark rdd docs](https://spark.apache.org/docs/latest/rdd-programming-guide.html)\n"
   ]
  },
  {
   "cell_type": "code",
   "execution_count": null,
   "id": "b80fcd99",
   "metadata": {},
   "outputs": [],
   "source": [
    "! pip install pyspark"
   ]
  },
  {
   "cell_type": "code",
   "execution_count": null,
   "id": "3c1b247f",
   "metadata": {},
   "outputs": [],
   "source": [
    "# SparkContext and SparkConf\n",
    "\n",
    "from pyspark import SparkContext, SparkConf\n",
    "\n",
    "conf = SparkConf().setAppName(\"salesDemo\").setMaster(\"local[*]\")\n",
    "\n",
    "sc = SparkContext(conf=conf)\n",
    "\n",
    "\n"
   ]
  },
  {
   "cell_type": "code",
   "execution_count": null,
   "id": "bd1caba3",
   "metadata": {},
   "outputs": [],
   "source": [
    "sc.defaultParallelism"
   ]
  },
  {
   "cell_type": "code",
   "execution_count": 2,
   "id": "330e73ca",
   "metadata": {},
   "outputs": [],
   "source": [
    "# Step 1: Load the file into RDD\n",
    "\n",
    "sales_raw = sc.textFile(\"file:////workspace/TRNG-2224-data-engineering/week1/datasets/sales.txt\")\n",
    "\n"
   ]
  },
  {
   "cell_type": "code",
   "execution_count": 3,
   "id": "c49a839d",
   "metadata": {},
   "outputs": [],
   "source": [
    "# Step 2: Convert each line into a tuple (ProductID, Category, Amount)\n",
    "\n",
    "records = sales_raw.map(lambda x: x.split(\",\")).map(lambda x: (int(x[0]), x[1], int(x[2])))\n",
    "\n",
    "\n"
   ]
  },
  {
   "cell_type": "code",
   "execution_count": null,
   "id": "75d9677f",
   "metadata": {},
   "outputs": [],
   "source": [
    "# Step 3: Create a (Category, Amount) RDD\n",
    "\n",
    "category_sales = records.map(lambda x: (x[1], x[2]) )\n"
   ]
  },
  {
   "cell_type": "code",
   "execution_count": null,
   "id": "22401f18",
   "metadata": {},
   "outputs": [],
   "source": [
    "# Step 4: Total sales by category\n",
    "\n",
    "total_sales_by_category = category_sales.reduceByKey(lambda x,y: x+y)\n",
    "\n"
   ]
  },
  {
   "cell_type": "code",
   "execution_count": null,
   "id": "f63568bb",
   "metadata": {},
   "outputs": [],
   "source": [
    "# Step 5: Average sale per category\n",
    "\n",
    "average_sales_by_category = category_sales.mapValues(lambda x: (x, 1)).reduceByKey(lambda x,y: (x[0] + y[0], x[1]+ y[1])).mapValues(lambda x: x[0]/x[1])\n",
    "\n",
    "average_sales_by_category.take(4)\n"
   ]
  },
  {
   "cell_type": "code",
   "execution_count": null,
   "id": "96717e90",
   "metadata": {},
   "outputs": [],
   "source": [
    "# Step 6: Highest transaction\n",
    "\n",
    "max_tran = records.max(key=lambda x : x[2])\n",
    "\n",
    "max_tran\n"
   ]
  },
  {
   "cell_type": "code",
   "execution_count": null,
   "id": "e032282f",
   "metadata": {},
   "outputs": [],
   "source": [
    "# highest selling category\n",
    "\n",
    "highest_selling_category = total_sales_by_category.max(key=lambda x: x[1] )\n",
    "\n",
    "highest_selling_category"
   ]
  },
  {
   "cell_type": "code",
   "execution_count": null,
   "id": "c2b0986f",
   "metadata": {},
   "outputs": [],
   "source": [
    "# Step 7: Categories with sales above 5000\n",
    "\n",
    "high_selling_cat_5k = total_sales_by_category.filter(lambda x: x[1] > 5000)\n",
    "\n",
    "high_selling_cat_5k.collect()\n",
    "\n",
    "\n"
   ]
  },
  {
   "cell_type": "code",
   "execution_count": null,
   "id": "231d2cc6",
   "metadata": {},
   "outputs": [],
   "source": [
    "# print final results\n",
    "\n",
    "print(\"Total sales by cat\")\n",
    "print(total_sales_by_category.collect())\n",
    "\n",
    "print(\"Avg sales per cat\")\n",
    "\n",
    "print(average_sales_by_category.collect())\n",
    "\n"
   ]
  },
  {
   "cell_type": "markdown",
   "id": "bb65a088",
   "metadata": {},
   "source": [
    "**Assignment:**\n",
    "\n",
    "1. find all product IDs where the amount is greater than 900.\n",
    "2. Find all transactions that belong to the “Furniture” category.\n",
    "3. Count how many transactions belong to the “Electronics” category.\n",
    "4. Find average amount for each category.\n",
    "5. Find the highest amount and the corresponding product ID.\n",
    "6. Find the total number of unique categories.\n",
    "7. For each category, find the product ID with the highest sale.\n",
    "8. Count how many products were sold for less than 300.\n",
    "9. Sort the transactions by amount in descending order.\n"
   ]
  },
  {
   "cell_type": "markdown",
   "id": "5c3292be",
   "metadata": {},
   "source": [
    "### Shared Variables\n",
    "\n",
    "When you pass a function (like in map or reduce) to Spark, that function runs on different machines in the cluster — not on your local driver.\n",
    "\n",
    "**By default:**\n",
    "\n",
    "- Spark makes separate copies of any variable you use inside those functions.\n",
    "- So, if a task changes a variable on the executor, that change will not reflect back in your driver program.\n",
    "\n",
    "This is done to keep things fast and distributed — but it also means you can not just update normal variables across tasks.\n",
    "\n",
    "**challenges:**\n",
    "\n",
    "You want to count how many rows have Amount > 500 using this code:\n",
    "\n",
    "```py\n",
    "count = 0\n",
    "\n",
    "def increment_count(x):\n",
    "    count += 1 \n",
    "\n",
    "records.filter(lambda x: int(x[2]) > 500).foreach(increment_count)\n",
    "print(count)\n",
    "\n",
    "```\n",
    "\n",
    "This will not work because each machine updates its own copy of count not the original one in the driver.\n",
    "\n",
    "To solve such issues, spark provides two types of shared variables:\n",
    "\n",
    "1. **Broadcast Variables:** a read-only variable that can be cached on each machine (executor). Used to efficiently share large data (like lookup tables) with all tasks without copying it multiple times.\n",
    "2. **Accumulators:** variables used to safely implement counters or sums across mulitple worker nodes. You can only add to them (not read or subtract inside tasks). The final value is only accessible on the driver after an action is executed.\n",
    "\n",
    "\n"
   ]
  },
  {
   "cell_type": "code",
   "execution_count": null,
   "id": "f9bdaca0",
   "metadata": {},
   "outputs": [],
   "source": [
    "# Load the dataset\n"
   ]
  },
  {
   "cell_type": "code",
   "execution_count": null,
   "id": "5e9b697c",
   "metadata": {},
   "outputs": [],
   "source": [
    "# Use a broadcast variable for region-level config\n"
   ]
  },
  {
   "cell_type": "code",
   "execution_count": null,
   "id": "009c5514",
   "metadata": {},
   "outputs": [],
   "source": [
    "# Use an accumulator to count high-value transactions\n",
    "\n"
   ]
  },
  {
   "cell_type": "code",
   "execution_count": null,
   "id": "e79a5f06",
   "metadata": {},
   "outputs": [],
   "source": [
    "# Save filtered RDD to a new file"
   ]
  },
  {
   "cell_type": "markdown",
   "id": "33195e4f",
   "metadata": {},
   "source": [
    "### Assignment\n",
    "\n",
    "**tasks:**\n",
    "\n",
    "1.  Load the Dataset\n",
    "2. Broadcast Variable: Category Discounts\n",
    "\n",
    "```py\n",
    "{\"Electronics\": 0.10, \"Furniture\": 0.15, \"Clothing\": 0.05, \"Books\": 0.20}\n",
    "```\n",
    "\n",
    "3. calculate and return the rdd:\n",
    "\n",
    "```py\n",
    "(ProductID, Region, Category, OriginalAmount, DiscountApplied)\n",
    "```\n",
    "4. Accumulator: Count Transactions Below ₹300\n",
    "5. Filter and Save Results"
   ]
  }
 ],
 "metadata": {
  "kernelspec": {
   "display_name": "Python 3",
   "language": "python",
   "name": "python3"
  },
  "language_info": {
   "codemirror_mode": {
    "name": "ipython",
    "version": 3
   },
   "file_extension": ".py",
   "mimetype": "text/x-python",
   "name": "python",
   "nbconvert_exporter": "python",
   "pygments_lexer": "ipython3",
   "version": "3.10.12"
  }
 },
 "nbformat": 4,
 "nbformat_minor": 5
}
