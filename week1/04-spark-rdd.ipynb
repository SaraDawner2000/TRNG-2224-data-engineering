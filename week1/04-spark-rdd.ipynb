{
 "cells": [
  {
   "cell_type": "markdown",
   "id": "cfc5d93d",
   "metadata": {},
   "source": [
    "# RDD\n",
    "\n",
    "an RDD is the fundamental data structure of Apache Spark. It's a fault-tolerant, distributed collection of elements that can be operated on in parallel.\n",
    "\n",
    "**Key Characteristics:**\n",
    "\n",
    "- Immutable\n",
    "- Lazy evaluation\n",
    "- Fault tolerant (via lineage info)\n",
    "- Partitioned across cluster nodes\n",
    "- Can be cached in memory\n",
    "\n",
    "### SparkContext and SparkConf\n",
    "\n",
    "\n",
    "SparkContext is the entry point for Spark functionality.\n",
    "\n",
    "#### `SparkConf`\n",
    "\n",
    "- Configuration for Spark application\n",
    "\n",
    "**Common settings:**\n",
    "\n",
    "- setMaster(\"local[*]\") – Use local mode with all cores\n",
    "- setAppName(\"RDDExample\") – Application name\n",
    "\n",
    "### transformations\n",
    "\n",
    "Transformations create a new RDD from an existing one. They are lazy – not executed until an action is triggered.\n",
    "\n",
    "| Transformation  | Description                                          |\n",
    "| --------------- | ---------------------------------------------------- |\n",
    "| `map(func)`     | Returns a new RDD by applying `func` to each element |\n",
    "| `filter(func)`  | Filters elements for which `func` returns true       |\n",
    "| `flatMap(func)` | Like map but flattens the result                     |\n",
    "| `distinct()`    | Removes duplicates                                   |\n",
    "| `union(rdd)`    | Combines two RDDs                                    |\n",
    "| `groupByKey()`  | Groups values with same key                          |\n",
    "| `reduceByKey()` | Aggregates values with same key using a function     |\n",
    "| `sortBy(func)`  | Sorts RDD by computed key                            |\n",
    "\n",
    "\n",
    "### actions\n",
    "\n",
    "Actions trigger computation and return results or write data.\n",
    "\n",
    "| Action             | Description                            |\n",
    "| ------------------ | -------------------------------------- |\n",
    "| `collect()`        | Returns all elements to driver         |\n",
    "| `count()`          | Returns number of elements             |\n",
    "| `first()`          | Returns first element                  |\n",
    "| `take(n)`          | Returns first `n` elements             |\n",
    "| `reduce(func)`     | Reduces elements using binary operator |\n",
    "| `saveAsTextFile()` | Writes RDD to text files               |\n",
    "\n",
    "\n",
    "\n",
    "reference - [spark rdd docs](https://spark.apache.org/docs/latest/rdd-programming-guide.html)\n"
   ]
  },
  {
   "cell_type": "markdown",
   "id": "816d5af5",
   "metadata": {},
   "source": []
  },
  {
   "cell_type": "markdown",
   "id": "49eedb5c",
   "metadata": {},
   "source": []
  }
 ],
 "metadata": {
  "language_info": {
   "name": "python"
  }
 },
 "nbformat": 4,
 "nbformat_minor": 5
}
