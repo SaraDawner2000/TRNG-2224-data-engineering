{
 "cells": [
  {
   "cell_type": "markdown",
   "id": "cfc5d93d",
   "metadata": {},
   "source": [
    "# RDD\n",
    "\n",
    "an RDD is the fundamental data structure of Apache Spark. It's a fault-tolerant, distributed collection of elements that can be operated on in parallel.\n",
    "\n",
    "**Key Characteristics:**\n",
    "\n",
    "- Immutable\n",
    "- Lazy evaluation\n",
    "- Fault tolerant (via lineage info)\n",
    "- Partitioned across cluster nodes\n",
    "- Can be cached in memory\n",
    "\n",
    "### SparkContext and SparkConf\n",
    "\n",
    "\n",
    "SparkContext is the entry point for Spark functionality.\n",
    "\n",
    "#### `SparkConf`\n",
    "\n",
    "- Configuration for Spark application\n",
    "\n",
    "**Common settings:**\n",
    "\n",
    "- setMaster(\"local[*]\") – Use local mode with all cores\n",
    "- setAppName(\"RDDExample\") – Application name\n",
    "\n",
    "### transformations\n",
    "\n",
    "Transformations create a new RDD from an existing one. They are lazy – not executed until an action is triggered.\n",
    "\n",
    "| Transformation  | Description                                          |\n",
    "| --------------- | ---------------------------------------------------- |\n",
    "| `map(func)`     | Returns a new RDD by applying `func` to each element |\n",
    "| `filter(func)`  | Filters elements for which `func` returns true       |\n",
    "| `flatMap(func)` | Like map but flattens the result                     |\n",
    "| `distinct()`    | Removes duplicates                                   |\n",
    "| `union(rdd)`    | Combines two RDDs                                    |\n",
    "| `groupByKey()`  | Groups values with same key                          |\n",
    "| `reduceByKey()` | Aggregates values with same key using a function     |\n",
    "| `sortBy(func)`  | Sorts RDD by computed key                            |\n",
    "\n",
    "\n",
    "### actions\n",
    "\n",
    "Actions trigger computation and return results or write data.\n",
    "\n",
    "| Action             | Description                            |\n",
    "| ------------------ | -------------------------------------- |\n",
    "| `collect()`        | Returns all elements to driver         |\n",
    "| `count()`          | Returns number of elements             |\n",
    "| `first()`          | Returns first element                  |\n",
    "| `take(n)`          | Returns first `n` elements             |\n",
    "| `reduce(func)`     | Reduces elements using binary operator |\n",
    "| `saveAsTextFile()` | Writes RDD to text files               |\n",
    "\n",
    "\n",
    "\n",
    "reference - [spark rdd docs](https://spark.apache.org/docs/latest/rdd-programming-guide.html)\n"
   ]
  },
  {
   "cell_type": "code",
   "execution_count": null,
   "id": "b80fcd99",
   "metadata": {},
   "outputs": [],
   "source": [
    "! pip install pyspark\n",
    "\n",
    "# pyspark 4.0.0 - jdk 17"
   ]
  },
  {
   "cell_type": "code",
   "execution_count": null,
   "id": "7f771c4d",
   "metadata": {},
   "outputs": [],
   "source": [
    "! pip install pyspark=3.3.0 \n",
    "\n",
    "# pyspark 3.3.* - jdk 11\n",
    "\n"
   ]
  },
  {
   "cell_type": "code",
   "execution_count": 1,
   "id": "3c1b247f",
   "metadata": {},
   "outputs": [
    {
     "name": "stderr",
     "output_type": "stream",
     "text": [
      "Picked up JAVA_TOOL_OPTIONS: -XX:+UseContainerSupport -XX:ActiveProcessorCount=1\n",
      "Picked up JAVA_TOOL_OPTIONS: -XX:+UseContainerSupport -XX:ActiveProcessorCount=1\n",
      "WARNING: Using incubator modules: jdk.incubator.vector\n",
      "Using Spark's default log4j profile: org/apache/spark/log4j2-defaults.properties\n",
      "25/06/25 18:20:20 WARN Utils: Your hostname, krishnagopi-trng2224dat-g3q9nc1wf47, resolves to a loopback address: 127.0.0.1; using 10.0.5.2 instead (on interface eth0)\n",
      "25/06/25 18:20:20 WARN Utils: Set SPARK_LOCAL_IP if you need to bind to another address\n",
      "Using Spark's default log4j profile: org/apache/spark/log4j2-defaults.properties\n",
      "Setting default log level to \"WARN\".\n",
      "To adjust logging level use sc.setLogLevel(newLevel). For SparkR, use setLogLevel(newLevel).\n",
      "25/06/25 18:20:21 WARN NativeCodeLoader: Unable to load native-hadoop library for your platform... using builtin-java classes where applicable\n"
     ]
    }
   ],
   "source": [
    "# SparkContext and SparkConf\n",
    "\n",
    "from pyspark import SparkContext, SparkConf\n",
    "\n",
    "conf = SparkConf().setAppName(\"salesDemo\").setMaster(\"local[*]\")\n",
    "\n",
    "sc = SparkContext(conf=conf)\n",
    "\n",
    "\n",
    "\n"
   ]
  },
  {
   "cell_type": "code",
   "execution_count": 17,
   "id": "bd1caba3",
   "metadata": {},
   "outputs": [
    {
     "data": {
      "text/plain": [
       "1"
      ]
     },
     "execution_count": 17,
     "metadata": {},
     "output_type": "execute_result"
    }
   ],
   "source": [
    "sc.defaultParallelism"
   ]
  },
  {
   "cell_type": "code",
   "execution_count": 2,
   "id": "330e73ca",
   "metadata": {},
   "outputs": [
    {
     "data": {
      "text/plain": [
       "['1001,Furniture,69',\n",
       " '1002,Clothing,78',\n",
       " '1003,Electronics,821',\n",
       " '1004,Furniture,357',\n",
       " '1005,Furniture,429',\n",
       " '1006,Furniture,540',\n",
       " '1007,Books,724',\n",
       " '1008,Electronics,770',\n",
       " '1009,Furniture,503',\n",
       " '1010,Clothing,331',\n",
       " '1011,Clothing,227',\n",
       " '1012,Toys,400',\n",
       " '1013,Clothing,459',\n",
       " '1014,Electronics,987',\n",
       " '1015,Books,627',\n",
       " '1016,Electronics,481',\n",
       " '1017,Books,314',\n",
       " '1018,Furniture,803',\n",
       " '1019,Electronics,453',\n",
       " '1020,Toys,800',\n",
       " '1021,Clothing,894',\n",
       " '1022,Furniture,176',\n",
       " '1023,Electronics,352',\n",
       " '1024,Electronics,930',\n",
       " '1025,Toys,584',\n",
       " '1026,Electronics,248',\n",
       " '1027,Toys,243',\n",
       " '1028,Toys,861',\n",
       " '1029,Books,229',\n",
       " '1030,Toys,618',\n",
       " '1031,Electronics,246',\n",
       " '1032,Toys,829',\n",
       " '1033,Clothing,329',\n",
       " '1034,Clothing,427',\n",
       " '1035,Toys,101',\n",
       " '1036,Clothing,330',\n",
       " '1037,Furniture,567',\n",
       " '1038,Toys,542',\n",
       " '1039,Electronics,941',\n",
       " '1040,Clothing,87',\n",
       " '1041,Furniture,514',\n",
       " '1042,Books,668',\n",
       " '1043,Electronics,545',\n",
       " '1044,Toys,558',\n",
       " '1045,Electronics,616',\n",
       " '1046,Books,412',\n",
       " '1047,Furniture,527',\n",
       " '1048,Furniture,364',\n",
       " '1049,Clothing,545',\n",
       " '1050,Books,500',\n",
       " '1051,Furniture,168',\n",
       " '1052,Clothing,57',\n",
       " '1053,Electronics,483',\n",
       " '1054,Toys,316',\n",
       " '1055,Toys,693',\n",
       " '1056,Furniture,860',\n",
       " '1057,Furniture,727',\n",
       " '1058,Toys,836',\n",
       " '1059,Electronics,59',\n",
       " '1060,Furniture,734',\n",
       " '1061,Furniture,586',\n",
       " '1062,Electronics,149',\n",
       " '1063,Books,85',\n",
       " '1064,Furniture,653',\n",
       " '1065,Electronics,651',\n",
       " '1066,Furniture,425',\n",
       " '1067,Electronics,366',\n",
       " '1068,Furniture,633',\n",
       " '1069,Clothing,883',\n",
       " '1070,Furniture,879',\n",
       " '1071,Toys,419',\n",
       " '1072,Toys,678',\n",
       " '1073,Toys,800',\n",
       " '1074,Clothing,440',\n",
       " '1075,Electronics,356',\n",
       " '1076,Clothing,797',\n",
       " '1077,Clothing,353',\n",
       " '1078,Electronics,845',\n",
       " '1079,Toys,294',\n",
       " '1080,Clothing,568',\n",
       " '1081,Electronics,881',\n",
       " '1082,Furniture,645',\n",
       " '1083,Clothing,498',\n",
       " '1084,Furniture,686',\n",
       " '1085,Toys,468',\n",
       " '1086,Clothing,142',\n",
       " '1087,Books,409',\n",
       " '1088,Toys,683',\n",
       " '1089,Electronics,218',\n",
       " '1090,Toys,183',\n",
       " '1091,Clothing,647',\n",
       " '1092,Electronics,778',\n",
       " '1093,Electronics,186',\n",
       " '1094,Toys,587',\n",
       " '1095,Books,262',\n",
       " '1096,Books,251',\n",
       " '1097,Clothing,716',\n",
       " '1098,Electronics,776',\n",
       " '1099,Clothing,495',\n",
       " '1100,Toys,301']"
      ]
     },
     "execution_count": 2,
     "metadata": {},
     "output_type": "execute_result"
    }
   ],
   "source": [
    "# Step 1: Load the file into RDD\n",
    "\n",
    "sales_raw = sc.textFile(\"file:////workspace/TRNG-2224-data-engineering/week1/datasets/sales.txt\")\n",
    "\n",
    "sales_raw.collect()\n",
    "\n"
   ]
  },
  {
   "cell_type": "code",
   "execution_count": 3,
   "id": "c49a839d",
   "metadata": {},
   "outputs": [],
   "source": [
    "# Step 2: Convert each line into a tuple (ProductID, Category, Amount)\n",
    "\n",
    "records = sales_raw.map(lambda x: x.split(\",\")).map(lambda x: (int(x[0]), x[1], int(x[2])))\n",
    "\n",
    "\n"
   ]
  },
  {
   "cell_type": "code",
   "execution_count": null,
   "id": "75d9677f",
   "metadata": {},
   "outputs": [],
   "source": [
    "# Step 3: Create a (Category, Amount) RDD\n",
    "\n",
    "category_sales = records.map(lambda x: (x[1], x[2]) )\n"
   ]
  },
  {
   "cell_type": "code",
   "execution_count": null,
   "id": "22401f18",
   "metadata": {},
   "outputs": [],
   "source": [
    "# Step 4: Total sales by category\n",
    "\n",
    "total_sales_by_category = category_sales.reduceByKey(lambda x,y: x+y)\n",
    "\n"
   ]
  },
  {
   "cell_type": "code",
   "execution_count": null,
   "id": "f63568bb",
   "metadata": {},
   "outputs": [],
   "source": [
    "# Step 5: Average sale per category\n",
    "\n",
    "average_sales_by_category = category_sales.mapValues(lambda x: (x, 1)).reduceByKey(lambda x,y: (x[0] + y[0], x[1]+ y[1])).mapValues(lambda x: x[0]/x[1])\n",
    "\n",
    "average_sales_by_category.take(4)\n"
   ]
  },
  {
   "cell_type": "code",
   "execution_count": null,
   "id": "96717e90",
   "metadata": {},
   "outputs": [],
   "source": [
    "# Step 6: Highest transaction\n",
    "\n",
    "max_tran = records.max(key=lambda x : x[2])\n",
    "\n",
    "max_tran\n"
   ]
  },
  {
   "cell_type": "code",
   "execution_count": null,
   "id": "e032282f",
   "metadata": {},
   "outputs": [],
   "source": [
    "# highest selling category\n",
    "\n",
    "highest_selling_category = total_sales_by_category.max(key=lambda x: x[1] )\n",
    "\n",
    "highest_selling_category"
   ]
  },
  {
   "cell_type": "code",
   "execution_count": null,
   "id": "c2b0986f",
   "metadata": {},
   "outputs": [],
   "source": [
    "# Step 7: Categories with sales above 5000\n",
    "\n",
    "high_selling_cat_5k = total_sales_by_category.filter(lambda x: x[1] > 5000)\n",
    "\n",
    "high_selling_cat_5k.collect()\n",
    "\n",
    "\n"
   ]
  },
  {
   "cell_type": "code",
   "execution_count": null,
   "id": "231d2cc6",
   "metadata": {},
   "outputs": [],
   "source": [
    "# print final results\n",
    "\n",
    "print(\"Total sales by cat\")\n",
    "print(total_sales_by_category.collect())\n",
    "\n",
    "print(\"Avg sales per cat\")\n",
    "\n",
    "print(average_sales_by_category.collect())\n",
    "\n"
   ]
  },
  {
   "cell_type": "markdown",
   "id": "bb65a088",
   "metadata": {},
   "source": [
    "**Assignment:**\n",
    "\n",
    "1. find all product IDs where the amount is greater than 900.\n",
    "2. Find all transactions that belong to the “Furniture” category.\n",
    "3. Count how many transactions belong to the “Electronics” category.\n",
    "4. Find average amount for each category.\n",
    "5. Find the highest amount and the corresponding product ID.\n",
    "6. Find the total number of unique categories.\n",
    "7. For each category, find the product ID with the highest sale.\n",
    "8. Count how many products were sold for less than 300.\n",
    "9. Sort the transactions by amount in descending order.\n"
   ]
  },
  {
   "cell_type": "markdown",
   "id": "5c3292be",
   "metadata": {},
   "source": [
    "### Shared Variables\n",
    "\n",
    "When you pass a function (like in map or reduce) to Spark, that function runs on different machines in the cluster — not on your local driver.\n",
    "\n",
    "**By default:**\n",
    "\n",
    "- Spark makes separate copies of any variable you use inside those functions.\n",
    "- So, if a task changes a variable on the executor, that change will not reflect back in your driver program.\n",
    "\n",
    "This is done to keep things fast and distributed — but it also means you can not just update normal variables across tasks.\n",
    "\n",
    "**challenges:**\n",
    "\n",
    "You want to count how many rows have Amount > 500 using this code:\n",
    "\n",
    "```py\n",
    "count = 0\n",
    "\n",
    "def increment_count(x):\n",
    "    count += 1 \n",
    "\n",
    "records.filter(lambda x: int(x[2]) > 500).foreach(increment_count)\n",
    "print(count)\n",
    "\n",
    "```\n",
    "\n",
    "This will not work because each machine updates its own copy of count not the original one in the driver.\n",
    "\n",
    "To solve such issues, spark provides two types of shared variables:\n",
    "\n",
    "1. **Broadcast Variables:** a read-only variable that can be cached on each machine (executor). Used to efficiently share large data (like lookup tables) with all tasks without copying it multiple times.\n",
    "2. **Accumulators:** variables used to safely implement counters or sums across mulitple worker nodes. You can only add to them (not read or subtract inside tasks). The final value is only accessible on the driver after an action is executed.\n",
    "\n",
    "\n"
   ]
  },
  {
   "cell_type": "code",
   "execution_count": 5,
   "id": "f9bdaca0",
   "metadata": {},
   "outputs": [],
   "source": [
    "# Load the dataset\n",
    "\n",
    "\n",
    "region_sales = sc.textFile(\"file:///workspace/TRNG-2224-data-engineering/week1/datasets/region_sales.txt\")\n",
    "\n",
    "\n"
   ]
  },
  {
   "cell_type": "code",
   "execution_count": null,
   "id": "5e9b697c",
   "metadata": {},
   "outputs": [],
   "source": [
    "# Use a broadcast variable for region-level config\n",
    "\n",
    "records_rs = region_sales.map(lambda x: x.split(\",\")).map(lambda x: (int(x[0]), x[1], x[2], int(x[3])))\n",
    "\n",
    "regions = {\"North\": \"N\", \"South\": \"S\", \"East\": \"E\", \"West\": \"W\"}\n",
    "\n",
    "region_broadcast = sc.broadcast(regions)\n",
    "\n"
   ]
  },
  {
   "cell_type": "code",
   "execution_count": 13,
   "id": "009c5514",
   "metadata": {},
   "outputs": [],
   "source": [
    "# Use an accumulator to count high-value transactions\n",
    "\n",
    "high_value_count = sc.accumulator(0)\n",
    "\n",
    "\n"
   ]
  },
  {
   "cell_type": "code",
   "execution_count": 14,
   "id": "49b4ee9e",
   "metadata": {},
   "outputs": [],
   "source": [
    "def enrich_region_and_count(record):\n",
    "    pid, region, category, amount = record\n",
    "    if amount > 800:\n",
    "        high_value_count.add(1)\n",
    "    return (pid, region_broadcast.value[region], category, amount)\n",
    "\n",
    "enriched_records = records_rs.map(enrich_region_and_count)"
   ]
  },
  {
   "cell_type": "code",
   "execution_count": 16,
   "id": "e79a5f06",
   "metadata": {},
   "outputs": [],
   "source": [
    "# Save filtered RDD to a new file\n",
    "\n",
    "filtered = enriched_records.filter(lambda x: x[3] >800)\n",
    "\n",
    "filtered.map(lambda x: \",\".join(map(str,x))).coalesce(1).saveAsTextFile(\"filtered_high_value_sales\")\n",
    "\n",
    "\n"
   ]
  },
  {
   "cell_type": "code",
   "execution_count": 18,
   "id": "1fd45b3b",
   "metadata": {},
   "outputs": [
    {
     "data": {
      "text/plain": [
       "40"
      ]
     },
     "execution_count": 18,
     "metadata": {},
     "output_type": "execute_result"
    }
   ],
   "source": [
    "high_value_count.value"
   ]
  },
  {
   "cell_type": "markdown",
   "id": "33195e4f",
   "metadata": {},
   "source": [
    "### Assignment\n",
    "\n",
    "**tasks:**\n",
    "\n",
    "1.  Load the Dataset\n",
    "2. Broadcast Variable: Category Discounts\n",
    "\n",
    "```py\n",
    "{\"Electronics\": 0.10, \"Furniture\": 0.15, \"Clothing\": 0.05, \"Books\": 0.20}\n",
    "```\n",
    "\n",
    "3. calculate and return the rdd:\n",
    "\n",
    "```py\n",
    "(ProductID, Region, Category, OriginalAmount, DiscountApplied)\n",
    "```\n",
    "4. Accumulator: Count Transactions Below ₹300\n",
    "5. Filter and Save Results"
   ]
  }
 ],
 "metadata": {
  "kernelspec": {
   "display_name": "Python 3",
   "language": "python",
   "name": "python3"
  },
  "language_info": {
   "codemirror_mode": {
    "name": "ipython",
    "version": 3
   },
   "file_extension": ".py",
   "mimetype": "text/x-python",
   "name": "python",
   "nbconvert_exporter": "python",
   "pygments_lexer": "ipython3",
   "version": "3.10.12"
  }
 },
 "nbformat": 4,
 "nbformat_minor": 5
}
