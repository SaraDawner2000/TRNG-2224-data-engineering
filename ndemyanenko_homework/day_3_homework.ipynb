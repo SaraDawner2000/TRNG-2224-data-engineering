{
 "cells": [
  {
   "cell_type": "markdown",
   "id": "d0a399dd",
   "metadata": {},
   "source": [
    "## Prep steps:"
   ]
  },
  {
   "cell_type": "code",
   "execution_count": 1,
   "id": "aae32c8b",
   "metadata": {},
   "outputs": [
    {
     "name": "stdout",
     "output_type": "stream",
     "text": [
      "Defaulting to user installation because normal site-packages is not writeable\n",
      "Requirement already satisfied: pyspark in /workspace/.pyenv_mirror/user/current/lib/python3.10/site-packages (4.0.0)\n",
      "Requirement already satisfied: py4j==0.10.9.9 in /workspace/.pyenv_mirror/user/current/lib/python3.10/site-packages (from pyspark) (0.10.9.9)\n"
     ]
    }
   ],
   "source": [
    "! pip install pyspark"
   ]
  },
  {
   "cell_type": "code",
   "execution_count": 5,
   "id": "142beddb",
   "metadata": {},
   "outputs": [
    {
     "name": "stderr",
     "output_type": "stream",
     "text": [
      "Picked up JAVA_TOOL_OPTIONS: -XX:+UseContainerSupport -XX:ActiveProcessorCount=1\n",
      "Picked up JAVA_TOOL_OPTIONS: -XX:+UseContainerSupport -XX:ActiveProcessorCount=1\n",
      "WARNING: Using incubator modules: jdk.incubator.vector\n",
      "Using Spark's default log4j profile: org/apache/spark/log4j2-defaults.properties\n",
      "25/06/25 19:00:05 WARN Utils: Your hostname, saradawner2-trng2224dat-1l4u3l62pul, resolves to a loopback address: 127.0.0.1; using 10.0.5.2 instead (on interface eth0)\n",
      "25/06/25 19:00:05 WARN Utils: Set SPARK_LOCAL_IP if you need to bind to another address\n",
      "Using Spark's default log4j profile: org/apache/spark/log4j2-defaults.properties\n",
      "Setting default log level to \"WARN\".\n",
      "To adjust logging level use sc.setLogLevel(newLevel). For SparkR, use setLogLevel(newLevel).\n",
      "25/06/25 19:00:05 WARN NativeCodeLoader: Unable to load native-hadoop library for your platform... using builtin-java classes where applicable\n"
     ]
    }
   ],
   "source": [
    "from pyspark import SparkContext, SparkConf\n",
    "\n",
    "conf = SparkConf().setAppName(\"regionSalesHomework\").setMaster(\"local[*]\")\n",
    "\n",
    "sc = SparkContext(conf=conf)"
   ]
  },
  {
   "cell_type": "markdown",
   "id": "bf215b25",
   "metadata": {},
   "source": [
    "## Homework:"
   ]
  },
  {
   "cell_type": "markdown",
   "id": "e4954878",
   "metadata": {},
   "source": [
    "### 1. Load the Dataset"
   ]
  },
  {
   "cell_type": "code",
   "execution_count": 44,
   "id": "67084446",
   "metadata": {},
   "outputs": [],
   "source": [
    "region_sales_raw = sc.textFile(\"file:////workspace/TRNG-2224-data-engineering/week1/datasets/region_sales.txt\")"
   ]
  },
  {
   "cell_type": "code",
   "execution_count": 43,
   "id": "9e5b88c7",
   "metadata": {},
   "outputs": [],
   "source": [
    "region_records = region_sales_raw.map(lambda x: x.split(\",\")).map(lambda x: (int(x[0]), x[1], x[2], int(x[3])))"
   ]
  },
  {
   "cell_type": "markdown",
   "id": "741243e2",
   "metadata": {},
   "source": [
    "### 2. Broadcast variable and set accumulator"
   ]
  },
  {
   "cell_type": "code",
   "execution_count": 52,
   "id": "e24fb1da",
   "metadata": {},
   "outputs": [],
   "source": [
    "category_discounts = {\"Electronics\": 0.10, \"Furniture\": 0.15, \"Clothing\": 0.05, \"Books\": 0.20}\n",
    "broadcast_category_discounts = sc.broadcast(category_discounts)"
   ]
  },
  {
   "cell_type": "code",
   "execution_count": 59,
   "id": "56d6f475",
   "metadata": {},
   "outputs": [],
   "source": [
    "below_300_count = sc.accumulator(0)"
   ]
  },
  {
   "cell_type": "markdown",
   "id": "9993414d",
   "metadata": {},
   "source": [
    "### 3. Calculate and return the RDD"
   ]
  },
  {
   "cell_type": "code",
   "execution_count": 54,
   "id": "cd756c92",
   "metadata": {},
   "outputs": [],
   "source": [
    "def enrich_and_count(record):\n",
    "    product_id, region, category, original_amount = record\n",
    "    discount_applied = (1 - broadcast_category_discounts.value[category]) * original_amount\n",
    "    below_300_count.add(1) if discount_applied < 300 else None\n",
    "    return (product_id, region, category, original_amount, discount_applied)"
   ]
  },
  {
   "cell_type": "code",
   "execution_count": 60,
   "id": "e9162a1f",
   "metadata": {},
   "outputs": [
    {
     "data": {
      "text/plain": [
       "[(2001, 'South', 'Electronics', 838, 754.2),\n",
       " (2002, 'West', 'Furniture', 471, 400.34999999999997),\n",
       " (2003, 'North', 'Electronics', 803, 722.7),\n",
       " (2004, 'West', 'Furniture', 174, 147.9),\n",
       " (2005, 'South', 'Clothing', 590, 560.5),\n",
       " (2006, 'North', 'Furniture', 937, 796.4499999999999),\n",
       " (2007, 'North', 'Electronics', 391, 351.90000000000003),\n",
       " (2008, 'West', 'Electronics', 961, 864.9),\n",
       " (2009, 'North', 'Electronics', 305, 274.5),\n",
       " (2010, 'East', 'Clothing', 213, 202.35),\n",
       " (2011, 'East', 'Electronics', 615, 553.5),\n",
       " (2012, 'South', 'Clothing', 573, 544.35),\n",
       " (2013, 'East', 'Clothing', 352, 334.4),\n",
       " (2014, 'West', 'Clothing', 768, 729.5999999999999),\n",
       " (2015, 'North', 'Electronics', 231, 207.9),\n",
       " (2016, 'East', 'Furniture', 217, 184.45),\n",
       " (2017, 'West', 'Clothing', 346, 328.7),\n",
       " (2018, 'North', 'Books', 375, 300.0),\n",
       " (2019, 'South', 'Electronics', 313, 281.7),\n",
       " (2020, 'West', 'Furniture', 903, 767.55),\n",
       " (2021, 'West', 'Clothing', 904, 858.8),\n",
       " (2022, 'North', 'Furniture', 812, 690.1999999999999),\n",
       " (2023, 'West', 'Furniture', 590, 501.5),\n",
       " (2024, 'North', 'Books', 452, 361.6),\n",
       " (2025, 'North', 'Books', 697, 557.6),\n",
       " (2026, 'East', 'Clothing', 959, 911.05),\n",
       " (2027, 'North', 'Books', 661, 528.8000000000001),\n",
       " (2028, 'South', 'Books', 700, 560.0),\n",
       " (2029, 'East', 'Clothing', 832, 790.4),\n",
       " (2030, 'North', 'Furniture', 163, 138.54999999999998),\n",
       " (2031, 'South', 'Books', 413, 330.40000000000003),\n",
       " (2032, 'North', 'Furniture', 952, 809.1999999999999),\n",
       " (2033, 'North', 'Books', 240, 192.0),\n",
       " (2034, 'East', 'Clothing', 740, 703.0),\n",
       " (2035, 'South', 'Clothing', 264, 250.79999999999998),\n",
       " (2036, 'West', 'Books', 211, 168.8),\n",
       " (2037, 'East', 'Clothing', 103, 97.85),\n",
       " (2038, 'North', 'Electronics', 462, 415.8),\n",
       " (2039, 'West', 'Electronics', 479, 431.1),\n",
       " (2040, 'East', 'Electronics', 666, 599.4),\n",
       " (2041, 'West', 'Clothing', 347, 329.65),\n",
       " (2042, 'South', 'Electronics', 435, 391.5),\n",
       " (2043, 'East', 'Clothing', 669, 635.55),\n",
       " (2044, 'West', 'Electronics', 715, 643.5),\n",
       " (2045, 'North', 'Electronics', 232, 208.8),\n",
       " (2046, 'South', 'Electronics', 569, 512.1),\n",
       " (2047, 'West', 'Books', 989, 791.2),\n",
       " (2048, 'North', 'Clothing', 507, 481.65),\n",
       " (2049, 'East', 'Clothing', 429, 407.54999999999995),\n",
       " (2050, 'West', 'Electronics', 679, 611.1),\n",
       " (2051, 'West', 'Books', 581, 464.8),\n",
       " (2052, 'West', 'Furniture', 770, 654.5),\n",
       " (2053, 'South', 'Furniture', 408, 346.8),\n",
       " (2054, 'East', 'Furniture', 111, 94.35),\n",
       " (2055, 'South', 'Electronics', 228, 205.20000000000002),\n",
       " (2056, 'North', 'Electronics', 430, 387.0),\n",
       " (2057, 'South', 'Furniture', 523, 444.55),\n",
       " (2058, 'South', 'Books', 599, 479.20000000000005),\n",
       " (2059, 'East', 'Clothing', 756, 718.1999999999999),\n",
       " (2060, 'South', 'Electronics', 937, 843.3000000000001),\n",
       " (2061, 'East', 'Electronics', 456, 410.40000000000003),\n",
       " (2062, 'North', 'Books', 238, 190.4),\n",
       " (2063, 'West', 'Electronics', 210, 189.0),\n",
       " (2064, 'North', 'Electronics', 922, 829.8000000000001),\n",
       " (2065, 'North', 'Books', 113, 90.4),\n",
       " (2066, 'North', 'Furniture', 700, 595.0),\n",
       " (2067, 'South', 'Furniture', 643, 546.55),\n",
       " (2068, 'South', 'Clothing', 427, 405.65),\n",
       " (2069, 'West', 'Electronics', 909, 818.1),\n",
       " (2070, 'West', 'Electronics', 818, 736.2),\n",
       " (2071, 'North', 'Clothing', 438, 416.09999999999997),\n",
       " (2072, 'East', 'Books', 627, 501.6),\n",
       " (2073, 'East', 'Furniture', 303, 257.55),\n",
       " (2074, 'South', 'Clothing', 1000, 950.0),\n",
       " (2075, 'South', 'Electronics', 453, 407.7),\n",
       " (2076, 'East', 'Books', 461, 368.8),\n",
       " (2077, 'South', 'Books', 217, 173.60000000000002),\n",
       " (2078, 'South', 'Clothing', 122, 115.89999999999999),\n",
       " (2079, 'North', 'Clothing', 761, 722.9499999999999),\n",
       " (2080, 'East', 'Books', 783, 626.4000000000001),\n",
       " (2081, 'North', 'Clothing', 135, 128.25),\n",
       " (2082, 'North', 'Books', 412, 329.6),\n",
       " (2083, 'West', 'Clothing', 336, 319.2),\n",
       " (2084, 'West', 'Books', 129, 103.2),\n",
       " (2085, 'South', 'Clothing', 203, 192.85),\n",
       " (2086, 'South', 'Furniture', 856, 727.6),\n",
       " (2087, 'West', 'Books', 507, 405.6),\n",
       " (2088, 'East', 'Furniture', 681, 578.85),\n",
       " (2089, 'South', 'Furniture', 887, 753.9499999999999),\n",
       " (2090, 'West', 'Electronics', 295, 265.5),\n",
       " (2091, 'North', 'Furniture', 777, 660.4499999999999),\n",
       " (2092, 'South', 'Clothing', 913, 867.3499999999999),\n",
       " (2093, 'South', 'Books', 535, 428.0),\n",
       " (2094, 'North', 'Electronics', 946, 851.4),\n",
       " (2095, 'West', 'Clothing', 382, 362.9),\n",
       " (2096, 'North', 'Electronics', 295, 265.5),\n",
       " (2097, 'West', 'Furniture', 402, 341.7),\n",
       " (2098, 'South', 'Furniture', 552, 469.2),\n",
       " (2099, 'South', 'Clothing', 341, 323.95),\n",
       " (2100, 'West', 'Books', 799, 639.2)]"
      ]
     },
     "execution_count": 60,
     "metadata": {},
     "output_type": "execute_result"
    }
   ],
   "source": [
    "enriched_region_records = region_records.map(enrich_and_count)\n",
    "enriched_region_records.collect()"
   ]
  },
  {
   "cell_type": "markdown",
   "id": "32a853b8",
   "metadata": {},
   "source": [
    "### 4. Save enriched table and display accumulator result"
   ]
  },
  {
   "cell_type": "code",
   "execution_count": 56,
   "id": "454c6954",
   "metadata": {},
   "outputs": [],
   "source": [
    "enriched_region_records.map(lambda x: \",\".join(map(str,x))).coalesce(1).saveAsTextFile(\"enriched_region_sales\")"
   ]
  },
  {
   "cell_type": "code",
   "execution_count": 61,
   "id": "1d783347",
   "metadata": {},
   "outputs": [
    {
     "data": {
      "text/plain": [
       "25"
      ]
     },
     "execution_count": 61,
     "metadata": {},
     "output_type": "execute_result"
    }
   ],
   "source": [
    "below_300_count.value"
   ]
  }
 ],
 "metadata": {
  "kernelspec": {
   "display_name": "Python 3",
   "language": "python",
   "name": "python3"
  },
  "language_info": {
   "codemirror_mode": {
    "name": "ipython",
    "version": 3
   },
   "file_extension": ".py",
   "mimetype": "text/x-python",
   "name": "python",
   "nbconvert_exporter": "python",
   "pygments_lexer": "ipython3",
   "version": "3.10.12"
  }
 },
 "nbformat": 4,
 "nbformat_minor": 5
}
