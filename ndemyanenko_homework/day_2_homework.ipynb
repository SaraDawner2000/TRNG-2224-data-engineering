{
 "cells": [
  {
   "cell_type": "markdown",
   "id": "d0a399dd",
   "metadata": {},
   "source": [
    "## Prep steps:"
   ]
  },
  {
   "cell_type": "code",
   "execution_count": 2,
   "id": "aae32c8b",
   "metadata": {},
   "outputs": [
    {
     "name": "stdout",
     "output_type": "stream",
     "text": [
      "Defaulting to user installation because normal site-packages is not writeable\n",
      "Requirement already satisfied: pyspark in /workspace/.pyenv_mirror/user/current/lib/python3.10/site-packages (4.0.0)\n",
      "Requirement already satisfied: py4j==0.10.9.9 in /workspace/.pyenv_mirror/user/current/lib/python3.10/site-packages (from pyspark) (0.10.9.9)\n"
     ]
    }
   ],
   "source": [
    "! pip install pyspark"
   ]
  },
  {
   "cell_type": "code",
   "execution_count": 3,
   "id": "142beddb",
   "metadata": {},
   "outputs": [
    {
     "name": "stderr",
     "output_type": "stream",
     "text": [
      "Picked up JAVA_TOOL_OPTIONS: -XX:+UseContainerSupport -XX:ActiveProcessorCount=1\n",
      "Picked up JAVA_TOOL_OPTIONS: -XX:+UseContainerSupport -XX:ActiveProcessorCount=1\n",
      "WARNING: Using incubator modules: jdk.incubator.vector\n",
      "Using Spark's default log4j profile: org/apache/spark/log4j2-defaults.properties\n",
      "25/06/24 22:52:45 WARN Utils: Your hostname, saradawner2-trng2224dat-1l4u3l62pul, resolves to a loopback address: 127.0.0.1; using 10.0.5.2 instead (on interface eth0)\n",
      "25/06/24 22:52:45 WARN Utils: Set SPARK_LOCAL_IP if you need to bind to another address\n",
      "Using Spark's default log4j profile: org/apache/spark/log4j2-defaults.properties\n",
      "Setting default log level to \"WARN\".\n",
      "To adjust logging level use sc.setLogLevel(newLevel). For SparkR, use setLogLevel(newLevel).\n",
      "25/06/24 22:52:46 WARN NativeCodeLoader: Unable to load native-hadoop library for your platform... using builtin-java classes where applicable\n",
      "25/06/24 22:52:47 WARN Utils: Service 'SparkUI' could not bind on port 4040. Attempting port 4041.\n"
     ]
    }
   ],
   "source": [
    "from pyspark import SparkContext, SparkConf\n",
    "\n",
    "conf = SparkConf().setAppName(\"salesHomework\").setMaster(\"local[*]\")\n",
    "\n",
    "sc = SparkContext(conf=conf)"
   ]
  },
  {
   "cell_type": "code",
   "execution_count": 4,
   "id": "67084446",
   "metadata": {},
   "outputs": [],
   "source": [
    "sales_raw = sc.textFile(\"file:////workspace/TRNG-2224-data-engineering/week1/datasets/sales.txt\")"
   ]
  },
  {
   "cell_type": "code",
   "execution_count": 5,
   "id": "9e5b88c7",
   "metadata": {},
   "outputs": [],
   "source": [
    "records = sales_raw.map(lambda x: x.split(\",\")).map(lambda x: (int(x[0]), x[1], int(x[2])))"
   ]
  },
  {
   "cell_type": "markdown",
   "id": "bf215b25",
   "metadata": {},
   "source": [
    "## Homework:"
   ]
  },
  {
   "cell_type": "markdown",
   "id": "741243e2",
   "metadata": {},
   "source": [
    "### 1. All product IDs where the amount is greater than 900"
   ]
  },
  {
   "cell_type": "code",
   "execution_count": 10,
   "id": "56d6f475",
   "metadata": {},
   "outputs": [
    {
     "data": {
      "text/plain": [
       "[1014, 1024, 1039]"
      ]
     },
     "execution_count": 10,
     "metadata": {},
     "output_type": "execute_result"
    }
   ],
   "source": [
    "greater_than_900 = records.filter(lambda x: x[2] > 900).map(lambda x: x[0])\n",
    "greater_than_900.collect()"
   ]
  },
  {
   "cell_type": "markdown",
   "id": "26ac5c3a",
   "metadata": {},
   "source": [
    "### 2. All transactions that belong to the “Furniture” category"
   ]
  },
  {
   "cell_type": "code",
   "execution_count": 11,
   "id": "32661ea9",
   "metadata": {},
   "outputs": [
    {
     "data": {
      "text/plain": [
       "[(1001, 'Furniture', 69),\n",
       " (1004, 'Furniture', 357),\n",
       " (1005, 'Furniture', 429),\n",
       " (1006, 'Furniture', 540),\n",
       " (1009, 'Furniture', 503),\n",
       " (1018, 'Furniture', 803),\n",
       " (1022, 'Furniture', 176),\n",
       " (1037, 'Furniture', 567),\n",
       " (1041, 'Furniture', 514),\n",
       " (1047, 'Furniture', 527),\n",
       " (1048, 'Furniture', 364),\n",
       " (1051, 'Furniture', 168),\n",
       " (1056, 'Furniture', 860),\n",
       " (1057, 'Furniture', 727),\n",
       " (1060, 'Furniture', 734),\n",
       " (1061, 'Furniture', 586),\n",
       " (1064, 'Furniture', 653),\n",
       " (1066, 'Furniture', 425),\n",
       " (1068, 'Furniture', 633),\n",
       " (1070, 'Furniture', 879),\n",
       " (1082, 'Furniture', 645),\n",
       " (1084, 'Furniture', 686)]"
      ]
     },
     "execution_count": 11,
     "metadata": {},
     "output_type": "execute_result"
    }
   ],
   "source": [
    "furniture = records.filter(lambda x: x[1] == \"Furniture\")\n",
    "furniture.collect()"
   ]
  },
  {
   "cell_type": "markdown",
   "id": "432dbe11",
   "metadata": {},
   "source": [
    "### 3. # of transactions that belong to the “Electronics” category"
   ]
  },
  {
   "cell_type": "code",
   "execution_count": 12,
   "id": "d55928da",
   "metadata": {},
   "outputs": [
    {
     "data": {
      "text/plain": [
       "24"
      ]
     },
     "execution_count": 12,
     "metadata": {},
     "output_type": "execute_result"
    }
   ],
   "source": [
    "electronics = records.filter(lambda x: x[1] == \"Electronics\")\n",
    "electronics.count()"
   ]
  },
  {
   "cell_type": "markdown",
   "id": "433bd859",
   "metadata": {},
   "source": [
    "### 4. Average amount for each category"
   ]
  },
  {
   "cell_type": "code",
   "execution_count": 14,
   "id": "d25355db",
   "metadata": {},
   "outputs": [
    {
     "data": {
      "text/plain": [
       "[('Furniture', 538.4090909090909),\n",
       " ('Clothing', 443.0),\n",
       " ('Electronics', 547.4166666666666),\n",
       " ('Books', 407.3636363636364),\n",
       " ('Toys', 536.0909090909091)]"
      ]
     },
     "execution_count": 14,
     "metadata": {},
     "output_type": "execute_result"
    }
   ],
   "source": [
    "category_amount_counts = records.map(lambda x: (x[1], (x[2], 1)))\n",
    "category_totals = category_amount_counts.reduceByKey(lambda a, b: (a[0] + b[0], a[1] + b[1]))\n",
    "category_averages = category_totals.mapValues(lambda x: x[0]/x[1])\n",
    "category_averages.collect()"
   ]
  },
  {
   "cell_type": "markdown",
   "id": "1a08598a",
   "metadata": {},
   "source": [
    "### 5. The highest amount and the corresponding product ID"
   ]
  },
  {
   "cell_type": "code",
   "execution_count": 16,
   "id": "f5df37cf",
   "metadata": {},
   "outputs": [
    {
     "data": {
      "text/plain": [
       "(1014, 'Electronics', 987)"
      ]
     },
     "execution_count": 16,
     "metadata": {},
     "output_type": "execute_result"
    }
   ],
   "source": [
    "max_amount = records.max(lambda x: x[2])\n",
    "max_amount"
   ]
  },
  {
   "cell_type": "markdown",
   "id": "f82ed9f4",
   "metadata": {},
   "source": [
    "### 6. the total number of unique categories"
   ]
  },
  {
   "cell_type": "code",
   "execution_count": 17,
   "id": "d116439b",
   "metadata": {},
   "outputs": [
    {
     "data": {
      "text/plain": [
       "5"
      ]
     },
     "execution_count": 17,
     "metadata": {},
     "output_type": "execute_result"
    }
   ],
   "source": [
    "unique_categories = records.map(lambda x: x[1]).distinct()\n",
    "unique_categories.count()"
   ]
  },
  {
   "cell_type": "markdown",
   "id": "4f149ce2",
   "metadata": {},
   "source": [
    "### 7. Product ID with the highest sale for each category"
   ]
  },
  {
   "cell_type": "code",
   "execution_count": 8,
   "id": "88f5d527",
   "metadata": {},
   "outputs": [
    {
     "data": {
      "text/plain": [
       "[(1070, 'Furniture'),\n",
       " (1021, 'Clothing'),\n",
       " (1014, 'Electronics'),\n",
       " (1007, 'Books'),\n",
       " (1028, 'Toys')]"
      ]
     },
     "execution_count": 8,
     "metadata": {},
     "output_type": "execute_result"
    }
   ],
   "source": [
    "category_product_amount = records.map(lambda x: (x[1], (x[0], x[2])))\n",
    "max_per_category = category_product_amount.reduceByKey(lambda a, b: a if a[1] > b [1] else b)\n",
    "max_per_category = max_per_category.map(lambda x: (x[1][0], x[0]))\n",
    "max_per_category.collect()"
   ]
  },
  {
   "cell_type": "markdown",
   "id": "6f0d5ae1",
   "metadata": {},
   "source": [
    "### 8. # products of which less than 300 were sold"
   ]
  },
  {
   "cell_type": "code",
   "execution_count": 9,
   "id": "2e7aab95",
   "metadata": {},
   "outputs": [
    {
     "data": {
      "text/plain": [
       "22"
      ]
     },
     "execution_count": 9,
     "metadata": {},
     "output_type": "execute_result"
    }
   ],
   "source": [
    "less_than_300 = records.filter(lambda x: x[2] < 300)\n",
    "less_than_300.count()"
   ]
  },
  {
   "cell_type": "markdown",
   "id": "5fbe5627",
   "metadata": {},
   "source": [
    "### 9. Transactions sorted by amount in descending order"
   ]
  },
  {
   "cell_type": "code",
   "execution_count": 10,
   "id": "adf64ca1",
   "metadata": {},
   "outputs": [
    {
     "data": {
      "text/plain": [
       "[(1014, 'Electronics', 987),\n",
       " (1039, 'Electronics', 941),\n",
       " (1024, 'Electronics', 930),\n",
       " (1021, 'Clothing', 894),\n",
       " (1069, 'Clothing', 883),\n",
       " (1081, 'Electronics', 881),\n",
       " (1070, 'Furniture', 879),\n",
       " (1028, 'Toys', 861),\n",
       " (1056, 'Furniture', 860),\n",
       " (1078, 'Electronics', 845),\n",
       " (1058, 'Toys', 836),\n",
       " (1032, 'Toys', 829),\n",
       " (1003, 'Electronics', 821),\n",
       " (1018, 'Furniture', 803),\n",
       " (1020, 'Toys', 800),\n",
       " (1073, 'Toys', 800),\n",
       " (1076, 'Clothing', 797),\n",
       " (1092, 'Electronics', 778),\n",
       " (1098, 'Electronics', 776),\n",
       " (1008, 'Electronics', 770),\n",
       " (1060, 'Furniture', 734),\n",
       " (1057, 'Furniture', 727),\n",
       " (1007, 'Books', 724),\n",
       " (1097, 'Clothing', 716),\n",
       " (1055, 'Toys', 693),\n",
       " (1084, 'Furniture', 686),\n",
       " (1088, 'Toys', 683),\n",
       " (1072, 'Toys', 678),\n",
       " (1042, 'Books', 668),\n",
       " (1064, 'Furniture', 653),\n",
       " (1065, 'Electronics', 651),\n",
       " (1091, 'Clothing', 647),\n",
       " (1082, 'Furniture', 645),\n",
       " (1068, 'Furniture', 633),\n",
       " (1015, 'Books', 627),\n",
       " (1030, 'Toys', 618),\n",
       " (1045, 'Electronics', 616),\n",
       " (1094, 'Toys', 587),\n",
       " (1061, 'Furniture', 586),\n",
       " (1025, 'Toys', 584),\n",
       " (1080, 'Clothing', 568),\n",
       " (1037, 'Furniture', 567),\n",
       " (1044, 'Toys', 558),\n",
       " (1043, 'Electronics', 545),\n",
       " (1049, 'Clothing', 545),\n",
       " (1038, 'Toys', 542),\n",
       " (1006, 'Furniture', 540),\n",
       " (1047, 'Furniture', 527),\n",
       " (1041, 'Furniture', 514),\n",
       " (1009, 'Furniture', 503),\n",
       " (1050, 'Books', 500),\n",
       " (1083, 'Clothing', 498),\n",
       " (1099, 'Clothing', 495),\n",
       " (1053, 'Electronics', 483),\n",
       " (1016, 'Electronics', 481),\n",
       " (1085, 'Toys', 468),\n",
       " (1013, 'Clothing', 459),\n",
       " (1019, 'Electronics', 453),\n",
       " (1074, 'Clothing', 440),\n",
       " (1005, 'Furniture', 429),\n",
       " (1034, 'Clothing', 427),\n",
       " (1066, 'Furniture', 425),\n",
       " (1071, 'Toys', 419),\n",
       " (1046, 'Books', 412),\n",
       " (1087, 'Books', 409),\n",
       " (1012, 'Toys', 400),\n",
       " (1067, 'Electronics', 366),\n",
       " (1048, 'Furniture', 364),\n",
       " (1004, 'Furniture', 357),\n",
       " (1075, 'Electronics', 356),\n",
       " (1077, 'Clothing', 353),\n",
       " (1023, 'Electronics', 352),\n",
       " (1010, 'Clothing', 331),\n",
       " (1036, 'Clothing', 330),\n",
       " (1033, 'Clothing', 329),\n",
       " (1054, 'Toys', 316),\n",
       " (1017, 'Books', 314),\n",
       " (1100, 'Toys', 301),\n",
       " (1079, 'Toys', 294),\n",
       " (1095, 'Books', 262),\n",
       " (1096, 'Books', 251),\n",
       " (1026, 'Electronics', 248),\n",
       " (1031, 'Electronics', 246),\n",
       " (1027, 'Toys', 243),\n",
       " (1029, 'Books', 229),\n",
       " (1011, 'Clothing', 227),\n",
       " (1089, 'Electronics', 218),\n",
       " (1093, 'Electronics', 186),\n",
       " (1090, 'Toys', 183),\n",
       " (1022, 'Furniture', 176),\n",
       " (1051, 'Furniture', 168),\n",
       " (1062, 'Electronics', 149),\n",
       " (1086, 'Clothing', 142),\n",
       " (1035, 'Toys', 101),\n",
       " (1040, 'Clothing', 87),\n",
       " (1063, 'Books', 85),\n",
       " (1002, 'Clothing', 78),\n",
       " (1001, 'Furniture', 69),\n",
       " (1059, 'Electronics', 59),\n",
       " (1052, 'Clothing', 57)]"
      ]
     },
     "execution_count": 10,
     "metadata": {},
     "output_type": "execute_result"
    }
   ],
   "source": [
    "sorted_by_amount = records.sortBy(lambda x: x[2], False)\n",
    "sorted_by_amount.collect()"
   ]
  }
 ],
 "metadata": {
  "kernelspec": {
   "display_name": "Python 3",
   "language": "python",
   "name": "python3"
  },
  "language_info": {
   "codemirror_mode": {
    "name": "ipython",
    "version": 3
   },
   "file_extension": ".py",
   "mimetype": "text/x-python",
   "name": "python",
   "nbconvert_exporter": "python",
   "pygments_lexer": "ipython3",
   "version": "3.10.12"
  }
 },
 "nbformat": 4,
 "nbformat_minor": 5
}
